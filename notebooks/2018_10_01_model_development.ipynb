{
 "cells": [
  {
   "cell_type": "markdown",
   "metadata": {},
   "source": [
    "# Model Development\n",
    "This notebook shows the process of developing the model. I'll render the git repo README, as it provides the high-level explanation"
   ]
  },
  {
   "cell_type": "code",
   "execution_count": 1,
   "metadata": {},
   "outputs": [
    {
     "data": {
      "text/markdown": [
       "# poverty_prediction\n",
       "Playing around with multiclass classification of Costa Rican household dataset (https://www.kaggle.com/c/costa-rican-household-poverty-prediction)\n",
       "\n",
       "## For model development, see\n",
       "`/notebooks/10_01_model_development.ipynb`\n",
       "- Algorithm comparison is /notebooks/2018_09_12_compare_algorithms.ipynb\n",
       "\n",
       "## Important note: \n",
       "My goal with this repository is **not to get the best Kaggle score**. I know, crazy, right? I'm more interested in learning best practices, such as building one pipeline for the entire model. Most if not all of the leading kernels (such as https://www.kaggle.com/willkoehrsen/a-complete-introduction-and-walkthrough) may do pipelines for a couple steps but not for the whole model. Indeed, I scored higher when I did all the transformers (including feature selection) once then scored cross validation on just the final estimator (rather than the entire pipeline).  \n",
       "\n",
       "## Outline + Lessons (see `/notebooks/10_01_model_development.ipynb`)\n",
       "- **Feature engineering:** \n",
       "    - Manually using logical features hurt the model, the best way seemed to be making many features and automating feature selection (or using a properly regularized estimator) \n",
       "- **Learning algorithm comparison**\n",
       "- **Feature selection:** \n",
       "    - `RFECV` seems to be super sensitive to settings, including the classifier used and hyperparameters therein. Even within cross-validation folds (ie, using the same classifier and hyperparameters), I saw between 13 and 143 features selected. This merits further investigation before using in a final pipeline.\n",
       "    - `SelectFromModel` is much quicker and consistent than `RFECV`, especially given that it exposes an important hyperparameter (`threshold`) for hyperparameter tuning. User note: make sure your feature importances are scaled appropriately for your `threshold`. Oddly, using the final estimator (`BaggedLGBMClassifier`) as the `SelectFromModel` classifier resulted in worse cross-validation scores. \n",
       "- **Early stopping + preliminary model evaluation**\n",
       "    - This was key, though it still results in overfitting\n",
       "- **Bagging**\n",
       "    - For simple (and untuned) classification algorithms, bagging had inconsistent results on bias and variance. However, for my implementation of `BaggedLGBMClassifier`, it significantly reduced both bias and variance. Hooray!\n",
       "    - I ended up writing a **custom sklearn estimator**, `BaggedLGBMClassifier`, because I couldn't figure out a way to use bagging *and* early_stopping with the sklearn API (e.g. `BaggingClassifier`). My implementation uses bagging of 5 `LGBMClassifier` estimators whose early_stopping is determined using the unsampled (aka \"out-of-bag\") observations as validation set (since bootstrapped sampling of the data leaves ~37% of the data unsampled).\n",
       "- **Model performance in pipeline**\n",
       "- **Hyperparameter tuning** \n",
       "    - I had mixed success using `Hyperopt` - while it takes a little more setup than `GridSearchCV`, I found it to be very useful and much quicker than `GridSearchCV`. \n",
       "    - *However,* I'm curious whether using the base implementation of `Hyperopt` can be dangerous. Unlike `GridSearchCV`, it uses only one train/test split of the data to find optimal hyperparameters - couldn't this lead to overfitting? I'm hoping that my use of bagging for the final estimator will avoid or mitigate potential overfitting. \n",
       "    \n",
       "    \n",
       "## Next steps\n",
       "- I haven't yet used sophisticated insights tools for my `BaggedLGBMClassifier`, such as permutation importance, partial dependence plots, and SHAP values. Here is a notebook I've used these tools for a simple Random Forest classifier: https://github.com/zwrankin/chicago_bicycle_share/blob/master/notebooks/2018_09_24_initial_data_exploration_and_models.ipynb\n",
       "- One of the obstacles to implementing these tools is figuring out how to get feature names out of pipelines with feature selection. \n",
       "- Build ensembles with `brew` (https://pypi.org/project/brew/) or `mlens` (https://github.com/flennerhag/mlens)\n",
       " \n",
       " \n",
       " ## Running model: \n",
       " Here is how to fit the tuned model outside of the notebook\n",
       "```\n",
       "import os\n",
       "import sys\n",
       "import pandas as pd\n",
       "import pickle\n",
       "\n",
       "# Add library to path \n",
       "module_path = os.path.abspath(os.path.join('..'))\n",
       "if module_path not in sys.path:\n",
       "    sys.path.append(module_path)\n",
       "    \n",
       "from lib.model import pipeline, pipeline_cv_score\n",
       "\n",
       "X_data = pd.read_hdf('../models/data.hdf', key='X_data')\n",
       "y_data = pd.read_hdf('../models/data.hdf', key='y_data')\n",
       "tuned_params = pickle.load(open(\"../models/tuned_params.p\", \"rb\"))\n",
       "\n",
       "pipeline.set_params(**tuned_params)\n",
       "\n",
       "pipeline_cv_score(pipeline, X_data, y_data)\n",
       "\n",
       "# pipeline.fit(X_data)\n",
       "# pipeline.predict(TEST_FEATURES_HERE)\n",
       "```\n",
       "\n"
      ],
      "text/plain": [
       "<IPython.core.display.Markdown object>"
      ]
     },
     "metadata": {},
     "output_type": "display_data"
    }
   ],
   "source": [
    "from IPython.display import display, Markdown\n",
    "\n",
    "with open('../README.md', 'r') as fh:\n",
    "    content = fh.read()\n",
    "\n",
    "display(Markdown(content))"
   ]
  },
  {
   "cell_type": "code",
   "execution_count": 2,
   "metadata": {},
   "outputs": [],
   "source": [
    "import os\n",
    "import sys\n",
    "import numpy as np\n",
    "import pandas as pd\n",
    "import matplotlib.pyplot as plt\n",
    "import seaborn as sns\n",
    "import pickle\n",
    "\n",
    "%matplotlib inline"
   ]
  },
  {
   "cell_type": "code",
   "execution_count": 3,
   "metadata": {},
   "outputs": [],
   "source": [
    "#sklearn utilities\n",
    "from sklearn.pipeline import Pipeline\n",
    "from sklearn.feature_selection import RFECV\n",
    "from sklearn.model_selection import train_test_split\n",
    "from sklearn.model_selection import cross_val_score\n",
    "from sklearn.metrics import f1_score\n",
    "\n",
    "# Learning algorithms\n",
    "from sklearn.svm import LinearSVC, SVC\n",
    "from sklearn.naive_bayes import GaussianNB\n",
    "from sklearn.neural_network import MLPClassifier\n",
    "from sklearn.linear_model import LogisticRegressionCV, RidgeClassifierCV\n",
    "from sklearn.discriminant_analysis import LinearDiscriminantAnalysis\n",
    "from sklearn.neighbors import KNeighborsClassifier\n",
    "from sklearn.ensemble import RandomForestClassifier, GradientBoostingClassifier\n",
    "from sklearn.ensemble import ExtraTreesClassifier\n",
    "\n",
    "from lightgbm import LGBMClassifier\n",
    "from xgboost import XGBClassifier\n",
    "\n",
    "# Hyperparameter tuning using optimization\n",
    "from hyperopt import hp\n",
    "from hyperopt import fmin, tpe, hp, STATUS_OK, Trials"
   ]
  },
  {
   "cell_type": "code",
   "execution_count": 4,
   "metadata": {},
   "outputs": [
    {
     "name": "stderr",
     "output_type": "stream",
     "text": [
      "c:\\users\\zrankin\\appdata\\local\\continuum\\miniconda3\\envs\\kaggle\\lib\\site-packages\\sklearn\\utils\\deprecation.py:58: DeprecationWarning: Class Imputer is deprecated; Imputer was deprecated in version 0.20 and will be removed in 0.22. Import impute.SimpleImputer from sklearn instead.\n",
      "  warnings.warn(msg, category=DeprecationWarning)\n",
      "c:\\users\\zrankin\\appdata\\local\\continuum\\miniconda3\\envs\\kaggle\\lib\\site-packages\\sklearn\\utils\\deprecation.py:58: DeprecationWarning: Class Imputer is deprecated; Imputer was deprecated in version 0.20 and will be removed in 0.22. Import impute.SimpleImputer from sklearn instead.\n",
      "  warnings.warn(msg, category=DeprecationWarning)\n",
      "c:\\users\\zrankin\\appdata\\local\\continuum\\miniconda3\\envs\\kaggle\\lib\\site-packages\\sklearn\\utils\\deprecation.py:58: DeprecationWarning: Class Imputer is deprecated; Imputer was deprecated in version 0.20 and will be removed in 0.22. Import impute.SimpleImputer from sklearn instead.\n",
      "  warnings.warn(msg, category=DeprecationWarning)\n"
     ]
    }
   ],
   "source": [
    "# Load from lib\n",
    "%load_ext autoreload \n",
    "%autoreload 2\n",
    "\n",
    "# Add library to path \n",
    "module_path = os.path.abspath(os.path.join('..'))\n",
    "if module_path not in sys.path:\n",
    "    sys.path.append(module_path)\n",
    "    \n",
    "from lib.model import kfold, f1_scorer\n",
    "from lib.model import load_and_process_training_data, load_and_process_test_data\n",
    "from lib.model import pipeline_cv_score\n",
    "from lib.visualization import report_cv_scores\n",
    "from lib.visualization import compare_algorithm_cv_scores, plot_algorithm_cv_scores\n",
    "from lib.visualization import plot_learning_curve, plot_feature_importances"
   ]
  },
  {
   "cell_type": "code",
   "execution_count": 5,
   "metadata": {},
   "outputs": [
    {
     "data": {
      "text/plain": [
       "Pipeline(memory=None,\n",
       "     steps=[('imputer', Imputer(axis=0, copy=True, missing_values='NaN', strategy='mean', verbose=0)), ('feature_scaler', StandardScaler(copy=True, with_mean=True, with_std=True)), ('selector', SelectFromModel(estimator=RandomForestClassifier(bootstrap=True, class_weight=None, criterion='gini',\n",
       "         ...dom_state=10, reg_alpha=0.42, reg_lambda=0.36,\n",
       "           subsample=0.99, subsample_for_bin=40000))])"
      ]
     },
     "execution_count": 5,
     "metadata": {},
     "output_type": "execute_result"
    }
   ],
   "source": [
    "from lib.model import pipeline\n",
    "pipeline"
   ]
  },
  {
   "cell_type": "markdown",
   "metadata": {},
   "source": [
    "# Feature engineering\n",
    "In `lib`, there are a handful of feature engineering functions, including ones that aggregate individual-level characteristics (`feature_engineer_aggregate_individuals`). \n",
    "I originally intended to include all feature engineering in the pipeline with the ability to control feature complexity with hyperparamters, and created the custom sklearn transformer `lib.pipeline.FeatureEngineer` which takes in a feature engineering function arg `func` and feature complexity arg `level`, used as follows:\n",
    "```\n",
    "from sklearn.pipeline import FeatureUnion\n",
    "from .preprocessing import feature_engineer_rent, feature_engineer_education, feature_engineer_demographics, feature_engineer_house_rankings, feature_engineer_house_characteristics, feature_engineer_assets\n",
    "from .pipeline import FeatureEngineer\n",
    "\n",
    "FeatureUnion(transformer_list=[\n",
    "    ('extract_rent', FeatureEngineer(feature_engineer_rent, level='low')),\n",
    "    ('extract_educ', FeatureEngineer(feature_engineer_education, level='low')),\n",
    "    ('extract_demog', FeatureEngineer(feature_engineer_demographics, level='medium')),\n",
    "    ('extract_houseq', FeatureEngineer(feature_engineer_house_rankings, level='low')),\n",
    "    ('extract_housec', FeatureEngineer(feature_engineer_house_characteristics, level='medium')),\n",
    "    ('extract_assets', FeatureEngineer(feature_engineer_assets, level='low'))\n",
    "])\n",
    "```\n",
    "\n",
    "**However**, I ended up doing all the feature engineering as preprocessing before the pipeline, because\n",
    "- None of the engineering functions would behave differently in the pipeline\n",
    "- Aggregation is slow, so doing it in the pipeline significanlty slows training and hyperparameter tuning\n",
    "- The control over feature complexity wasn't important, as it was better to create many complex features and let feature selection pare density down. "
   ]
  },
  {
   "cell_type": "code",
   "execution_count": 6,
   "metadata": {},
   "outputs": [
    {
     "data": {
      "text/plain": [
       "(2973, 198)"
      ]
     },
     "execution_count": 6,
     "metadata": {},
     "output_type": "execute_result"
    }
   ],
   "source": [
    "X_data, y_data = load_and_process_training_data()\n",
    "y_data = y_data - 1  #normalize to 0 to avoid bugs\n",
    "X_data.to_hdf('../models/data.hdf', key='X_data')\n",
    "y_data.to_hdf('../models/data.hdf', key='y_data')\n",
    "\n",
    "X_data.shape"
   ]
  },
  {
   "cell_type": "markdown",
   "metadata": {},
   "source": [
    "# Learning algorithm comparison\n",
    "When comparing these untuned models, the simpler models perform better. However, we know from expereinec that gradient boosted algorithms will gain more from hyperparameter tuning, so we will move forward with them. Indeed, this comparison is not very meaningful, but we could revisit with tuning later. "
   ]
  },
  {
   "cell_type": "code",
   "execution_count": 7,
   "metadata": {},
   "outputs": [
    {
     "data": {
      "text/plain": [
       "Pipeline(memory=None,\n",
       "     steps=[('imputer', Imputer(axis=0, copy=True, missing_values='NaN', strategy='mean', verbose=0)), ('feature_scaler', StandardScaler(copy=True, with_mean=True, with_std=True))])"
      ]
     },
     "execution_count": 7,
     "metadata": {},
     "output_type": "execute_result"
    }
   ],
   "source": [
    "algs = [RandomForestClassifier, ExtraTreesClassifier,\n",
    "        GradientBoostingClassifier, LGBMClassifier, XGBClassifier,\n",
    "        LinearSVC, SVC, GaussianNB, MLPClassifier, LogisticRegressionCV, RidgeClassifierCV, \n",
    "       LinearDiscriminantAnalysis, KNeighborsClassifier]\n",
    "\n",
    "transformer_pipeline = Pipeline(pipeline.steps[:2]) #just want imputer and scaler\n",
    "transformer_pipeline"
   ]
  },
  {
   "cell_type": "code",
   "execution_count": 8,
   "metadata": {},
   "outputs": [
    {
     "name": "stdout",
     "output_type": "stream",
     "text": [
      "RandomForestClassifier CV Score: 0.35332 with std: 0.02919\n",
      "ExtraTreesClassifier CV Score: 0.34897 with std: 0.03835\n",
      "GradientBoostingClassifier CV Score: 0.28423 with std: 0.07596\n",
      "LGBMClassifier CV Score: 0.2773 with std: 0.07945\n",
      "XGBClassifier CV Score: 0.28183 with std: 0.07626\n",
      "LinearSVC CV Score: 0.27267 with std: 0.06991\n",
      "SVC CV Score: 0.27848 with std: 0.03909\n",
      "GaussianNB CV Score: 0.20335 with std: 0.0832\n",
      "MLPClassifier CV Score: 0.28749 with std: 0.07949\n",
      "LogisticRegressionCV CV Score: 0.26222 with std: 0.04151\n",
      "RidgeClassifierCV CV Score: 0.29926 with std: 0.05365\n",
      "LinearDiscriminantAnalysis CV Score: 0.30419 with std: 0.11003\n",
      "KNeighborsClassifier CV Score: 0.34518 with std: 0.02546\n",
      "Wall time: 2min 2s\n"
     ]
    }
   ],
   "source": [
    "%%time\n",
    "model_results = compare_algorithm_cv_scores(transformer_pipeline, algs, X_data, y_data, kfold, f1_scorer)"
   ]
  },
  {
   "cell_type": "code",
   "execution_count": 9,
   "metadata": {},
   "outputs": [
    {
     "data": {
      "image/png": "[encoded data removed]",
      "text/plain": [
       "<Figure size 576x432 with 1 Axes>"
      ]
     },
     "metadata": {
      "needs_background": "light"
     },
     "output_type": "display_data"
    }
   ],
   "source": [
    "plot_algorithm_cv_scores(model_results)"
   ]
  },
  {
   "cell_type": "markdown",
   "metadata": {},
   "source": [
    "# Feature selection"
   ]
  },
  {
   "cell_type": "code",
   "execution_count": 10,
   "metadata": {},
   "outputs": [],
   "source": [
    "def plot_feature_selection(selector):\n",
    "    \"\"\"plots recursive feature selection results from a fitted RFECV\"\"\"\n",
    "    n_features = selector.n_features_\n",
    "    \n",
    "    # Plot number of features VS. cross-validation scores\n",
    "    plt.figure()\n",
    "    plt.title(f'Feature Selection Scores: best number = {n_features}')\n",
    "    plt.xlabel(\"Step\")\n",
    "    plt.ylabel(\"Cross-validation Macro F1 Score)\")\n",
    "    plt.plot(range(1, len(selector.grid_scores_) + 1), selector.grid_scores_)\n",
    "    plt.show()"
   ]
  },
  {
   "cell_type": "code",
   "execution_count": null,
   "metadata": {},
   "outputs": [],
   "source": [
    "%%time\n",
    "clf = ExtraTreesClassifier(random_state = 10, n_estimators = 100, n_jobs = -1)\n",
    "selector = RFECV(clf, step=5, cv=kfold, scoring=f1_scorer, n_jobs=-1)\n",
    "\n",
    "X_transformed = transformer_pipeline.fit_transform(X_data)\n",
    "# Convert back to dataframe\n",
    "X_transformed = pd.DataFrame(X_transformed, columns = X_data.columns)\n",
    "\n",
    "selector.fit(X_transformed, y_data)\n",
    "plot_feature_selection(selector)"
   ]
  },
  {
   "cell_type": "code",
   "execution_count": null,
   "metadata": {},
   "outputs": [],
   "source": [
    "train_selected = selector.transform(X_transformed)\n",
    "# Convert back to dataframe\n",
    "selected_features = X_transformed.columns[np.where(selector.ranking_==1)]\n",
    "train_selected = pd.DataFrame(train_selected, columns = selected_features)\n",
    "print(selected_features[:10])\n",
    "\n",
    "train_X, val_X, train_y, val_y = train_test_split(train_selected, y_data, test_size=0.25,\n",
    "                                                 random_state=10)\n",
    "\n",
    "# Save \n",
    "train_X.to_hdf('../models/training.hdf', key='train_X')\n",
    "train_y.to_hdf('../models/training.hdf', key='train_y')\n",
    "val_X.to_hdf('../models/training.hdf', key='val_X')\n",
    "val_y.to_hdf('../models/training.hdf', key='val_y')"
   ]
  },
  {
   "cell_type": "markdown",
   "metadata": {},
   "source": [
    "# Early stopping & preliminary model evaluation\n",
    "**NOTE** this is sorta cheating, in the sense that we're cross-validating the estimator but NOT the transformers. This will all be in a pipeline later. "
   ]
  },
  {
   "cell_type": "code",
   "execution_count": null,
   "metadata": {},
   "outputs": [],
   "source": [
    "params = {'boosting_type': 'dart', \n",
    "                  'colsample_bytree': 0.88, \n",
    "                  'learning_rate': 0.028, \n",
    "                   'min_child_samples': 10, \n",
    "                   'num_leaves': 36, 'reg_alpha': 0.76, \n",
    "                   'reg_lambda': 0.43, \n",
    "                   'subsample_for_bin': 40000, \n",
    "                   'subsample': 0.54, \n",
    "                   'class_weight': 'balanced'}\n",
    "\n",
    "fit_params = {\"eval_set\": [(val_X, val_y)], \n",
    "              \"early_stopping_rounds\": 10, \n",
    "              \"verbose\": False}\n",
    "\n",
    "model = LGBMClassifier(**params, objective = 'multiclass', \n",
    "                               n_jobs = -1, n_estimators = 10000,\n",
    "                               random_state = 10)"
   ]
  },
  {
   "cell_type": "code",
   "execution_count": null,
   "metadata": {},
   "outputs": [],
   "source": [
    "%%time\n",
    "cv_score = cross_val_score(model, train_X, train_y, cv=kfold, scoring=f1_scorer, n_jobs=-1, fit_params=fit_params)\n",
    "print(f'Cross Validation F1 Score = {round(cv_score.mean(), 4)} with std = {round(cv_score.std(), 4)}')"
   ]
  },
  {
   "cell_type": "code",
   "execution_count": null,
   "metadata": {},
   "outputs": [],
   "source": [
    "model.fit(train_X, train_y, **fit_params)\n",
    "\n",
    "# Feature importances into a dataframe\n",
    "features = train_X.columns\n",
    "feature_importances = pd.DataFrame({'feature': features, 'importance': model.feature_importances_})\n",
    "feature_importances = feature_importances.sort_values('importance', ascending=False)\n",
    "\n",
    "plot_feature_importances(feature_importances, n=30, threshold=0.95)"
   ]
  },
  {
   "cell_type": "code",
   "execution_count": null,
   "metadata": {},
   "outputs": [],
   "source": [
    "%%time\n",
    "plot_learning_curve(model, 'Learning Curves', train_X, train_y, cv=kfold, scoring=f1_scorer)"
   ]
  },
  {
   "cell_type": "markdown",
   "metadata": {},
   "source": [
    "# Bagging"
   ]
  },
  {
   "cell_type": "code",
   "execution_count": null,
   "metadata": {},
   "outputs": [],
   "source": [
    "from lib.pipeline import BaggedLGBMClassifier"
   ]
  },
  {
   "cell_type": "code",
   "execution_count": null,
   "metadata": {},
   "outputs": [],
   "source": [
    "bagged_model = BaggedLGBMClassifier(**params)\n",
    "bagged_model"
   ]
  },
  {
   "cell_type": "code",
   "execution_count": null,
   "metadata": {},
   "outputs": [],
   "source": [
    "%%time\n",
    "cv_score = cross_val_score(bagged_model, train_X, train_y, cv=kfold, scoring=f1_scorer, n_jobs=-1)\n",
    "print(f'Cross Validation F1 Score = {round(cv_score.mean(), 4)} with std = {round(cv_score.std(), 4)}')"
   ]
  },
  {
   "cell_type": "markdown",
   "metadata": {},
   "source": [
    "# Model performance in pipeline\n",
    "It seems that model performance lags slightly in the full pipeline, but it's hard to tell if it's just noise. It's promising that we weren't overly optimistic. "
   ]
  },
  {
   "cell_type": "code",
   "execution_count": null,
   "metadata": {},
   "outputs": [],
   "source": [
    "%%time\n",
    "cv_score = cross_val_score(pipeline, X_data, y_data, cv=kfold, scoring=f1_scorer, n_jobs=-1)\n",
    "print(f'Cross Validation F1 Score = {round(cv_score.mean(), 4)} with std = {round(cv_score.std(), 4)}')"
   ]
  },
  {
   "cell_type": "markdown",
   "metadata": {},
   "source": [
    "# Hyperparameter Tuning using Hyperopt\n",
    "I have found that different runs get vastly different optimal parameters (even though `random_state` was set for the train/val split. Not sure if there's a way to set seed for `hyperopt`. "
   ]
  },
  {
   "cell_type": "code",
   "execution_count": null,
   "metadata": {},
   "outputs": [],
   "source": [
    "# need to split using raw data\n",
    "X_train, X_val, y_train, y_val = train_test_split(X_data, y_data, test_size=0.25,\n",
    "                                                 random_state=10)"
   ]
  },
  {
   "cell_type": "code",
   "execution_count": null,
   "metadata": {},
   "outputs": [],
   "source": [
    "from lib.model import pipeline # make sure we reload defaults\n",
    "params = pipeline.get_params() #use the defaults\n",
    "def objective(space, params=params, noisy=False):\n",
    "    if noisy: print(f'Training with params {space}')\n",
    "\n",
    "    params.update(space)\n",
    "    # hp.quniform sometimes returns strings (https://github.com/hyperopt/hyperopt/issues/253)\n",
    "    params['model__num_leaves'] = int(params['model__num_leaves'])\n",
    "    params['model__min_child_samples'] = int(params['model__min_child_samples'])\n",
    "    params['model__max_depth'] = int(params['model__max_depth'])\n",
    "\n",
    "    pipeline.set_params(**params)\n",
    "    \n",
    "    pipeline.fit(X_train, y_train)\n",
    "    predictions = pipeline.predict(X_val)\n",
    "    score = f1_score(y_val, predictions, average = 'macro')\n",
    "    \n",
    "    if noisy: print(f'f1 score: {score}')\n",
    "    \n",
    "    return{'loss':1-score, 'status': STATUS_OK }\n",
    "\n",
    "# Note - may want to widen ranges, but it's slow so I'll keep them narrow for now\n",
    "space ={'selector__threshold': hp.uniform('selector__threshold', 0.005, 0.015),\n",
    "        'model__limit_max_depth': hp.choice('model__limit_max_depth', [True, False]),\n",
    "        'model__max_depth': hp.quniform('model__max_depth', 15, 25, 1), \n",
    "        'model__num_leaves': hp.quniform('model__num_leaves', 40, 60, 1),\n",
    "        'model__min_child_samples':hp.quniform('model__min_child_samples', 12, 18, 1),\n",
    "        'model__learning_rate': hp.uniform('model__learning_rate', 0.05, 0.1),\n",
    "        'model__reg_alpha': hp.uniform('model__reg_alpha', 0.3, 0.6),\n",
    "        'model__reg_lambda': hp.uniform('model__reg_lambda', 0.2, 0.5),\n",
    "        'model__subsample': hp.uniform('model__subsample', 0.80, 1.0),\n",
    "        'model__colsample_bytree': hp.uniform('model__colsample_bytree', 0.5, 1.0),\n",
    "       }\n",
    "\n",
    "seed = 42\n",
    "trials = Trials()"
   ]
  },
  {
   "cell_type": "code",
   "execution_count": null,
   "metadata": {},
   "outputs": [],
   "source": [
    "%%capture --no-stdout\n",
    "%%time\n",
    "# Seems to run just over 1 min per 10 iterations for full pipeline\n",
    "best = fmin(fn=objective,\n",
    "            space=space,\n",
    "            algo=tpe.suggest,\n",
    "            max_evals=100,\n",
    "            trials=trials,\n",
    "            rstate= np.random.RandomState(seed))\n",
    "\n",
    "tuned_params = params.copy()\n",
    "tuned_params.update(best)\n",
    "tuned_params['model__num_leaves'] = int(tuned_params['model__num_leaves'])\n",
    "tuned_params['model__min_child_samples'] = int(tuned_params['model__min_child_samples'])\n",
    "tuned_params['model__max_depth'] = int(tuned_params['model__max_depth'])"
   ]
  },
  {
   "cell_type": "code",
   "execution_count": null,
   "metadata": {},
   "outputs": [],
   "source": [
    "print(best)"
   ]
  },
  {
   "cell_type": "code",
   "execution_count": null,
   "metadata": {},
   "outputs": [],
   "source": [
    "pickle.dump(tuned_params, open(\"../models/tuned_params.p\", \"wb\"))"
   ]
  },
  {
   "cell_type": "code",
   "execution_count": null,
   "metadata": {},
   "outputs": [],
   "source": [
    "# Final cross-validation score\n",
    "pipeline.set_params(**tuned_params)\n",
    "cv_score = cross_val_score(pipeline, X_data, y_data, cv=kfold, scoring=f1_scorer, n_jobs=-1)\n",
    "print(f'Cross Validation F1 Score = {round(cv_score.mean(), 4)} with std = {round(cv_score.std(), 4)}')"
   ]
  },
  {
   "cell_type": "code",
   "execution_count": null,
   "metadata": {},
   "outputs": [],
   "source": []
  },
  {
   "cell_type": "code",
   "execution_count": null,
   "metadata": {},
   "outputs": [],
   "source": []
  },
  {
   "cell_type": "markdown",
   "metadata": {},
   "source": [
    "# Scratch"
   ]
  },
  {
   "cell_type": "code",
   "execution_count": null,
   "metadata": {},
   "outputs": [],
   "source": [
    "# Code to do hyperopt on an estimator (rather than the whole pipeline)"
   ]
  },
  {
   "cell_type": "code",
   "execution_count": null,
   "metadata": {},
   "outputs": [],
   "source": [
    "# def objective(space, params=params, noisy=False):\n",
    "#     if noisy: print(f'Training with params {space}')\n",
    "\n",
    "#     params.update(space)\n",
    "#     # hp.quniform sometimes returns strings (https://github.com/hyperopt/hyperopt/issues/253)\n",
    "#     params['num_leaves'] = int(params['num_leaves'])\n",
    "#     params['min_child_samples'] = int(params['min_child_samples'])\n",
    "#     params['max_depth'] = int(params['max_depth'])\n",
    "    \n",
    "#     if params['num_leaves'] <3:\n",
    "#         import pdb; pdb.set_trace()\n",
    "\n",
    "#     model = BaggedLGBMClassifier(**params)\n",
    "    \n",
    "#     model.fit(train_X, train_y)\n",
    "#     predictions = model.predict(val_X)\n",
    "#     score = f1_score(val_y, predictions, average = 'macro')\n",
    "    \n",
    "#     if noisy: print(f'f1 score: {score}')\n",
    "    \n",
    "#     return{'loss':1-score, 'status': STATUS_OK }\n",
    "\n",
    "# space ={'limit_max_depth': hp.choice('limit_max_depth', [True, False]),\n",
    "#         'max_depth': hp.quniform('max_depth', 4, 40, 1), \n",
    "#         'num_leaves': hp.quniform('num_leaves', 3, 50, 1),\n",
    "#         'min_child_samples':hp.quniform('min_child_samples', 5, 15, 1),\n",
    "#         'learning_rate': hp.uniform('learning_rate', 0.01, 0.2),\n",
    "#         'reg_alpha': hp.uniform('reg_alpha', 0.0, 1.0),\n",
    "#         'reg_lambda': hp.uniform('reg_lambda', 0.0, 1.0),\n",
    "#         'subsample': hp.uniform('subsample', 0.50, 1.0),\n",
    "#         'colsample_bytree': hp.uniform('colsample_bytree', 0.5, 1.0),}\n",
    "\n",
    "# seed = 42\n",
    "# trials = Trials()"
   ]
  },
  {
   "cell_type": "code",
   "execution_count": null,
   "metadata": {},
   "outputs": [],
   "source": [
    "# %%capture --no-stdout\n",
    "# %%time\n",
    "# best = fmin(fn=objective,\n",
    "#             space=space,\n",
    "#             algo=tpe.suggest,\n",
    "#             max_evals=10,\n",
    "#             trials=trials,\n",
    "#             rstate= np.random.RandomState(seed))\n",
    "\n",
    "# best['num_leaves'] = int(best['num_leaves'])\n",
    "# best['min_child_samples'] = int(best['min_child_samples'])\n",
    "# best['max_depth'] = int(best['max_depth'])"
   ]
  },
  {
   "cell_type": "code",
   "execution_count": null,
   "metadata": {},
   "outputs": [],
   "source": []
  }
 ],
 "metadata": {
  "kernelspec": {
   "display_name": "Python 3",
   "language": "python",
   "name": "python3"
  },
  "language_info": {
   "codemirror_mode": {
    "name": "ipython",
    "version": 3
   },
   "file_extension": ".py",
   "mimetype": "text/x-python",
   "name": "python",
   "nbconvert_exporter": "python",
   "pygments_lexer": "ipython3",
   "version": "3.6.6"
  }
 },
 "nbformat": 4,
 "nbformat_minor": 2
}
