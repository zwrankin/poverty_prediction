{
 "cells": [
  {
   "cell_type": "markdown",
   "metadata": {},
   "source": [
    "# Second model \n",
    "- Refactor pre-processing and pipeline code into '../lib'\n",
    "- For now, use **RandomForestClassifier** because it's fairly quick, and has comparable performance according to **2018_09_12_compare_algorithms.ipynb** and therefore is good for testing new feature engineering, etc"
   ]
  },
  {
   "cell_type": "markdown",
   "metadata": {},
   "source": [
    "# TODO - \n",
    "- more complex pipeline components. Good example of parallel FeatureUnion\n",
    "http://scikit-learn.org/stable/auto_examples/hetero_feature_union.html#sphx-glr-auto-examples-hetero-feature-union-py\n",
    "\n",
    "## Features to engineer\n",
    "- PCA or other dimensionality reduction on all the housing material features"
   ]
  },
  {
   "cell_type": "code",
   "execution_count": 1,
   "metadata": {},
   "outputs": [],
   "source": [
    "%load_ext autoreload \n",
    "%autoreload 2"
   ]
  },
  {
   "cell_type": "code",
   "execution_count": 2,
   "metadata": {},
   "outputs": [],
   "source": [
    "import os\n",
    "import sys\n",
    "import numpy as np\n",
    "import pandas as pd\n",
    "import matplotlib.pyplot as plt\n",
    "import seaborn as sns\n",
    "\n",
    "%matplotlib inline"
   ]
  },
  {
   "cell_type": "code",
   "execution_count": 3,
   "metadata": {},
   "outputs": [
    {
     "name": "stderr",
     "output_type": "stream",
     "text": [
      "c:\\users\\zrankin\\appdata\\local\\continuum\\miniconda3\\envs\\kaggle\\lib\\site-packages\\sklearn\\ensemble\\weight_boosting.py:29: DeprecationWarning: numpy.core.umath_tests is an internal NumPy module and should not be imported. It will be removed in a future NumPy release.\n",
      "  from numpy.core.umath_tests import inner1d\n"
     ]
    }
   ],
   "source": [
    "from sklearn.preprocessing import Imputer\n",
    "from sklearn.preprocessing import StandardScaler\n",
    "from sklearn.feature_selection import SelectFromModel, RFECV\n",
    "from sklearn.pipeline import Pipeline\n",
    "\n",
    "from sklearn.ensemble import RandomForestClassifier, ExtraTreesClassifier\n",
    "\n",
    "from sklearn.model_selection import GridSearchCV\n",
    "from sklearn.model_selection import StratifiedKFold\n",
    "from sklearn.model_selection import cross_val_score, cross_val_predict\n",
    "\n",
    "from sklearn.externals import joblib"
   ]
  },
  {
   "cell_type": "code",
   "execution_count": 4,
   "metadata": {},
   "outputs": [],
   "source": [
    "module_path = os.path.abspath(os.path.join('..'))\n",
    "if module_path not in sys.path:\n",
    "    sys.path.append(module_path)\n",
    "\n",
    "from lib.pipeline import kfold, f1_scorer, FeatureExtractor, LazyProcessing\n",
    "from lib.visualization import plot_confusion_matrix, plot_learning_curve"
   ]
  },
  {
   "cell_type": "code",
   "execution_count": 5,
   "metadata": {},
   "outputs": [],
   "source": [
    "train = pd.read_csv('../input/train.csv')\n",
    "test = pd.read_csv('../input/test.csv')"
   ]
  },
  {
   "cell_type": "markdown",
   "metadata": {},
   "source": [
    "## Important: \n",
    "According to the competition (https://www.kaggle.com/c/costa-rican-household-poverty-prediction/discussion/61403), **ONLY heads of household are used in the scoring**. So we should only fit and evaluate our model on these observations (though in preprocessing we may use all individuals in household-level feature engineering). \n",
    "We do, however, need to keep all test data observations for submission. (here is a kernel showing some exploration of discrepancy of labels within households and some individuals without a head of household, but should be irrelevant if we only train on heads https://www.kaggle.com/willkoehrsen/a-complete-introduction-and-walkthrough)"
   ]
  },
  {
   "cell_type": "code",
   "execution_count": 6,
   "metadata": {},
   "outputs": [],
   "source": [
    "test_features = ['meaneduc', 'no_primary_education', 'hh_max_rez_esc_scaled'] + [\n",
    "    'wall_quality', 'roof_quality', 'floor_quality', 'house_material_vulnerability'] + [\n",
    "    'house_utility_vulnerability', 'sanitario1', 'pisonotiene', 'cielorazo', 'abastaguano', 'noelec', 'sanitario1'] + [\n",
    "    'asset_index', 'v18q', 'v18q1', 'refrig', 'computer', 'television'] + [\n",
    "    'tamviv', 'hogar_nin', 'overcrowding'] + [\n",
    "    'calc_dependency', 'calc_dependency_bin'] + [\n",
    "    'phones_pc', 'tablets_pc', 'rooms_pc', 'rent_pc'] + [\n",
    "    'v2a1', 'v2a1_missing']"
   ]
  },
  {
   "cell_type": "code",
   "execution_count": 7,
   "metadata": {},
   "outputs": [
    {
     "data": {
      "text/html": [
       "<div>\n",
       "<style scoped>\n",
       "    .dataframe tbody tr th:only-of-type {\n",
       "        vertical-align: middle;\n",
       "    }\n",
       "\n",
       "    .dataframe tbody tr th {\n",
       "        vertical-align: top;\n",
       "    }\n",
       "\n",
       "    .dataframe thead th {\n",
       "        text-align: right;\n",
       "    }\n",
       "</style>\n",
       "<table border=\"1\" class=\"dataframe\">\n",
       "  <thead>\n",
       "    <tr style=\"text-align: right;\">\n",
       "      <th></th>\n",
       "      <th>meaneduc</th>\n",
       "      <th>no_primary_education</th>\n",
       "      <th>hh_max_rez_esc_scaled</th>\n",
       "      <th>wall_quality</th>\n",
       "      <th>roof_quality</th>\n",
       "      <th>floor_quality</th>\n",
       "      <th>house_material_vulnerability</th>\n",
       "      <th>house_utility_vulnerability</th>\n",
       "      <th>sanitario1</th>\n",
       "      <th>pisonotiene</th>\n",
       "      <th>...</th>\n",
       "      <th>hogar_nin</th>\n",
       "      <th>overcrowding</th>\n",
       "      <th>calc_dependency</th>\n",
       "      <th>calc_dependency_bin</th>\n",
       "      <th>phones_pc</th>\n",
       "      <th>tablets_pc</th>\n",
       "      <th>rooms_pc</th>\n",
       "      <th>rent_pc</th>\n",
       "      <th>v2a1</th>\n",
       "      <th>v2a1_missing</th>\n",
       "    </tr>\n",
       "  </thead>\n",
       "  <tbody>\n",
       "    <tr>\n",
       "      <th>0</th>\n",
       "      <td>10.0</td>\n",
       "      <td>0</td>\n",
       "      <td>NaN</td>\n",
       "      <td>1</td>\n",
       "      <td>0</td>\n",
       "      <td>0</td>\n",
       "      <td>2</td>\n",
       "      <td>0</td>\n",
       "      <td>0</td>\n",
       "      <td>0</td>\n",
       "      <td>...</td>\n",
       "      <td>0</td>\n",
       "      <td>1.000000</td>\n",
       "      <td>0.0</td>\n",
       "      <td>0</td>\n",
       "      <td>1.00</td>\n",
       "      <td>0.00</td>\n",
       "      <td>3.00</td>\n",
       "      <td>190000.0</td>\n",
       "      <td>190000.0</td>\n",
       "      <td>0</td>\n",
       "    </tr>\n",
       "    <tr>\n",
       "      <th>1</th>\n",
       "      <td>12.0</td>\n",
       "      <td>0</td>\n",
       "      <td>NaN</td>\n",
       "      <td>1</td>\n",
       "      <td>1</td>\n",
       "      <td>1</td>\n",
       "      <td>0</td>\n",
       "      <td>0</td>\n",
       "      <td>0</td>\n",
       "      <td>0</td>\n",
       "      <td>...</td>\n",
       "      <td>0</td>\n",
       "      <td>1.000000</td>\n",
       "      <td>1.0</td>\n",
       "      <td>1</td>\n",
       "      <td>1.00</td>\n",
       "      <td>1.00</td>\n",
       "      <td>4.00</td>\n",
       "      <td>135000.0</td>\n",
       "      <td>135000.0</td>\n",
       "      <td>0</td>\n",
       "    </tr>\n",
       "    <tr>\n",
       "      <th>2</th>\n",
       "      <td>11.0</td>\n",
       "      <td>0</td>\n",
       "      <td>NaN</td>\n",
       "      <td>1</td>\n",
       "      <td>2</td>\n",
       "      <td>2</td>\n",
       "      <td>0</td>\n",
       "      <td>0</td>\n",
       "      <td>0</td>\n",
       "      <td>0</td>\n",
       "      <td>...</td>\n",
       "      <td>0</td>\n",
       "      <td>0.500000</td>\n",
       "      <td>1.0</td>\n",
       "      <td>1</td>\n",
       "      <td>0.00</td>\n",
       "      <td>0.00</td>\n",
       "      <td>8.00</td>\n",
       "      <td>0.0</td>\n",
       "      <td>0.0</td>\n",
       "      <td>0</td>\n",
       "    </tr>\n",
       "    <tr>\n",
       "      <th>5</th>\n",
       "      <td>11.0</td>\n",
       "      <td>0</td>\n",
       "      <td>0.090909</td>\n",
       "      <td>2</td>\n",
       "      <td>2</td>\n",
       "      <td>2</td>\n",
       "      <td>0</td>\n",
       "      <td>0</td>\n",
       "      <td>0</td>\n",
       "      <td>0</td>\n",
       "      <td>...</td>\n",
       "      <td>2</td>\n",
       "      <td>1.333333</td>\n",
       "      <td>1.0</td>\n",
       "      <td>1</td>\n",
       "      <td>0.75</td>\n",
       "      <td>0.25</td>\n",
       "      <td>1.25</td>\n",
       "      <td>45000.0</td>\n",
       "      <td>180000.0</td>\n",
       "      <td>0</td>\n",
       "    </tr>\n",
       "    <tr>\n",
       "      <th>8</th>\n",
       "      <td>10.0</td>\n",
       "      <td>0</td>\n",
       "      <td>0.200000</td>\n",
       "      <td>0</td>\n",
       "      <td>0</td>\n",
       "      <td>1</td>\n",
       "      <td>2</td>\n",
       "      <td>0</td>\n",
       "      <td>0</td>\n",
       "      <td>0</td>\n",
       "      <td>...</td>\n",
       "      <td>2</td>\n",
       "      <td>4.000000</td>\n",
       "      <td>1.0</td>\n",
       "      <td>1</td>\n",
       "      <td>0.25</td>\n",
       "      <td>0.00</td>\n",
       "      <td>0.50</td>\n",
       "      <td>32500.0</td>\n",
       "      <td>130000.0</td>\n",
       "      <td>0</td>\n",
       "    </tr>\n",
       "  </tbody>\n",
       "</table>\n",
       "<p>5 rows × 31 columns</p>\n",
       "</div>"
      ],
      "text/plain": [
       "   meaneduc  no_primary_education  hh_max_rez_esc_scaled  wall_quality  \\\n",
       "0      10.0                     0                    NaN             1   \n",
       "1      12.0                     0                    NaN             1   \n",
       "2      11.0                     0                    NaN             1   \n",
       "5      11.0                     0               0.090909             2   \n",
       "8      10.0                     0               0.200000             0   \n",
       "\n",
       "   roof_quality  floor_quality  house_material_vulnerability  \\\n",
       "0             0              0                             2   \n",
       "1             1              1                             0   \n",
       "2             2              2                             0   \n",
       "5             2              2                             0   \n",
       "8             0              1                             2   \n",
       "\n",
       "   house_utility_vulnerability  sanitario1  pisonotiene      ...       \\\n",
       "0                            0           0            0      ...        \n",
       "1                            0           0            0      ...        \n",
       "2                            0           0            0      ...        \n",
       "5                            0           0            0      ...        \n",
       "8                            0           0            0      ...        \n",
       "\n",
       "   hogar_nin  overcrowding  calc_dependency  calc_dependency_bin  phones_pc  \\\n",
       "0          0      1.000000              0.0                    0       1.00   \n",
       "1          0      1.000000              1.0                    1       1.00   \n",
       "2          0      0.500000              1.0                    1       0.00   \n",
       "5          2      1.333333              1.0                    1       0.75   \n",
       "8          2      4.000000              1.0                    1       0.25   \n",
       "\n",
       "   tablets_pc  rooms_pc   rent_pc      v2a1  v2a1_missing  \n",
       "0        0.00      3.00  190000.0  190000.0             0  \n",
       "1        1.00      4.00  135000.0  135000.0             0  \n",
       "2        0.00      8.00       0.0       0.0             0  \n",
       "5        0.25      1.25   45000.0  180000.0             0  \n",
       "8        0.00      0.50   32500.0  130000.0             0  \n",
       "\n",
       "[5 rows x 31 columns]"
      ]
     },
     "execution_count": 7,
     "metadata": {},
     "output_type": "execute_result"
    }
   ],
   "source": [
    "#NOTE - preprocessing has not yet been intelligently integrated into the pipeline\n",
    "# It is possible to use the LazyProcessing transformer, but it is clunky and slow, \n",
    "# so for now I'll do manual preprocessing as a script\n",
    "from lib.preprocessing import preprocess\n",
    "X_train = preprocess(train).drop('Target', axis = 1).query('parentesco1 == 1') #try subsetting to ONLY train on head of household\n",
    "X_test = preprocess(test)\n",
    "y_train = train.query('parentesco1 == 1')['Target'] #try subsetting to ONLY train on head of household\n",
    "X_train[test_features].head()\n",
    "\n",
    "# X_train = train.drop('Target', axis = 1).query('parentesco1 == 1') #try subsetting to ONLY train on head of household\n",
    "# X_test = test.copy()\n",
    "# y_train = train.query('parentesco1 == 1')['Target'] #try subsetting to ONLY train on head of household"
   ]
  },
  {
   "cell_type": "markdown",
   "metadata": {},
   "source": [
    "### Feature Selection\n",
    "We will automate feature selection, but let's first visualize the relationship between number of features and cross-validation scroing for a RandomForestClassifier. It seems to be a toss-up after around 10 features"
   ]
  },
  {
   "cell_type": "code",
   "execution_count": 8,
   "metadata": {},
   "outputs": [
    {
     "name": "stdout",
     "output_type": "stream",
     "text": [
      "Optimal number of features : 20\n"
     ]
    },
    {
     "data": {
      "image/png": "[encoded data removed]",
      "text/plain": [
       "<Figure size 432x288 with 1 Axes>"
      ]
     },
     "metadata": {
      "needs_background": "light"
     },
     "output_type": "display_data"
    }
   ],
   "source": [
    "rfecv = RFECV(estimator=RandomForestClassifier(random_state=1, max_depth=15), step=1, cv=kfold,\n",
    "              scoring=f1_scorer)\n",
    "\n",
    "transformers = Pipeline(steps=[\n",
    "                        ('feature_extraction', FeatureExtractor(test_features)),\n",
    "                        ('imputer', Imputer(strategy = 'mean')),\n",
    "                        ('feature_scaler', StandardScaler()),\n",
    "                        # ('feature_selection', SelectFromModel(ExtraTreesClassifier())),\n",
    "                        ])\n",
    "X_transformed = transformers.fit_transform(X_train)\n",
    "rfecv.fit(X_transformed, y_train)\n",
    "\n",
    "print(\"Optimal number of features : %d\" % rfecv.n_features_)\n",
    "\n",
    "# Plot number of features VS. cross-validation scores\n",
    "plt.figure()\n",
    "plt.xlabel(\"Number of features selected\")\n",
    "plt.ylabel(\"Cross validation score (nb of correct classifications)\")\n",
    "plt.plot(range(1, len(rfecv.grid_scores_) + 1), rfecv.grid_scores_)\n",
    "plt.show()"
   ]
  },
  {
   "cell_type": "code",
   "execution_count": 9,
   "metadata": {},
   "outputs": [],
   "source": [
    "# For now do without ('processing', LazyProcessing())\n",
    "full_pipeline = Pipeline(steps=[\n",
    "                        ('feature_extraction', FeatureExtractor(test_features)),\n",
    "                        ('imputer', Imputer(strategy = 'mean')),\n",
    "                        ('feature_scaler', StandardScaler()),\n",
    "                        ('feature_selection', SelectFromModel(ExtraTreesClassifier())),\n",
    "                        ('random_forest', RandomForestClassifier(random_state = 1))])"
   ]
  },
  {
   "cell_type": "code",
   "execution_count": 10,
   "metadata": {},
   "outputs": [
    {
     "name": "stdout",
     "output_type": "stream",
     "text": [
      "{'random_forest__max_depth': 14}\n",
      "Wall time: 6.05 s\n"
     ]
    }
   ],
   "source": [
    "%%time\n",
    "DEPTHS = list(range(10,20))\n",
    "param_grid = dict(random_forest__max_depth=DEPTHS)\n",
    "grid = GridSearchCV(full_pipeline, param_grid=param_grid, cv=kfold, scoring=f1_scorer, n_jobs=-1)\n",
    "grid.fit(X_train, y_train)\n",
    "\n",
    "# print(grid.cv_results_['mean_test_score'])\n",
    "print(grid.best_params_)"
   ]
  },
  {
   "cell_type": "code",
   "execution_count": 11,
   "metadata": {},
   "outputs": [
    {
     "name": "stdout",
     "output_type": "stream",
     "text": [
      "Wall time: 93 ms\n"
     ]
    }
   ],
   "source": [
    "%%time\n",
    "model = grid.best_estimator_\n",
    "model.fit(X_train, y_train)"
   ]
  },
  {
   "cell_type": "code",
   "execution_count": 12,
   "metadata": {},
   "outputs": [
    {
     "name": "stdout",
     "output_type": "stream",
     "text": [
      "0.35253263584032607\n",
      "Cross Validation F1 Score = 0.3525 with std = 0.039\n",
      "Wall time: 4.03 s\n"
     ]
    }
   ],
   "source": [
    "%%time\n",
    "cv_score = cross_val_score(model, X_train, y_train, cv =kfold, scoring=f1_scorer, n_jobs=-1)\n",
    "print(cv_score.mean())\n",
    "print(f'Cross Validation F1 Score = {round(cv_score.mean(), 4)} with std = {round(cv_score.std(), 4)}')"
   ]
  },
  {
   "cell_type": "markdown",
   "metadata": {},
   "source": [
    "# Learning Curve\n",
    "*YIKES*, given we aren't getting more data, we need to avoid such bad overfitting"
   ]
  },
  {
   "cell_type": "code",
   "execution_count": 13,
   "metadata": {},
   "outputs": [
    {
     "name": "stdout",
     "output_type": "stream",
     "text": [
      "Wall time: 5.13 s\n"
     ]
    },
    {
     "data": {
      "text/plain": [
       "<module 'matplotlib.pyplot' from 'c:\\\\users\\\\zrankin\\\\appdata\\\\local\\\\continuum\\\\miniconda3\\\\envs\\\\kaggle\\\\lib\\\\site-packages\\\\matplotlib\\\\pyplot.py'>"
      ]
     },
     "execution_count": 13,
     "metadata": {},
     "output_type": "execute_result"
    },
    {
     "data": {
      "image/png": "[encoded data removed]",
      "text/plain": [
       "<Figure size 432x288 with 1 Axes>"
      ]
     },
     "metadata": {
      "needs_background": "light"
     },
     "output_type": "display_data"
    }
   ],
   "source": [
    "%%time\n",
    "plot_learning_curve(model, 'Learning Curves', X_train, y_train, cv=kfold, scoring=f1_scorer)"
   ]
  },
  {
   "cell_type": "code",
   "execution_count": 14,
   "metadata": {},
   "outputs": [
    {
     "data": {
      "text/plain": [
       "array([0.20332381, 0.05373518, 0.04260724, 0.04679181, 0.05538207,\n",
       "       0.05033983, 0.05364793, 0.07599869, 0.08989323, 0.10427806,\n",
       "       0.10176909, 0.05763008, 0.06460298])"
      ]
     },
     "execution_count": 14,
     "metadata": {},
     "output_type": "execute_result"
    }
   ],
   "source": [
    "estimator = model.steps[-1][1]\n",
    "\n",
    "# WARNING - need to fix for automated feature selection, as column names/orders are not preserved\n",
    "# feature_importances = pd.DataFrame({'feature': test_features, 'importance': estimator.feature_importances_})\n",
    "# feature_importances.sort_values('importance', ascending=False)\n",
    "\n",
    "estimator.feature_importances_"
   ]
  },
  {
   "cell_type": "markdown",
   "metadata": {},
   "source": [
    "# Submission"
   ]
  },
  {
   "cell_type": "code",
   "execution_count": 15,
   "metadata": {},
   "outputs": [
    {
     "data": {
      "text/plain": [
       "['../models/random_forest.pkl']"
      ]
     },
     "execution_count": 15,
     "metadata": {},
     "output_type": "execute_result"
    }
   ],
   "source": [
    "# Save model for error analysis (other notebook)\n",
    "joblib.dump(model, '../models/random_forest.pkl')\n",
    "\n",
    "# model = joblib.load('../models/random_forest.pkl')"
   ]
  },
  {
   "cell_type": "code",
   "execution_count": 16,
   "metadata": {},
   "outputs": [],
   "source": [
    "y_pred = model.predict(X_test)\n",
    "# plt.hist(y_pred)"
   ]
  },
  {
   "cell_type": "code",
   "execution_count": 17,
   "metadata": {},
   "outputs": [],
   "source": [
    "y_pred_series = pd.Series(y_pred, name = 'Target')\n",
    "submission = pd.concat([X_test['Id'], y_pred_series], axis=1)"
   ]
  },
  {
   "cell_type": "code",
   "execution_count": 18,
   "metadata": {},
   "outputs": [],
   "source": [
    "submission.to_csv('../submission.csv', index=None)"
   ]
  },
  {
   "cell_type": "code",
   "execution_count": 19,
   "metadata": {},
   "outputs": [
    {
     "data": {
      "text/html": [
       "<div>\n",
       "<style scoped>\n",
       "    .dataframe tbody tr th:only-of-type {\n",
       "        vertical-align: middle;\n",
       "    }\n",
       "\n",
       "    .dataframe tbody tr th {\n",
       "        vertical-align: top;\n",
       "    }\n",
       "\n",
       "    .dataframe thead th {\n",
       "        text-align: right;\n",
       "    }\n",
       "</style>\n",
       "<table border=\"1\" class=\"dataframe\">\n",
       "  <thead>\n",
       "    <tr style=\"text-align: right;\">\n",
       "      <th></th>\n",
       "      <th>Id</th>\n",
       "      <th>Target</th>\n",
       "    </tr>\n",
       "  </thead>\n",
       "  <tbody>\n",
       "    <tr>\n",
       "      <th>0</th>\n",
       "      <td>ID_2f6873615</td>\n",
       "      <td>4</td>\n",
       "    </tr>\n",
       "    <tr>\n",
       "      <th>1</th>\n",
       "      <td>ID_1c78846d2</td>\n",
       "      <td>4</td>\n",
       "    </tr>\n",
       "    <tr>\n",
       "      <th>2</th>\n",
       "      <td>ID_e5442cf6a</td>\n",
       "      <td>4</td>\n",
       "    </tr>\n",
       "    <tr>\n",
       "      <th>3</th>\n",
       "      <td>ID_a8db26a79</td>\n",
       "      <td>4</td>\n",
       "    </tr>\n",
       "    <tr>\n",
       "      <th>4</th>\n",
       "      <td>ID_a62966799</td>\n",
       "      <td>4</td>\n",
       "    </tr>\n",
       "  </tbody>\n",
       "</table>\n",
       "</div>"
      ],
      "text/plain": [
       "             Id  Target\n",
       "0  ID_2f6873615       4\n",
       "1  ID_1c78846d2       4\n",
       "2  ID_e5442cf6a       4\n",
       "3  ID_a8db26a79       4\n",
       "4  ID_a62966799       4"
      ]
     },
     "execution_count": 19,
     "metadata": {},
     "output_type": "execute_result"
    }
   ],
   "source": [
    "submission.head()"
   ]
  },
  {
   "cell_type": "code",
   "execution_count": null,
   "metadata": {},
   "outputs": [],
   "source": []
  },
  {
   "cell_type": "markdown",
   "metadata": {},
   "source": [
    "## Error Analysis"
   ]
  },
  {
   "cell_type": "code",
   "execution_count": 20,
   "metadata": {},
   "outputs": [],
   "source": [
    "y_train_predict = cross_val_predict(model, X_train, y_train, cv = kfold)"
   ]
  },
  {
   "cell_type": "code",
   "execution_count": 21,
   "metadata": {},
   "outputs": [
    {
     "data": {
      "image/png": "[encoded data removed]",
      "text/plain": [
       "<Figure size 432x288 with 2 Axes>"
      ]
     },
     "metadata": {
      "needs_background": "light"
     },
     "output_type": "display_data"
    }
   ],
   "source": [
    "plot_confusion_matrix(y_train, y_train_predict, xticklabels = [1,2,3,4], yticklabels=[1,2,3,4])"
   ]
  }
 ],
 "metadata": {
  "kernelspec": {
   "display_name": "Python 3",
   "language": "python",
   "name": "python3"
  },
  "language_info": {
   "codemirror_mode": {
    "name": "ipython",
    "version": 3
   },
   "file_extension": ".py",
   "mimetype": "text/x-python",
   "name": "python",
   "nbconvert_exporter": "python",
   "pygments_lexer": "ipython3",
   "version": "3.6.6"
  }
 },
 "nbformat": 4,
 "nbformat_minor": 2
}
