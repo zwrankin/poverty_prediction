{
 "cells": [
  {
   "cell_type": "markdown",
   "metadata": {},
   "source": [
    "# Develop a `LGBMClassifier` model \n",
    "Note - this notebook does not cover exploratory data analysis, feature engineering, or using simple algorithms (Random Forests, etc) \n",
    "## Feature Selection using `RFECV`\n",
    "## Hyperparameter tuning using `hyperopt`\n",
    "Final model and diagnostics are in (LINK NOTEBOOK)\n",
    "\n",
    "\n",
    "## Questions\n",
    "- doesn't it seem that `hyperopt` may in a sense \"overfit\" hyperparameters, because it finds the ideal hyperparameters for **one** training/validation split. Is there a good cross-validation implementation (granted, it would be slower) "
   ]
  },
  {
   "cell_type": "code",
   "execution_count": 1,
   "metadata": {},
   "outputs": [],
   "source": [
    "import os\n",
    "import sys\n",
    "import numpy as np\n",
    "import pandas as pd\n",
    "import matplotlib.pyplot as plt\n",
    "import seaborn as sns\n",
    "import pickle\n",
    "\n",
    "%matplotlib inline"
   ]
  },
  {
   "cell_type": "code",
   "execution_count": 2,
   "metadata": {},
   "outputs": [
    {
     "name": "stderr",
     "output_type": "stream",
     "text": [
      "c:\\users\\zrankin\\appdata\\local\\continuum\\miniconda3\\envs\\kaggle\\lib\\site-packages\\sklearn\\ensemble\\weight_boosting.py:29: DeprecationWarning: numpy.core.umath_tests is an internal NumPy module and should not be imported. It will be removed in a future NumPy release.\n",
      "  from numpy.core.umath_tests import inner1d\n"
     ]
    }
   ],
   "source": [
    "from sklearn.preprocessing import Imputer, StandardScaler\n",
    "from sklearn.pipeline import Pipeline\n",
    "from sklearn.ensemble import RandomForestClassifier, ExtraTreesClassifier, GradientBoostingClassifier\n",
    "from sklearn.feature_selection import SelectFromModel, RFECV\n",
    "from sklearn.metrics import f1_score\n",
    "from sklearn.model_selection import train_test_split\n",
    "from sklearn.model_selection import cross_val_score\n",
    "from sklearn.model_selection import GridSearchCV\n",
    "\n",
    "from xgboost import XGBClassifier\n",
    "import lightgbm as lgb\n",
    "\n",
    "from hyperopt import hp, fmin, tpe, STATUS_OK, Trials"
   ]
  },
  {
   "cell_type": "code",
   "execution_count": 3,
   "metadata": {},
   "outputs": [],
   "source": [
    "# Tools for developing code\n",
    "%load_ext autoreload \n",
    "%autoreload 2\n",
    "\n",
    "# Add library to path \n",
    "module_path = os.path.abspath(os.path.join('..'))\n",
    "if module_path not in sys.path:\n",
    "    sys.path.append(module_path)\n",
    "    \n",
    "from lib.model import kfold, f1_scorer\n",
    "from lib.model import load_and_process_training_data, load_and_process_test_data\n",
    "from lib.visualization import report_cv_scores\n",
    "from lib.visualization import plot_learning_curve,plot_feature_importances"
   ]
  },
  {
   "cell_type": "code",
   "execution_count": 4,
   "metadata": {},
   "outputs": [],
   "source": [
    "EARLY_STOPPING_ROUNDS = 10"
   ]
  },
  {
   "cell_type": "markdown",
   "metadata": {},
   "source": [
    "## Load data\n",
    "(also runs feature engineering & subsets to heads of households)"
   ]
  },
  {
   "cell_type": "code",
   "execution_count": 5,
   "metadata": {},
   "outputs": [],
   "source": [
    "X_data, y_data = load_and_process_training_data()\n",
    "X_data.shape\n",
    "y_data = y_data - 1 #try normalizing to 0 to avoid bugs"
   ]
  },
  {
   "cell_type": "code",
   "execution_count": 6,
   "metadata": {
    "scrolled": true
   },
   "outputs": [
    {
     "data": {
      "text/html": [
       "<div>\n",
       "<style scoped>\n",
       "    .dataframe tbody tr th:only-of-type {\n",
       "        vertical-align: middle;\n",
       "    }\n",
       "\n",
       "    .dataframe tbody tr th {\n",
       "        vertical-align: top;\n",
       "    }\n",
       "\n",
       "    .dataframe thead th {\n",
       "        text-align: right;\n",
       "    }\n",
       "</style>\n",
       "<table border=\"1\" class=\"dataframe\">\n",
       "  <thead>\n",
       "    <tr style=\"text-align: right;\">\n",
       "      <th></th>\n",
       "      <th>v2a1</th>\n",
       "      <th>tipovivi_rank</th>\n",
       "      <th>rent_by_dep</th>\n",
       "      <th>tipovivi4</th>\n",
       "      <th>tipovivi2</th>\n",
       "      <th>rent_by_people</th>\n",
       "      <th>rent_by_rooms</th>\n",
       "      <th>tipovivi5</th>\n",
       "      <th>tipovivi1</th>\n",
       "      <th>tipovivi3</th>\n",
       "      <th>...</th>\n",
       "      <th>instlevel2_std</th>\n",
       "      <th>instlevel8_std</th>\n",
       "      <th>instlevel9_std</th>\n",
       "      <th>mobilephone_std</th>\n",
       "      <th>rez_esc_std</th>\n",
       "      <th>escolari_std</th>\n",
       "      <th>age_std</th>\n",
       "      <th>educ_rank_std</th>\n",
       "      <th>no_primary_education_std</th>\n",
       "      <th>higher_education_std</th>\n",
       "    </tr>\n",
       "  </thead>\n",
       "  <tbody>\n",
       "    <tr>\n",
       "      <th>0</th>\n",
       "      <td>190000.0</td>\n",
       "      <td>3</td>\n",
       "      <td>1000000.0</td>\n",
       "      <td>0</td>\n",
       "      <td>0</td>\n",
       "      <td>190000.0</td>\n",
       "      <td>63333.333333</td>\n",
       "      <td>0</td>\n",
       "      <td>0</td>\n",
       "      <td>1</td>\n",
       "      <td>...</td>\n",
       "      <td>NaN</td>\n",
       "      <td>NaN</td>\n",
       "      <td>NaN</td>\n",
       "      <td>NaN</td>\n",
       "      <td>NaN</td>\n",
       "      <td>NaN</td>\n",
       "      <td>NaN</td>\n",
       "      <td>NaN</td>\n",
       "      <td>NaN</td>\n",
       "      <td>NaN</td>\n",
       "    </tr>\n",
       "    <tr>\n",
       "      <th>1</th>\n",
       "      <td>135000.0</td>\n",
       "      <td>3</td>\n",
       "      <td>135000.0</td>\n",
       "      <td>0</td>\n",
       "      <td>0</td>\n",
       "      <td>135000.0</td>\n",
       "      <td>33750.000000</td>\n",
       "      <td>0</td>\n",
       "      <td>0</td>\n",
       "      <td>1</td>\n",
       "      <td>...</td>\n",
       "      <td>NaN</td>\n",
       "      <td>NaN</td>\n",
       "      <td>NaN</td>\n",
       "      <td>NaN</td>\n",
       "      <td>NaN</td>\n",
       "      <td>NaN</td>\n",
       "      <td>NaN</td>\n",
       "      <td>NaN</td>\n",
       "      <td>NaN</td>\n",
       "      <td>NaN</td>\n",
       "    </tr>\n",
       "    <tr>\n",
       "      <th>2</th>\n",
       "      <td>0.0</td>\n",
       "      <td>2</td>\n",
       "      <td>0.0</td>\n",
       "      <td>0</td>\n",
       "      <td>0</td>\n",
       "      <td>0.0</td>\n",
       "      <td>0.000000</td>\n",
       "      <td>0</td>\n",
       "      <td>1</td>\n",
       "      <td>0</td>\n",
       "      <td>...</td>\n",
       "      <td>NaN</td>\n",
       "      <td>NaN</td>\n",
       "      <td>NaN</td>\n",
       "      <td>NaN</td>\n",
       "      <td>NaN</td>\n",
       "      <td>NaN</td>\n",
       "      <td>NaN</td>\n",
       "      <td>NaN</td>\n",
       "      <td>NaN</td>\n",
       "      <td>NaN</td>\n",
       "    </tr>\n",
       "    <tr>\n",
       "      <th>5</th>\n",
       "      <td>180000.0</td>\n",
       "      <td>3</td>\n",
       "      <td>180000.0</td>\n",
       "      <td>0</td>\n",
       "      <td>0</td>\n",
       "      <td>45000.0</td>\n",
       "      <td>36000.000000</td>\n",
       "      <td>0</td>\n",
       "      <td>0</td>\n",
       "      <td>1</td>\n",
       "      <td>...</td>\n",
       "      <td>0.5</td>\n",
       "      <td>0.0</td>\n",
       "      <td>0.0</td>\n",
       "      <td>0.0</td>\n",
       "      <td>0.5</td>\n",
       "      <td>4.272002</td>\n",
       "      <td>14.899664</td>\n",
       "      <td>2.872281</td>\n",
       "      <td>0.50000</td>\n",
       "      <td>0.0</td>\n",
       "    </tr>\n",
       "    <tr>\n",
       "      <th>8</th>\n",
       "      <td>130000.0</td>\n",
       "      <td>3</td>\n",
       "      <td>130000.0</td>\n",
       "      <td>0</td>\n",
       "      <td>0</td>\n",
       "      <td>32500.0</td>\n",
       "      <td>65000.000000</td>\n",
       "      <td>0</td>\n",
       "      <td>0</td>\n",
       "      <td>1</td>\n",
       "      <td>...</td>\n",
       "      <td>0.5</td>\n",
       "      <td>0.0</td>\n",
       "      <td>0.0</td>\n",
       "      <td>0.0</td>\n",
       "      <td>0.5</td>\n",
       "      <td>5.123475</td>\n",
       "      <td>11.690452</td>\n",
       "      <td>2.645751</td>\n",
       "      <td>0.57735</td>\n",
       "      <td>0.0</td>\n",
       "    </tr>\n",
       "  </tbody>\n",
       "</table>\n",
       "<p>5 rows × 198 columns</p>\n",
       "</div>"
      ],
      "text/plain": [
       "       v2a1  tipovivi_rank  rent_by_dep  tipovivi4  tipovivi2  rent_by_people  \\\n",
       "0  190000.0              3    1000000.0          0          0        190000.0   \n",
       "1  135000.0              3     135000.0          0          0        135000.0   \n",
       "2       0.0              2          0.0          0          0             0.0   \n",
       "5  180000.0              3     180000.0          0          0         45000.0   \n",
       "8  130000.0              3     130000.0          0          0         32500.0   \n",
       "\n",
       "   rent_by_rooms  tipovivi5  tipovivi1  tipovivi3          ...           \\\n",
       "0   63333.333333          0          0          1          ...            \n",
       "1   33750.000000          0          0          1          ...            \n",
       "2       0.000000          0          1          0          ...            \n",
       "5   36000.000000          0          0          1          ...            \n",
       "8   65000.000000          0          0          1          ...            \n",
       "\n",
       "   instlevel2_std  instlevel8_std  instlevel9_std  mobilephone_std  \\\n",
       "0             NaN             NaN             NaN              NaN   \n",
       "1             NaN             NaN             NaN              NaN   \n",
       "2             NaN             NaN             NaN              NaN   \n",
       "5             0.5             0.0             0.0              0.0   \n",
       "8             0.5             0.0             0.0              0.0   \n",
       "\n",
       "   rez_esc_std  escolari_std    age_std  educ_rank_std  \\\n",
       "0          NaN           NaN        NaN            NaN   \n",
       "1          NaN           NaN        NaN            NaN   \n",
       "2          NaN           NaN        NaN            NaN   \n",
       "5          0.5      4.272002  14.899664       2.872281   \n",
       "8          0.5      5.123475  11.690452       2.645751   \n",
       "\n",
       "   no_primary_education_std  higher_education_std  \n",
       "0                       NaN                   NaN  \n",
       "1                       NaN                   NaN  \n",
       "2                       NaN                   NaN  \n",
       "5                   0.50000                   0.0  \n",
       "8                   0.57735                   0.0  \n",
       "\n",
       "[5 rows x 198 columns]"
      ]
     },
     "execution_count": 6,
     "metadata": {},
     "output_type": "execute_result"
    }
   ],
   "source": [
    "X_data.head()"
   ]
  },
  {
   "cell_type": "markdown",
   "metadata": {},
   "source": [
    "## Feature Selection\n",
    "Here, I perform feature selection through recursing cross-validation scoring.\n",
    "I've noticed that the number of features selected is somewhat sensitive to the classifier used within `RFECV` (both whether it's e.g. `ExtraTreesClassifier` of `GradientBoostingClassifier` and the hyperparameters therein). Obviously, it would be best to select number of features using cross-validation score of the final estimator, but it's prohibitively slow for boosted methods without cloud computing. For now, I'm using `ExtraTreesClassifier` because it's quick and gives comparable final cross-validation scores compare to `GradientBoostingClassifier`"
   ]
  },
  {
   "cell_type": "code",
   "execution_count": 7,
   "metadata": {},
   "outputs": [],
   "source": [
    "# Define incremental step size for RFECV (smaller is more precise, \n",
    "# but larger is faster and more appropriate for exploratory analyses)\n",
    "STEP=5"
   ]
  },
  {
   "cell_type": "code",
   "execution_count": 8,
   "metadata": {},
   "outputs": [],
   "source": [
    "transformer_pipeline = Pipeline(steps=[\n",
    "                        ('imputer', Imputer(strategy='mean')),\n",
    "                        ('feature_scaler', StandardScaler()),\n",
    "                        ])\n",
    "\n",
    "X_transformed = transformer_pipeline.fit_transform(X_data)\n",
    "\n",
    "# Convert back to dataframe\n",
    "X_transformed = pd.DataFrame(X_transformed, columns = X_data.columns)"
   ]
  },
  {
   "cell_type": "code",
   "execution_count": 9,
   "metadata": {},
   "outputs": [],
   "source": [
    "def plot_feature_selection(selector):\n",
    "    \"\"\"plots recursive feature selection results from a fitted RFECV\"\"\"\n",
    "    n_features = selector.n_features_\n",
    "    \n",
    "    # Plot number of features VS. cross-validation scores\n",
    "    plt.figure()\n",
    "    plt.title(f'Feature Selection Scores: best number = {n_features}')\n",
    "    plt.xlabel(\"Step\")\n",
    "    plt.ylabel(\"Cross-validation Macro F1 Score)\")\n",
    "    plt.plot(range(1, len(selector.grid_scores_) + 1), selector.grid_scores_)\n",
    "    plt.show()"
   ]
  },
  {
   "cell_type": "code",
   "execution_count": 10,
   "metadata": {},
   "outputs": [
    {
     "data": {
      "image/png": "[encoded data removed]",
      "text/plain": [
       "<Figure size 432x288 with 1 Axes>"
      ]
     },
     "metadata": {
      "needs_background": "light"
     },
     "output_type": "display_data"
    },
    {
     "name": "stdout",
     "output_type": "stream",
     "text": [
      "Wall time: 1min 28s\n"
     ]
    }
   ],
   "source": [
    "%%time\n",
    "clf = ExtraTreesClassifier(random_state = 10, n_estimators = 100, n_jobs = -1)\n",
    "selector = RFECV(clf, step=STEP, cv=kfold, scoring=f1_scorer, n_jobs=-1)\n",
    "\n",
    "selector.fit(X_transformed, y_data)\n",
    "plot_feature_selection(selector)"
   ]
  },
  {
   "cell_type": "code",
   "execution_count": 34,
   "metadata": {},
   "outputs": [
    {
     "name": "stdout",
     "output_type": "stream",
     "text": [
      "Index(['rent_by_dep', 'meaneduc', 'escolari', 'educ_rank', 'adult_percent',\n",
      "       'age', 'wall_rank', 'cooking_rank', 'wall_quality',\n",
      "       'house_material_good'],\n",
      "      dtype='object')\n"
     ]
    }
   ],
   "source": [
    "train_selected = selector.transform(X_transformed)\n",
    "# Convert back to dataframe\n",
    "selected_features = X_transformed.columns[np.where(selector.ranking_==1)]\n",
    "train_selected = pd.DataFrame(train_selected, columns = selected_features)\n",
    "print(selected_features[:10])\n",
    "\n",
    "train_X, val_X, train_y, val_y = train_test_split(train_selected, y_data, test_size=0.25,\n",
    "                                                 random_state=10)"
   ]
  },
  {
   "cell_type": "code",
   "execution_count": 35,
   "metadata": {},
   "outputs": [],
   "source": [
    "# Save \n",
    "train_X.to_hdf('../models/training.hdf', key='train_X')\n",
    "train_y.to_hdf('../models/training.hdf', key='train_y')\n",
    "val_X.to_hdf('../models/training.hdf', key='val_X')\n",
    "val_y.to_hdf('../models/training.hdf', key='val_y')"
   ]
  },
  {
   "cell_type": "markdown",
   "metadata": {},
   "source": [
    "# TODO - add algorithm comparison plot!"
   ]
  },
  {
   "cell_type": "code",
   "execution_count": null,
   "metadata": {},
   "outputs": [],
   "source": []
  },
  {
   "cell_type": "markdown",
   "metadata": {},
   "source": [
    "##  Get cross-validation score after feature selection and before hyperparameter tuning"
   ]
  },
  {
   "cell_type": "code",
   "execution_count": 36,
   "metadata": {},
   "outputs": [],
   "source": [
    "# Pull some reasonable baseline parameters from https://www.kaggle.com/willkoehrsen/a-complete-introduction-and-walkthrough\n",
    "# NOTE - he uses early-stopping rounds = 100, but I'll stick to 10 for now since I'll later optimize to 10 for speed)\n",
    "params = {'boosting_type': 'dart', \n",
    "                  'colsample_bytree': 0.88, \n",
    "                  'learning_rate': 0.028, \n",
    "                   'min_child_samples': 10, \n",
    "                   'num_leaves': 36, 'reg_alpha': 0.76, \n",
    "                   'reg_lambda': 0.43, \n",
    "                   'subsample_for_bin': 40000, \n",
    "                   'subsample': 0.54, \n",
    "                   'class_weight': 'balanced'}\n",
    "\n",
    "fit_params = {\"eval_set\": [(val_X, val_y)], \n",
    "              \"early_stopping_rounds\": EARLY_STOPPING_ROUNDS, \n",
    "              \"verbose\": False}\n",
    "\n",
    "model = lgb.LGBMClassifier(**params, objective = 'multiclass', \n",
    "                               n_jobs = -1, n_estimators = 10000,\n",
    "                               random_state = 10)"
   ]
  },
  {
   "cell_type": "code",
   "execution_count": 37,
   "metadata": {},
   "outputs": [
    {
     "name": "stdout",
     "output_type": "stream",
     "text": [
      "Cross Validation F1 Score = 0.4037 with std = 0.0365\n"
     ]
    }
   ],
   "source": [
    "cv_score = cross_val_score(model, train_X, train_y, cv=kfold, scoring=f1_scorer, n_jobs=-1, fit_params=fit_params)\n",
    "print(f'Cross Validation F1 Score = {round(cv_score.mean(), 4)} with std = {round(cv_score.std(), 4)}')"
   ]
  },
  {
   "cell_type": "markdown",
   "metadata": {},
   "source": [
    "## Hyperparameter Tuning using Hyperopt\n",
    "I have found that different runs get vastly different optimal parameters (even though `random_state` was set for the train/val split. Not sure if there's a way to set seed for `hyperopt`. "
   ]
  },
  {
   "cell_type": "code",
   "execution_count": 38,
   "metadata": {},
   "outputs": [],
   "source": [
    "# Give some baseline \n",
    "params = {'boosting_type': 'dart', \n",
    "                  'colsample_bytree': 0.88, \n",
    "                  'learning_rate': 0.028, \n",
    "                   'min_child_samples': 10, \n",
    "                   'num_leaves': 36, 'reg_alpha': 0.76, \n",
    "                   'reg_lambda': 0.43, \n",
    "                   'subsample_for_bin': 40000, \n",
    "                   'subsample': 0.54, \n",
    "                   'class_weight': 'balanced'}\n",
    "\n",
    "model = lgb.LGBMClassifier(**params, objective = 'multiclass', \n",
    "                               n_jobs = -1, n_estimators = 10000,\n",
    "                               random_state = 10)"
   ]
  },
  {
   "cell_type": "code",
   "execution_count": 39,
   "metadata": {},
   "outputs": [],
   "source": [
    "def objective(space, params=params, noisy=False):\n",
    "    if noisy: print(f'Training with params {space}')\n",
    "\n",
    "    params.update(space)\n",
    "    # hp.quniform sometimes returns strings (https://github.com/hyperopt/hyperopt/issues/253)\n",
    "    params['num_leaves'] = int(params['num_leaves'])\n",
    "    params['min_child_samples'] = int(params['min_child_samples'])\n",
    "    params['max_depth'] = int(params['max_depth'])\n",
    "    \n",
    "    if params['num_leaves'] <3:\n",
    "        import pdb; pdb.set_trace()\n",
    "\n",
    "    model = lgb.LGBMClassifier(**params, objective = 'multiclass', n_estimators=10000, \n",
    "                               n_jobs = -1, random_state = 10)\n",
    "    \n",
    "    fit_params = {\"eval_set\": [(val_X, val_y)], \n",
    "              \"early_stopping_rounds\": EARLY_STOPPING_ROUNDS,\n",
    "              \"verbose\": False} \n",
    "    \n",
    "    model.fit(train_X, train_y, **fit_params)\n",
    "    predictions = model.predict(val_X)\n",
    "    score = f1_score(val_y, predictions, average = 'macro')\n",
    "    \n",
    "    if noisy: print(f'f1 score: {score}')\n",
    "    \n",
    "    return{'loss':1-score, 'status': STATUS_OK }\n",
    "\n",
    "space ={'limit_max_depth': hp.choice('limit_max_depth', [True, False]),\n",
    "        'max_depth': hp.quniform('max_depth', 4, 40, 1), \n",
    "        'num_leaves': hp.quniform('num_leaves', 3, 50, 1),\n",
    "        'min_child_samples':hp.quniform('min_child_samples', 5, 15, 1),\n",
    "        'learning_rate': hp.uniform('learning_rate', 0.01, 0.2),\n",
    "        'reg_alpha': hp.uniform('reg_alpha', 0.0, 1.0),\n",
    "        'reg_lambda': hp.uniform('reg_lambda', 0.0, 1.0),\n",
    "        'subsample': hp.uniform('subsample', 0.50, 1.0),\n",
    "        'colsample_bytree': hp.uniform('colsample_bytree', 0.5, 1.0),}\n",
    "\n",
    "seed = 42\n",
    "trials = Trials()"
   ]
  },
  {
   "cell_type": "markdown",
   "metadata": {},
   "source": [
    "#### Reminder \n",
    "if you do not reinstantiate `trials` you can pick up the optimization where it left off by increasing `max_evals` and re-running the below cell (though may not be replicable)"
   ]
  },
  {
   "cell_type": "code",
   "execution_count": 40,
   "metadata": {},
   "outputs": [
    {
     "name": "stdout",
     "output_type": "stream",
     "text": [
      "Wall time: 3min 38s\n"
     ]
    }
   ],
   "source": [
    "%%capture --no-stdout\n",
    "%%time\n",
    "best = fmin(fn=objective,\n",
    "            space=space,\n",
    "            algo=tpe.suggest,\n",
    "            max_evals=200,\n",
    "            trials=trials,\n",
    "            rstate= np.random.RandomState(seed))\n",
    "\n",
    "best['num_leaves'] = int(best['num_leaves'])\n",
    "best['min_child_samples'] = int(best['min_child_samples'])\n",
    "best['max_depth'] = int(best['max_depth'])"
   ]
  },
  {
   "cell_type": "code",
   "execution_count": 41,
   "metadata": {},
   "outputs": [
    {
     "data": {
      "text/plain": [
       "{'boosting_type': 'dart',\n",
       " 'colsample_bytree': 0.5796397953791418,\n",
       " 'learning_rate': 0.08739537002929919,\n",
       " 'min_child_samples': 15,\n",
       " 'num_leaves': 48,\n",
       " 'reg_alpha': 0.4239159481112283,\n",
       " 'reg_lambda': 0.36419362906439723,\n",
       " 'subsample_for_bin': 40000,\n",
       " 'subsample': 0.986210861412967,\n",
       " 'class_weight': 'balanced',\n",
       " 'limit_max_depth': 1,\n",
       " 'max_depth': 22}"
      ]
     },
     "execution_count": 41,
     "metadata": {},
     "output_type": "execute_result"
    }
   ],
   "source": [
    "tuned_params = params.copy()\n",
    "tuned_params.update(best)\n",
    "tuned_params"
   ]
  },
  {
   "cell_type": "code",
   "execution_count": 42,
   "metadata": {},
   "outputs": [],
   "source": [
    "pickle.dump(tuned_params, open(\"../models/tuned_params.p\", \"wb\"))\n",
    "pickle.dump(fit_params, open(\"../models/fit_params.p\", \"wb\"))"
   ]
  },
  {
   "cell_type": "code",
   "execution_count": 43,
   "metadata": {},
   "outputs": [
    {
     "name": "stdout",
     "output_type": "stream",
     "text": [
      "Cross Validation F1 Score = 0.4152 with std = 0.0078\n"
     ]
    }
   ],
   "source": [
    "# Final cross-validation score\n",
    "model = lgb.LGBMClassifier(**tuned_params, objective = 'multiclass', \n",
    "                               n_jobs = -1, n_estimators = 10000,\n",
    "                               random_state = 10)\n",
    "\n",
    "cv_score = cross_val_score(model, train_X, train_y, cv=kfold, scoring=f1_scorer, n_jobs=-1, fit_params=fit_params)\n",
    "print(f'Cross Validation F1 Score = {round(cv_score.mean(), 4)} with std = {round(cv_score.std(), 4)}')"
   ]
  },
  {
   "cell_type": "code",
   "execution_count": null,
   "metadata": {},
   "outputs": [],
   "source": []
  },
  {
   "cell_type": "code",
   "execution_count": null,
   "metadata": {},
   "outputs": [],
   "source": []
  },
  {
   "cell_type": "markdown",
   "metadata": {},
   "source": [
    "# Quick question: \n",
    "Can I use \"expert opinion\" to choose ~30 features and see if I can beat the cross-validation score? Intuitively, I would have used more asset-based and house-quality features than demographics (e.g. the 3 most important features are age_sum, age_std, and age_min, so maybe that's overfitted)\n",
    "\n",
    "##### NOTE - see other notebook for final model diagnostics included feature importances\n",
    "\n",
    "### Result: \n",
    "Well, the cross-validation scores are similar, but it looks like that's just because the model more heavily weights the features originally most important (age, age_min, meaneduc) and gives very little weight to some of my manually selected features (e.g. water_rank, roof_rank). "
   ]
  },
  {
   "cell_type": "code",
   "execution_count": 21,
   "metadata": {},
   "outputs": [
    {
     "data": {
      "text/plain": [
       "31"
      ]
     },
     "execution_count": 21,
     "metadata": {},
     "output_type": "execute_result"
    }
   ],
   "source": [
    "my_features = ['asset_index', 'house_utility_vulnerability', 'qmobilephone', 'tech', 'tablet_per_person_household',\n",
    "               'floor_rank', 'wall_rank', 'roof_rank', 'water_rank', 'electricity_rank',\n",
    "                'house_material_bad', 'house_material_good', 'toilet_rank', 'cooking_rank', 'trash_rank',\n",
    "               'dependency_count', 'calc_dependency', 'child_per_bedroom', 'adult', 'adult_percent', \n",
    "               'meaneduc', 'escolari', 'educ_rank', 'rez_esc', 'escolari_sum', 'age_min', 'escolari_min', 'escolari_sum', 'age',\n",
    "               'no_primary_education', 'higher_education']\n",
    "               \n",
    "len(my_features)    "
   ]
  },
  {
   "cell_type": "code",
   "execution_count": 31,
   "metadata": {},
   "outputs": [],
   "source": [
    "train2_selected = X_transformed[my_features]\n",
    "train2_X, val2_X, train2_y, val2_y = train_test_split(train2_selected, y_data, test_size=0.25,\n",
    "                                                 random_state=10)"
   ]
  },
  {
   "cell_type": "code",
   "execution_count": 32,
   "metadata": {},
   "outputs": [
    {
     "data": {
      "text/plain": [
       "<Figure size 576x1080 with 0 Axes>"
      ]
     },
     "metadata": {},
     "output_type": "display_data"
    },
    {
     "data": {
      "image/png": "[encoded data removed]",
      "text/plain": [
       "<Figure size 864x576 with 1 Axes>"
      ]
     },
     "metadata": {},
     "output_type": "display_data"
    },
    {
     "data": {
      "image/png": "[encoded data removed]",
      "text/plain": [
       "<Figure size 576x432 with 1 Axes>"
      ]
     },
     "metadata": {},
     "output_type": "display_data"
    },
    {
     "name": "stdout",
     "output_type": "stream",
     "text": [
      "20 features required for 95% of cumulative importance.\n"
     ]
    }
   ],
   "source": [
    "fit_params = {\"eval_set\": [(val2_X, val2_y)], \n",
    "              \"early_stopping_rounds\": EARLY_STOPPING_ROUNDS, \n",
    "              \"verbose\": False}\n",
    "model = lgb.LGBMClassifier(**tuned_params, objective = 'multiclass', \n",
    "                               n_jobs = -1, n_estimators = 10000,\n",
    "                               random_state = 10)\n",
    "\n",
    "model.fit(train2_X, train2_y, **fit_params)\n",
    "\n",
    "# Feature importances into a dataframe\n",
    "feature_importances = pd.DataFrame({'feature': my_features, 'importance': model.feature_importances_})\n",
    "feature_importances = feature_importances.sort_values('importance', ascending=False)\n",
    "\n",
    "plot_feature_importances(feature_importances, n=30, threshold=0.95)"
   ]
  },
  {
   "cell_type": "code",
   "execution_count": 33,
   "metadata": {},
   "outputs": [
    {
     "name": "stdout",
     "output_type": "stream",
     "text": [
      "Cross Validation F1 Score = 0.4071 with std = 0.0135\n",
      "Wall time: 4.66 s\n"
     ]
    }
   ],
   "source": [
    "%%time\n",
    "cv_score = cross_val_score(model, train2_X, train2_y, cv=kfold, scoring=f1_scorer, n_jobs=-1, fit_params=fit_params)\n",
    "print(f'Cross Validation F1 Score = {round(cv_score.mean(), 4)} with std = {round(cv_score.std(), 4)}')"
   ]
  },
  {
   "cell_type": "code",
   "execution_count": null,
   "metadata": {},
   "outputs": [],
   "source": []
  }
 ],
 "metadata": {
  "kernelspec": {
   "display_name": "Python 3",
   "language": "python",
   "name": "python3"
  },
  "language_info": {
   "codemirror_mode": {
    "name": "ipython",
    "version": 3
   },
   "file_extension": ".py",
   "mimetype": "text/x-python",
   "name": "python",
   "nbconvert_exporter": "python",
   "pygments_lexer": "ipython3",
   "version": "3.6.6"
  }
 },
 "nbformat": 4,
 "nbformat_minor": 2
}
