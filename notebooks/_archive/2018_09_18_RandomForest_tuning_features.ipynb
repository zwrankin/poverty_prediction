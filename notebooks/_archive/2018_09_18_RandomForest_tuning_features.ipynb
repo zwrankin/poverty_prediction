{
 "cells": [
  {
   "cell_type": "markdown",
   "metadata": {},
   "source": [
    "## I'm having trouble with overfitting, and I have a suspicious it's due to redundant features. Here I see if automated feature selection outperforms manually removing highly correlated features"
   ]
  },
  {
   "cell_type": "code",
   "execution_count": 1,
   "metadata": {},
   "outputs": [],
   "source": [
    "%load_ext autoreload \n",
    "%autoreload 2"
   ]
  },
  {
   "cell_type": "code",
   "execution_count": 2,
   "metadata": {},
   "outputs": [],
   "source": [
    "import os\n",
    "import sys\n",
    "import numpy as np\n",
    "import pandas as pd\n",
    "import matplotlib.pyplot as plt\n",
    "import seaborn as sns\n",
    "\n",
    "pd.options.mode.chained_assignment = None\n",
    "%matplotlib inline"
   ]
  },
  {
   "cell_type": "code",
   "execution_count": 40,
   "metadata": {},
   "outputs": [],
   "source": [
    "from sklearn.pipeline import Pipeline\n",
    "from sklearn.preprocessing import Imputer, StandardScaler\n",
    "from sklearn.feature_selection import SelectFromModel, RFECV\n",
    "from sklearn.model_selection import GridSearchCV, RandomizedSearchCV\n",
    "from sklearn.model_selection import cross_val_score\n",
    "from sklearn.ensemble import RandomForestClassifier, ExtraTreesClassifier\n",
    "from lightgbm import LGBMClassifier"
   ]
  },
  {
   "cell_type": "code",
   "execution_count": 4,
   "metadata": {},
   "outputs": [],
   "source": [
    "# Add library to path \n",
    "module_path = os.path.abspath(os.path.join('..'))\n",
    "if module_path not in sys.path:\n",
    "    sys.path.append(module_path)\n",
    "\n",
    "from lib.model import load_and_process_training_data, feature_extraction, transformer_pipeline, full_pipeline\n",
    "from lib.model import param_grid, f1_scorer, kfold\n",
    "from lib.visualization import report_cv_scores\n",
    "\n",
    "# from lib.pipeline import kfold, f1_scorer, FeatureExtractor, FeatureEngineer, LazyProcessing\n",
    "# from lib.visualization import plot_confusion_matrix, plot_learning_curve\n",
    "# from lib.preprocessing import preprocess\n",
    "import lib.preprocessing as prep"
   ]
  },
  {
   "cell_type": "code",
   "execution_count": null,
   "metadata": {},
   "outputs": [],
   "source": []
  },
  {
   "cell_type": "code",
   "execution_count": 5,
   "metadata": {},
   "outputs": [],
   "source": [
    "X_train, y_train = load_and_process_training_data()"
   ]
  },
  {
   "cell_type": "markdown",
   "metadata": {},
   "source": [
    "## No feature selection"
   ]
  },
  {
   "cell_type": "code",
   "execution_count": 6,
   "metadata": {},
   "outputs": [
    {
     "name": "stdout",
     "output_type": "stream",
     "text": [
      "Cross Validation F1 Score = 0.3517 with std = 0.0193\n"
     ]
    }
   ],
   "source": [
    "cv_score = cross_val_score(full_pipeline, X_train, y_train, cv=kfold, scoring=f1_scorer, n_jobs=-1)\n",
    "print(f'Cross Validation F1 Score = {round(cv_score.mean(), 4)} with std = {round(cv_score.std(), 4)}')"
   ]
  },
  {
   "cell_type": "markdown",
   "metadata": {},
   "source": [
    "## Feature selection at a few thresholds"
   ]
  },
  {
   "cell_type": "code",
   "execution_count": 7,
   "metadata": {},
   "outputs": [],
   "source": [
    "test_pipeline = Pipeline(steps=[\n",
    "                        ('features', feature_extraction),\n",
    "                        ('imputer', Imputer(strategy='mean')),\n",
    "                        ('feature_scaler', StandardScaler()),\n",
    "                        ('feature_selection', SelectFromModel(ExtraTreesClassifier())),\n",
    "                        ('random_forest', RandomForestClassifier(random_state=1))])\n"
   ]
  },
  {
   "cell_type": "code",
   "execution_count": 8,
   "metadata": {},
   "outputs": [],
   "source": [
    "param_grid = dict(\n",
    "                    feature_selection__threshold=[0.001, 0.005, 0.01,],\n",
    "                    random_forest__max_depth=[20, 30])"
   ]
  },
  {
   "cell_type": "code",
   "execution_count": 9,
   "metadata": {},
   "outputs": [
    {
     "name": "stdout",
     "output_type": "stream",
     "text": [
      "{'feature_selection__threshold': 0.01, 'random_forest__max_depth': 20}\n",
      "Wall time: 40.6 s\n"
     ]
    }
   ],
   "source": [
    "%%time\n",
    "\n",
    "grid = GridSearchCV(test_pipeline, param_grid=param_grid, cv=kfold, scoring=f1_scorer, n_jobs=1)\n",
    "grid.fit(X_train, y_train)\n",
    "\n",
    "# print(grid.cv_results_['mean_test_score'])\n",
    "print(grid.best_params_)"
   ]
  },
  {
   "cell_type": "code",
   "execution_count": 10,
   "metadata": {},
   "outputs": [
    {
     "name": "stdout",
     "output_type": "stream",
     "text": [
      "Model with rank: 1\n",
      "Mean validation score: 0.368 (std: 0.032)\n",
      "Parameters: {'feature_selection__threshold': 0.01, 'random_forest__max_depth': 20}\n",
      "\n",
      "Model with rank: 2\n",
      "Mean validation score: 0.368 (std: 0.015)\n",
      "Parameters: {'feature_selection__threshold': 0.01, 'random_forest__max_depth': 30}\n",
      "\n",
      "Model with rank: 3\n",
      "Mean validation score: 0.358 (std: 0.022)\n",
      "Parameters: {'feature_selection__threshold': 0.001, 'random_forest__max_depth': 30}\n",
      "\n"
     ]
    }
   ],
   "source": [
    "report_cv_scores(grid.cv_results_)"
   ]
  },
  {
   "cell_type": "markdown",
   "metadata": {},
   "source": [
    "## So, that's pretty underwhelming, with <0.1 improvement\n",
    "## Let's try `RFECV`"
   ]
  },
  {
   "cell_type": "code",
   "execution_count": 11,
   "metadata": {},
   "outputs": [],
   "source": [
    "X_transformed = transformer_pipeline.fit_transform(X_train)\n",
    "rf = RandomForestClassifier(random_state=1, max_depth=30)"
   ]
  },
  {
   "cell_type": "code",
   "execution_count": 12,
   "metadata": {},
   "outputs": [],
   "source": [
    "feature_selector = RFECV(rf, step = 0.02, cv = kfold, scoring=f1_scorer, n_jobs = -1)"
   ]
  },
  {
   "cell_type": "code",
   "execution_count": 13,
   "metadata": {},
   "outputs": [
    {
     "name": "stdout",
     "output_type": "stream",
     "text": [
      "Wall time: 11 s\n"
     ]
    }
   ],
   "source": [
    "%%time \n",
    "\n",
    "feature_selector.fit(X_transformed, y_train)\n",
    "feature_selector.n_features_"
   ]
  },
  {
   "cell_type": "code",
   "execution_count": 14,
   "metadata": {},
   "outputs": [
    {
     "data": {
      "image/png": "[encoded data removed]",
      "text/plain": [
       "<Figure size 432x288 with 1 Axes>"
      ]
     },
     "metadata": {
      "needs_background": "light"
     },
     "output_type": "display_data"
    }
   ],
   "source": [
    "# Plot number of features VS. cross-validation scores\n",
    "plt.figure()\n",
    "plt.xlabel(\"Number of features selected\")\n",
    "plt.ylabel(\"Cross validation score (nb of correct classifications)\")\n",
    "plt.plot(range(1, len(feature_selector.grid_scores_) + 1), feature_selector.grid_scores_)\n",
    "plt.show()"
   ]
  },
  {
   "cell_type": "markdown",
   "metadata": {},
   "source": [
    "## Still not amazing\n",
    "## Now let's manually examine correlation\n",
    "I have implemented within the feature engineering an option to `drop_correlated_features`, which will drop features with >=90% correlation with other features (preserving one of each set of correlated variables). Here I first demonstrate the functionality, then assess whether it helps the model"
   ]
  },
  {
   "cell_type": "code",
   "execution_count": 15,
   "metadata": {},
   "outputs": [],
   "source": [
    "from lib.preprocessing import name_correlated_feature_to_drop\n",
    "def plot_feature_correlation(data, feature_function, level, threshold=0.90, drop_correlated_features=False):\n",
    "    df = feature_function(data, level, drop_correlated_features)\n",
    "    corr_matrix = df.corr()\n",
    "    #fig, ax = plt.subplots(figsize=(14, 12))\n",
    "    #sns.heatmap(corr_matrix,annot=True, fmt = \".2f\", cmap = \"coolwarm\", center=0, ax=ax)\n",
    "    \n",
    "    features = name_correlated_feature_to_drop(corr_matrix)\n",
    "    if len(features) > 0:\n",
    "        pass\n",
    "        print(f'features to drop due to correlation >= {threshold}: {name_correlated_feature_to_drop(corr_matrix)}')\n",
    "    # return corr_matrix"
   ]
  },
  {
   "cell_type": "code",
   "execution_count": 16,
   "metadata": {},
   "outputs": [
    {
     "name": "stdout",
     "output_type": "stream",
     "text": [
      "<function feature_engineer_house_rankings at 0x0000019015168BF8>\n",
      "features to drop due to correlation >= 0.9: ['roof_quality', 'floor_quality', 'house_material_bad', 'house_material_good', 'material_rank_sum', 'cielorazo', 'pisocemento', 'pisomoscer', 'paredblolad', 'epared1', 'epared3', 'etecho1', 'etecho3', 'eviv1', 'eviv3']\n",
      "<function feature_engineer_assets at 0x0000019015168C80>\n",
      "features to drop due to correlation >= 0.9: ['sanitario1']\n",
      "<function feature_engineer_demographics at 0x0000019015168AE8>\n",
      "features to drop due to correlation >= 0.9: ['child_percent', 'r4t1_percent_in_total', 'hhsize', 'hogar_nin', 'age']\n",
      "<function feature_engineer_education at 0x0000019015168A60>\n",
      "features to drop due to correlation >= 0.9: ['escolari', 'educ_rank', 'rez_esc_sum', 'no_primary_education', 'higher_education']\n",
      "<function feature_engineer_house_characteristics at 0x0000019015168B70>\n",
      "features to drop due to correlation >= 0.9: ['calc_dependency', 'rooms', 'bedrooms_per_person_household']\n",
      "<function feature_engineer_rent at 0x00000190151689D8>\n",
      "features to drop due to correlation >= 0.9: ['tipovivi4']\n"
     ]
    }
   ],
   "source": [
    "for f in [prep.feature_engineer_house_rankings, prep.feature_engineer_assets, prep.feature_engineer_demographics,\n",
    "         prep.feature_engineer_education, prep.feature_engineer_house_characteristics, prep.feature_engineer_rent]:\n",
    "    print(f)\n",
    "    plot_feature_correlation(X_train, f, 'low')"
   ]
  },
  {
   "cell_type": "code",
   "execution_count": 17,
   "metadata": {},
   "outputs": [
    {
     "name": "stdout",
     "output_type": "stream",
     "text": [
      "features to drop due to correlation >= 0.9: ['roof_quality', 'floor_quality', 'house_material_bad', 'house_material_good', 'material_rank_sum', 'cielorazo', 'pisocemento', 'pisomoscer', 'paredblolad', 'epared1', 'epared3', 'etecho1', 'etecho3', 'eviv1', 'eviv3']\n"
     ]
    }
   ],
   "source": [
    "plot_feature_correlation(X_train, prep.feature_engineer_house_rankings, 'low', drop_correlated_features=False)"
   ]
  },
  {
   "cell_type": "code",
   "execution_count": 18,
   "metadata": {},
   "outputs": [],
   "source": [
    "plot_feature_correlation(X_train, prep.feature_engineer_house_rankings, 'low', drop_correlated_features=True)"
   ]
  },
  {
   "cell_type": "code",
   "execution_count": 19,
   "metadata": {},
   "outputs": [],
   "source": [
    "CORR = [False]\n",
    "param_grid_normal = dict(features__extract_educ__drop_correlated_features=CORR,\n",
    "                 features__extract_rent__drop_correlated_features=CORR,\n",
    "                 features__extract_demog__drop_correlated_features=CORR,\n",
    "                 features__extract_houseq__drop_correlated_features=CORR,\n",
    "                 features__extract_housec__drop_correlated_features=CORR,\n",
    "                 features__extract_assets__drop_correlated_features=CORR,\n",
    "                 )"
   ]
  },
  {
   "cell_type": "code",
   "execution_count": 20,
   "metadata": {},
   "outputs": [
    {
     "name": "stdout",
     "output_type": "stream",
     "text": [
      "[0.35168894]\n",
      "{'features__extract_assets__drop_correlated_features': False, 'features__extract_demog__drop_correlated_features': False, 'features__extract_educ__drop_correlated_features': False, 'features__extract_housec__drop_correlated_features': False, 'features__extract_houseq__drop_correlated_features': False, 'features__extract_rent__drop_correlated_features': False}\n"
     ]
    }
   ],
   "source": [
    "grid = GridSearchCV(full_pipeline, param_grid=param_grid_normal, cv=kfold, scoring=f1_scorer, n_jobs=1)\n",
    "grid.fit(X_train, y_train)\n",
    "\n",
    "print(grid.cv_results_['mean_test_score'])\n",
    "print(grid.best_params_)"
   ]
  },
  {
   "cell_type": "code",
   "execution_count": 21,
   "metadata": {},
   "outputs": [],
   "source": [
    "CORR = [True]\n",
    "param_grid_nocorr = dict(features__extract_educ__drop_correlated_features=CORR,\n",
    "                 features__extract_rent__drop_correlated_features=CORR,\n",
    "                 features__extract_demog__drop_correlated_features=CORR,\n",
    "                 features__extract_houseq__drop_correlated_features=CORR,\n",
    "                 features__extract_housec__drop_correlated_features=CORR,\n",
    "                 features__extract_assets__drop_correlated_features=CORR,\n",
    "                 )"
   ]
  },
  {
   "cell_type": "code",
   "execution_count": 22,
   "metadata": {},
   "outputs": [
    {
     "name": "stdout",
     "output_type": "stream",
     "text": [
      "[0.36755593]\n",
      "{'features__extract_assets__drop_correlated_features': True, 'features__extract_demog__drop_correlated_features': True, 'features__extract_educ__drop_correlated_features': True, 'features__extract_housec__drop_correlated_features': True, 'features__extract_houseq__drop_correlated_features': True, 'features__extract_rent__drop_correlated_features': True}\n"
     ]
    }
   ],
   "source": [
    "grid = GridSearchCV(full_pipeline, param_grid=param_grid_nocorr, cv=kfold, scoring=f1_scorer, n_jobs=1)\n",
    "grid.fit(X_train, y_train)\n",
    "\n",
    "print(grid.cv_results_['mean_test_score'])\n",
    "print(grid.best_params_)"
   ]
  },
  {
   "cell_type": "markdown",
   "metadata": {},
   "source": [
    "## Well, nothing revolutionary, but it does seem that removing highly correlated features is marginally useful"
   ]
  },
  {
   "cell_type": "code",
   "execution_count": 23,
   "metadata": {},
   "outputs": [],
   "source": [
    "gbm_params = {'boosting_type': 'dart', \n",
    "                  'colsample_bytree': 0.88, \n",
    "                  'learning_rate': 0.028, \n",
    "                   'min_child_samples': 10, \n",
    "                   'num_leaves': 36, 'reg_alpha': 0.76, \n",
    "                   'reg_lambda': 0.43, \n",
    "                   'subsample_for_bin': 40000, \n",
    "                   'subsample': 0.54, \n",
    "                   'class_weight': 'balanced'}\n",
    "\n",
    "test_pipeline = Pipeline(steps=[\n",
    "                        ('features', feature_extraction),\n",
    "                        ('imputer', Imputer(strategy='mean')),\n",
    "                        ('feature_scaler', StandardScaler()),\n",
    "                        ('feature_selection', SelectFromModel(ExtraTreesClassifier())),\n",
    "                        ('gbm', LGBMClassifier(**gbm_params, objective = 'multiclass',\n",
    "                                                       n_jobs = -1, n_estimators = 1000,\n",
    "                                                       random_state=1))])\n"
   ]
  },
  {
   "cell_type": "code",
   "execution_count": 24,
   "metadata": {},
   "outputs": [
    {
     "name": "stdout",
     "output_type": "stream",
     "text": [
      "Cross Validation F1 Score = 0.3886 with std = 0.0385\n",
      "Wall time: 2min 28s\n"
     ]
    }
   ],
   "source": [
    "%%time\n",
    "\n",
    "cv_score = cross_val_score(test_pipeline, X_train, y_train, cv=kfold, scoring=f1_scorer, n_jobs=-1)\n",
    "print(f'Cross Validation F1 Score = {round(cv_score.mean(), 4)} with std = {round(cv_score.std(), 4)}')"
   ]
  },
  {
   "cell_type": "code",
   "execution_count": null,
   "metadata": {},
   "outputs": [],
   "source": []
  },
  {
   "cell_type": "markdown",
   "metadata": {},
   "source": [
    "## randomized search for LGB hyperparameter tuning"
   ]
  },
  {
   "cell_type": "code",
   "execution_count": 43,
   "metadata": {},
   "outputs": [],
   "source": [
    "from sklearn.model_selection import StratifiedKFold"
   ]
  },
  {
   "cell_type": "code",
   "execution_count": 51,
   "metadata": {},
   "outputs": [
    {
     "name": "stdout",
     "output_type": "stream",
     "text": [
      "Model with rank: 1\n",
      "Mean validation score: 0.286 (std: 0.013)\n",
      "Parameters: {'gbm__boosting_type': 'dart', 'gbm__learning_rate': 0.049118407831602255}\n",
      "\n",
      "Model with rank: 2\n",
      "Mean validation score: 0.222 (std: 0.036)\n",
      "Parameters: {'gbm__boosting_type': 'dart', 'gbm__learning_rate': 0.05288335911056055}\n",
      "\n",
      "Wall time: 1min 52s\n"
     ]
    }
   ],
   "source": [
    "%%time\n",
    "\n",
    "# param_dist = dict(gbm__boosting_type=['dart'], \n",
    "#                   gbm__colsample_bytree=uniform(0.5,0.9), \n",
    "#                   gbm__learning_rate=uniform(0,0.1),\n",
    "#                    gbm__min_child_samples=randint(5,20), \n",
    "#                    gbm__num_leaves=randint(5,50),\n",
    "#                    gbm__reg_alpha=uniform(0.5,0.9), \n",
    "#                    gbm__reg_lambda=uniform(0.25,0.75), \n",
    "#                    gbm__subsample_for_bin=[1000,10000,50000], \n",
    "#                    gbm__subsample=uniform(0.25,0.75), \n",
    "#                    gbm__class_weight=['balanced'],\n",
    "#                  )\n",
    "param_dist = dict(gbm__boosting_type=['dart'],\n",
    "                  gbm__learning_rate=uniform(0.01, 0.05)\n",
    "                 )\n",
    "\n",
    "kfold_light = StratifiedKFold(n_splits=2, random_state=1)\n",
    "random_search = RandomizedSearchCV(test_pipeline, param_dist, cv=kfold_light, scoring=f1_scorer, n_jobs=-1,\n",
    "                                  n_iter=2)\n",
    "random_search.fit(X_train, y_train)\n",
    "\n",
    "report_cv_scores(random_search.cv_results_)"
   ]
  },
  {
   "cell_type": "code",
   "execution_count": 33,
   "metadata": {},
   "outputs": [],
   "source": [
    "from scipy.stats import randint\n",
    "from scipy.stats import uniform"
   ]
  },
  {
   "cell_type": "code",
   "execution_count": 34,
   "metadata": {},
   "outputs": [
    {
     "data": {
      "text/plain": [
       "<scipy.stats._distn_infrastructure.rv_frozen at 0x190165dfeb8>"
      ]
     },
     "execution_count": 34,
     "metadata": {},
     "output_type": "execute_result"
    }
   ],
   "source": [
    "randint(0,10)"
   ]
  },
  {
   "cell_type": "code",
   "execution_count": 35,
   "metadata": {},
   "outputs": [
    {
     "data": {
      "text/plain": [
       "<scipy.stats._distn_infrastructure.rv_frozen at 0x190165df908>"
      ]
     },
     "execution_count": 35,
     "metadata": {},
     "output_type": "execute_result"
    }
   ],
   "source": [
    "uniform(0,10)"
   ]
  },
  {
   "cell_type": "code",
   "execution_count": null,
   "metadata": {},
   "outputs": [],
   "source": []
  },
  {
   "cell_type": "code",
   "execution_count": null,
   "metadata": {},
   "outputs": [],
   "source": []
  }
 ],
 "metadata": {
  "kernelspec": {
   "display_name": "Python 3",
   "language": "python",
   "name": "python3"
  },
  "language_info": {
   "codemirror_mode": {
    "name": "ipython",
    "version": 3
   },
   "file_extension": ".py",
   "mimetype": "text/x-python",
   "name": "python",
   "nbconvert_exporter": "python",
   "pygments_lexer": "ipython3",
   "version": "3.6.6"
  }
 },
 "nbformat": 4,
 "nbformat_minor": 2
}
