{
 "cells": [
  {
   "cell_type": "markdown",
   "metadata": {},
   "source": [
    "## Run model\n",
    "Explanation of model development and tuning here: "
   ]
  },
  {
   "cell_type": "code",
   "execution_count": null,
   "metadata": {},
   "outputs": [],
   "source": [
    "## INSTRUCTIONS TO RUN THE MODEL\n",
    "import os\n",
    "import sys\n",
    "import pandas as pd\n",
    "import pickle\n",
    "\n",
    "# Add library to path \n",
    "module_path = os.path.abspath(os.path.join('..'))\n",
    "if module_path not in sys.path:\n",
    "    sys.path.append(module_path)\n",
    "    \n",
    "from lib.model import pipeline, pipeline_cv_score\n",
    "\n",
    "X_data = pd.read_hdf('../models/data.hdf', key='X_data')\n",
    "y_data = pd.read_hdf('../models/data.hdf', key='y_data')\n",
    "tuned_params = pickle.load(open(\"../models/tuned_params.p\", \"rb\"))\n",
    "\n",
    "pipeline.set_params(**tuned_params)\n",
    "\n",
    "pipeline_cv_score(pipeline, X_data, y_data)\n",
    "\n",
    "# pipeline.fit(X_data)\n",
    "# pipeline.predict(TEST_FEATURES_HERE)"
   ]
  }
 ],
 "metadata": {
  "kernelspec": {
   "display_name": "Python 3",
   "language": "python",
   "name": "python3"
  },
  "language_info": {
   "codemirror_mode": {
    "name": "ipython",
    "version": 3
   },
   "file_extension": ".py",
   "mimetype": "text/x-python",
   "name": "python",
   "nbconvert_exporter": "python",
   "pygments_lexer": "ipython3",
   "version": "3.6.6"
  }
 },
 "nbformat": 4,
 "nbformat_minor": 2
}
