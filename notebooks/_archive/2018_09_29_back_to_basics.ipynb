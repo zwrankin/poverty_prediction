{
 "cells": [
  {
   "cell_type": "markdown",
   "metadata": {},
   "source": [
    "# I'm not sure why, but my fancy pipelines seem to only get <0.40\n",
    "Let's start with https://www.kaggle.com/willkoehrsen/a-complete-introduction-and-walkthrough, who got at least 0.42 in the notebook, then see where I went wrong. I'll import my existing tools when relevant but otherwise do all the work in the notebook for now"
   ]
  },
  {
   "cell_type": "code",
   "execution_count": 1,
   "metadata": {},
   "outputs": [],
   "source": [
    "import os\n",
    "import sys\n",
    "import numpy as np\n",
    "import pandas as pd\n",
    "import matplotlib.pyplot as plt\n",
    "import seaborn as sns\n",
    "\n",
    "%matplotlib inline"
   ]
  },
  {
   "cell_type": "code",
   "execution_count": 70,
   "metadata": {},
   "outputs": [],
   "source": [
    "# Tools for developing code\n",
    "%load_ext autoreload \n",
    "%autoreload 2\n",
    "\n",
    "# Add library to path \n",
    "module_path = os.path.abspath(os.path.join('..'))\n",
    "if module_path not in sys.path:\n",
    "    sys.path.append(module_path)\n",
    "\n",
    "from lib.model import kfold, f1_scorer"
   ]
  },
  {
   "cell_type": "code",
   "execution_count": 3,
   "metadata": {},
   "outputs": [],
   "source": [
    "train = pd.read_csv('../input/train.csv')\n",
    "test = pd.read_csv('../input/test.csv')"
   ]
  },
  {
   "cell_type": "code",
   "execution_count": 4,
   "metadata": {},
   "outputs": [
    {
     "data": {
      "text/html": [
       "<div>\n",
       "<style scoped>\n",
       "    .dataframe tbody tr th:only-of-type {\n",
       "        vertical-align: middle;\n",
       "    }\n",
       "\n",
       "    .dataframe tbody tr th {\n",
       "        vertical-align: top;\n",
       "    }\n",
       "\n",
       "    .dataframe thead th {\n",
       "        text-align: right;\n",
       "    }\n",
       "</style>\n",
       "<table border=\"1\" class=\"dataframe\">\n",
       "  <thead>\n",
       "    <tr style=\"text-align: right;\">\n",
       "      <th></th>\n",
       "      <th>dependency</th>\n",
       "      <th>edjefa</th>\n",
       "      <th>edjefe</th>\n",
       "    </tr>\n",
       "  </thead>\n",
       "  <tbody>\n",
       "    <tr>\n",
       "      <th>count</th>\n",
       "      <td>9557.000000</td>\n",
       "      <td>9557.000000</td>\n",
       "      <td>9557.000000</td>\n",
       "    </tr>\n",
       "    <tr>\n",
       "      <th>mean</th>\n",
       "      <td>1.149550</td>\n",
       "      <td>2.896830</td>\n",
       "      <td>5.096788</td>\n",
       "    </tr>\n",
       "    <tr>\n",
       "      <th>std</th>\n",
       "      <td>1.605993</td>\n",
       "      <td>4.612056</td>\n",
       "      <td>5.246513</td>\n",
       "    </tr>\n",
       "    <tr>\n",
       "      <th>min</th>\n",
       "      <td>0.000000</td>\n",
       "      <td>0.000000</td>\n",
       "      <td>0.000000</td>\n",
       "    </tr>\n",
       "    <tr>\n",
       "      <th>25%</th>\n",
       "      <td>0.333333</td>\n",
       "      <td>0.000000</td>\n",
       "      <td>0.000000</td>\n",
       "    </tr>\n",
       "    <tr>\n",
       "      <th>50%</th>\n",
       "      <td>0.666667</td>\n",
       "      <td>0.000000</td>\n",
       "      <td>6.000000</td>\n",
       "    </tr>\n",
       "    <tr>\n",
       "      <th>75%</th>\n",
       "      <td>1.333333</td>\n",
       "      <td>6.000000</td>\n",
       "      <td>9.000000</td>\n",
       "    </tr>\n",
       "    <tr>\n",
       "      <th>max</th>\n",
       "      <td>8.000000</td>\n",
       "      <td>21.000000</td>\n",
       "      <td>21.000000</td>\n",
       "    </tr>\n",
       "  </tbody>\n",
       "</table>\n",
       "</div>"
      ],
      "text/plain": [
       "        dependency       edjefa       edjefe\n",
       "count  9557.000000  9557.000000  9557.000000\n",
       "mean      1.149550     2.896830     5.096788\n",
       "std       1.605993     4.612056     5.246513\n",
       "min       0.000000     0.000000     0.000000\n",
       "25%       0.333333     0.000000     0.000000\n",
       "50%       0.666667     0.000000     6.000000\n",
       "75%       1.333333     6.000000     9.000000\n",
       "max       8.000000    21.000000    21.000000"
      ]
     },
     "execution_count": 4,
     "metadata": {},
     "output_type": "execute_result"
    }
   ],
   "source": [
    "mapping = {\"yes\": 1, \"no\": 0}\n",
    "\n",
    "# Apply same operation to both train and test\n",
    "for df in [train, test]:\n",
    "    # Fill in the values with the correct mapping\n",
    "    df['dependency'] = df['dependency'].replace(mapping).astype(np.float64)\n",
    "    df['edjefa'] = df['edjefa'].replace(mapping).astype(np.float64)\n",
    "    df['edjefe'] = df['edjefe'].replace(mapping).astype(np.float64)\n",
    "\n",
    "train[['dependency', 'edjefa', 'edjefe']].describe()"
   ]
  },
  {
   "cell_type": "code",
   "execution_count": 5,
   "metadata": {},
   "outputs": [],
   "source": [
    "# Add null Target column to test\n",
    "test['Target'] = np.nan\n",
    "data = train.append(test, ignore_index = True)"
   ]
  },
  {
   "cell_type": "markdown",
   "metadata": {},
   "source": [
    "## Correct labels for households with multiple labels"
   ]
  },
  {
   "cell_type": "code",
   "execution_count": 6,
   "metadata": {},
   "outputs": [
    {
     "name": "stdout",
     "output_type": "stream",
     "text": [
      "There are 85 households where the family members do not all have the same target.\n"
     ]
    }
   ],
   "source": [
    "# Groupby the household and figure out the number of unique values\n",
    "all_equal = train.groupby('idhogar')['Target'].apply(lambda x: x.nunique() == 1)\n",
    "\n",
    "# Households where targets are not all equal\n",
    "not_equal = all_equal[all_equal != True]\n",
    "print('There are {} households where the family members do not all have the same target.'.format(len(not_equal)))"
   ]
  },
  {
   "cell_type": "code",
   "execution_count": 7,
   "metadata": {},
   "outputs": [
    {
     "name": "stdout",
     "output_type": "stream",
     "text": [
      "There are 0 households where the family members do not all have the same target.\n"
     ]
    }
   ],
   "source": [
    "# Iterate through each household\n",
    "for household in not_equal.index:\n",
    "    # Find the correct label (for the head of household)\n",
    "    true_target = int(train[(train['idhogar'] == household) & (train['parentesco1'] == 1.0)]['Target'])\n",
    "    \n",
    "    # Set the correct label for all members in the household\n",
    "    train.loc[train['idhogar'] == household, 'Target'] = true_target\n",
    "    \n",
    "    \n",
    "# Groupby the household and figure out the number of unique values\n",
    "all_equal = train.groupby('idhogar')['Target'].apply(lambda x: x.nunique() == 1)\n",
    "\n",
    "# Households where targets are not all equal\n",
    "not_equal = all_equal[all_equal != True]\n",
    "print('There are {} households where the family members do not all have the same target.'.format(len(not_equal)))"
   ]
  },
  {
   "cell_type": "markdown",
   "metadata": {},
   "source": [
    "## Correct missingness"
   ]
  },
  {
   "cell_type": "code",
   "execution_count": 8,
   "metadata": {},
   "outputs": [
    {
     "data": {
      "text/html": [
       "<div>\n",
       "<style scoped>\n",
       "    .dataframe tbody tr th:only-of-type {\n",
       "        vertical-align: middle;\n",
       "    }\n",
       "\n",
       "    .dataframe tbody tr th {\n",
       "        vertical-align: top;\n",
       "    }\n",
       "\n",
       "    .dataframe thead th {\n",
       "        text-align: right;\n",
       "    }\n",
       "</style>\n",
       "<table border=\"1\" class=\"dataframe\">\n",
       "  <thead>\n",
       "    <tr style=\"text-align: right;\">\n",
       "      <th></th>\n",
       "      <th>total</th>\n",
       "      <th>percent</th>\n",
       "    </tr>\n",
       "  </thead>\n",
       "  <tbody>\n",
       "    <tr>\n",
       "      <th>rez_esc</th>\n",
       "      <td>27581</td>\n",
       "      <td>0.825457</td>\n",
       "    </tr>\n",
       "    <tr>\n",
       "      <th>v18q1</th>\n",
       "      <td>25468</td>\n",
       "      <td>0.762218</td>\n",
       "    </tr>\n",
       "    <tr>\n",
       "      <th>v2a1</th>\n",
       "      <td>24263</td>\n",
       "      <td>0.726154</td>\n",
       "    </tr>\n",
       "    <tr>\n",
       "      <th>SQBmeaned</th>\n",
       "      <td>36</td>\n",
       "      <td>0.001077</td>\n",
       "    </tr>\n",
       "    <tr>\n",
       "      <th>meaneduc</th>\n",
       "      <td>36</td>\n",
       "      <td>0.001077</td>\n",
       "    </tr>\n",
       "    <tr>\n",
       "      <th>hogar_adul</th>\n",
       "      <td>0</td>\n",
       "      <td>0.000000</td>\n",
       "    </tr>\n",
       "    <tr>\n",
       "      <th>parentesco10</th>\n",
       "      <td>0</td>\n",
       "      <td>0.000000</td>\n",
       "    </tr>\n",
       "    <tr>\n",
       "      <th>parentesco11</th>\n",
       "      <td>0</td>\n",
       "      <td>0.000000</td>\n",
       "    </tr>\n",
       "    <tr>\n",
       "      <th>parentesco12</th>\n",
       "      <td>0</td>\n",
       "      <td>0.000000</td>\n",
       "    </tr>\n",
       "  </tbody>\n",
       "</table>\n",
       "</div>"
      ],
      "text/plain": [
       "              total   percent\n",
       "rez_esc       27581  0.825457\n",
       "v18q1         25468  0.762218\n",
       "v2a1          24263  0.726154\n",
       "SQBmeaned        36  0.001077\n",
       "meaneduc         36  0.001077\n",
       "hogar_adul        0  0.000000\n",
       "parentesco10      0  0.000000\n",
       "parentesco11      0  0.000000\n",
       "parentesco12      0  0.000000"
      ]
     },
     "execution_count": 8,
     "metadata": {},
     "output_type": "execute_result"
    }
   ],
   "source": [
    "# Number of missing in each column\n",
    "missing = pd.DataFrame(data.isnull().sum()).rename(columns = {0: 'total'})\n",
    "\n",
    "# Create a percentage missing\n",
    "missing['percent'] = missing['total'] / len(data)\n",
    "\n",
    "missing.sort_values('percent', ascending = False).head(10).drop('Target')"
   ]
  },
  {
   "cell_type": "code",
   "execution_count": 9,
   "metadata": {},
   "outputs": [],
   "source": [
    "# Missing num tablets means you don't have one\n",
    "data['v18q1'] = data['v18q1'].fillna(0)\n",
    "\n",
    "# Fill in households that own the house with 0 rent payment\n",
    "data.loc[(data['tipovivi1'] == 1), 'v2a1'] = 0\n",
    "\n",
    "# Create missing rent payment column\n",
    "data['v2a1-missing'] = data['v2a1'].isnull()\n",
    "\n",
    "data['v2a1-missing'].value_counts()\n",
    "\n",
    "# If individual is over 19 or younger than 7 and missing years behind, set it to 0\n",
    "data.loc[((data['age'] > 19) | (data['age'] < 7)) & (data['rez_esc'].isnull()), 'rez_esc'] = 0\n",
    "\n",
    "# Add a flag for those between 7 and 19 with a missing value\n",
    "data['rez_esc-missing'] = data['rez_esc'].isnull()\n",
    "\n",
    "data.loc[data['rez_esc'] > 5, 'rez_esc'] = 5"
   ]
  },
  {
   "cell_type": "code",
   "execution_count": 10,
   "metadata": {},
   "outputs": [
    {
     "name": "stdout",
     "output_type": "stream",
     "text": [
      "There are no repeats:  True\n",
      "We covered every variable:  True\n"
     ]
    }
   ],
   "source": [
    "id_ = ['Id', 'idhogar', 'Target']\n",
    "\n",
    "ind_bool = ['v18q', 'dis', 'male', 'female', 'estadocivil1', 'estadocivil2', 'estadocivil3', \n",
    "            'estadocivil4', 'estadocivil5', 'estadocivil6', 'estadocivil7', \n",
    "            'parentesco1', 'parentesco2',  'parentesco3', 'parentesco4', 'parentesco5', \n",
    "            'parentesco6', 'parentesco7', 'parentesco8',  'parentesco9', 'parentesco10', \n",
    "            'parentesco11', 'parentesco12', 'instlevel1', 'instlevel2', 'instlevel3', \n",
    "            'instlevel4', 'instlevel5', 'instlevel6', 'instlevel7', 'instlevel8', \n",
    "            'instlevel9', 'mobilephone', 'rez_esc-missing']\n",
    "\n",
    "ind_ordered = ['rez_esc', 'escolari', 'age']\n",
    "\n",
    "hh_bool = ['hacdor', 'hacapo', 'v14a', 'refrig', 'paredblolad', 'paredzocalo', \n",
    "           'paredpreb','pisocemento', 'pareddes', 'paredmad',\n",
    "           'paredzinc', 'paredfibras', 'paredother', 'pisomoscer', 'pisoother', \n",
    "           'pisonatur', 'pisonotiene', 'pisomadera',\n",
    "           'techozinc', 'techoentrepiso', 'techocane', 'techootro', 'cielorazo', \n",
    "           'abastaguadentro', 'abastaguafuera', 'abastaguano',\n",
    "            'public', 'planpri', 'noelec', 'coopele', 'sanitario1', \n",
    "           'sanitario2', 'sanitario3', 'sanitario5',   'sanitario6',\n",
    "           'energcocinar1', 'energcocinar2', 'energcocinar3', 'energcocinar4', \n",
    "           'elimbasu1', 'elimbasu2', 'elimbasu3', 'elimbasu4', \n",
    "           'elimbasu5', 'elimbasu6', 'epared1', 'epared2', 'epared3',\n",
    "           'etecho1', 'etecho2', 'etecho3', 'eviv1', 'eviv2', 'eviv3', \n",
    "           'tipovivi1', 'tipovivi2', 'tipovivi3', 'tipovivi4', 'tipovivi5', \n",
    "           'computer', 'television', 'lugar1', 'lugar2', 'lugar3',\n",
    "           'lugar4', 'lugar5', 'lugar6', 'area1', 'area2', 'v2a1-missing']\n",
    "\n",
    "hh_ordered = [ 'rooms', 'r4h1', 'r4h2', 'r4h3', 'r4m1','r4m2','r4m3', 'r4t1',  'r4t2', \n",
    "              'r4t3', 'v18q1', 'tamhog','tamviv','hhsize','hogar_nin',\n",
    "              'hogar_adul','hogar_mayor','hogar_total',  'bedrooms', 'qmobilephone']\n",
    "\n",
    "hh_cont = ['v2a1', 'dependency', 'edjefe', 'edjefa', 'meaneduc', 'overcrowding']\n",
    "\n",
    "sqr_ = ['SQBescolari', 'SQBage', 'SQBhogar_total', 'SQBedjefe', \n",
    "        'SQBhogar_nin', 'SQBovercrowding', 'SQBdependency', 'SQBmeaned', 'agesq']\n",
    "\n",
    "x = ind_bool + ind_ordered + id_ + hh_bool + hh_ordered + hh_cont + sqr_\n",
    "\n",
    "from collections import Counter\n",
    "\n",
    "print('There are no repeats: ', np.all(np.array(list(Counter(x).values())) == 1))\n",
    "print('We covered every variable: ', len(x) == data.shape[1])"
   ]
  },
  {
   "cell_type": "code",
   "execution_count": 11,
   "metadata": {},
   "outputs": [
    {
     "data": {
      "text/plain": [
       "(10307, 99)"
      ]
     },
     "execution_count": 11,
     "metadata": {},
     "output_type": "execute_result"
    }
   ],
   "source": [
    "# Remove squared variables\n",
    "data = data.drop(columns = sqr_)\n",
    "\n",
    "heads = data.loc[data['parentesco1'] == 1, :]\n",
    "heads = heads[id_ + hh_bool + hh_cont + hh_ordered]\n",
    "heads.shape"
   ]
  },
  {
   "cell_type": "markdown",
   "metadata": {},
   "source": [
    "## Redundant Household Variables"
   ]
  },
  {
   "cell_type": "code",
   "execution_count": 12,
   "metadata": {},
   "outputs": [
    {
     "data": {
      "text/plain": [
       "['coopele', 'area2', 'tamhog', 'hhsize', 'hogar_total']"
      ]
     },
     "execution_count": 12,
     "metadata": {},
     "output_type": "execute_result"
    }
   ],
   "source": [
    "# Create correlation matrix\n",
    "corr_matrix = heads.corr()\n",
    "\n",
    "# Select upper triangle of correlation matrix\n",
    "upper = corr_matrix.where(np.triu(np.ones(corr_matrix.shape), k=1).astype(np.bool))\n",
    "\n",
    "# Find index of feature columns with correlation greater than 0.95\n",
    "to_drop = [column for column in upper.columns if any(abs(upper[column]) > 0.95)]\n",
    "\n",
    "to_drop"
   ]
  },
  {
   "cell_type": "code",
   "execution_count": 13,
   "metadata": {},
   "outputs": [],
   "source": [
    "heads = heads.drop(columns = ['tamhog', 'hogar_total', 'r4t3'])\n",
    "\n",
    "heads['hhsize-diff'] = heads['tamviv'] - heads['hhsize']"
   ]
  },
  {
   "cell_type": "code",
   "execution_count": 14,
   "metadata": {},
   "outputs": [],
   "source": [
    "elec = []\n",
    "\n",
    "# Assign values\n",
    "for i, row in heads.iterrows():\n",
    "    if row['noelec'] == 1:\n",
    "        elec.append(0)\n",
    "    elif row['coopele'] == 1:\n",
    "        elec.append(1)\n",
    "    elif row['public'] == 1:\n",
    "        elec.append(2)\n",
    "    elif row['planpri'] == 1:\n",
    "        elec.append(3)\n",
    "    else:\n",
    "        elec.append(np.nan)\n",
    "        \n",
    "# Record the new variable and missing flag\n",
    "heads['elec'] = elec\n",
    "heads['elec-missing'] = heads['elec'].isnull()"
   ]
  },
  {
   "cell_type": "code",
   "execution_count": 15,
   "metadata": {},
   "outputs": [],
   "source": [
    "heads = heads.drop(columns = 'area2')"
   ]
  },
  {
   "cell_type": "code",
   "execution_count": 16,
   "metadata": {},
   "outputs": [],
   "source": [
    "# Wall ordinal variable\n",
    "heads['walls'] = np.argmax(np.array(heads[['epared1', 'epared2', 'epared3']]),\n",
    "                           axis = 1)\n",
    "\n",
    "# Roof ordinal variable\n",
    "heads['roof'] = np.argmax(np.array(heads[['etecho1', 'etecho2', 'etecho3']]),\n",
    "                           axis = 1)\n",
    "heads = heads.drop(columns = ['etecho1', 'etecho2', 'etecho3'])\n",
    "\n",
    "# Floor ordinal variable\n",
    "heads['floor'] = np.argmax(np.array(heads[['eviv1', 'eviv2', 'eviv3']]),\n",
    "                           axis = 1)\n",
    "\n",
    "# Create new feature\n",
    "heads['walls+roof+floor'] = heads['walls'] + heads['roof'] + heads['floor']\n",
    "\n",
    "\n",
    "# No toilet, no electricity, no floor, no water service, no ceiling\n",
    "heads['warning'] = 1 * (heads['sanitario1'] + \n",
    "                         (heads['elec'] == 0) + \n",
    "                         heads['pisonotiene'] + \n",
    "                         heads['abastaguano'] + \n",
    "                         (heads['cielorazo'] == 0))\n",
    "\n",
    "# Owns a refrigerator, computer, tablet, and television\n",
    "heads['bonus'] = 1 * (heads['refrig'] + \n",
    "                      heads['computer'] + \n",
    "                      (heads['v18q1'] > 0) + \n",
    "                      heads['television'])\n",
    "\n",
    "heads['phones-per-capita'] = heads['qmobilephone'] / heads['tamviv']\n",
    "heads['tablets-per-capita'] = heads['v18q1'] / heads['tamviv']\n",
    "heads['rooms-per-capita'] = heads['rooms'] / heads['tamviv']\n",
    "heads['rent-per-capita'] = heads['v2a1'] / heads['tamviv']"
   ]
  },
  {
   "cell_type": "code",
   "execution_count": 17,
   "metadata": {},
   "outputs": [],
   "source": [
    "household_feats = list(heads.columns)"
   ]
  },
  {
   "cell_type": "markdown",
   "metadata": {},
   "source": [
    "## Process individual-level features"
   ]
  },
  {
   "cell_type": "code",
   "execution_count": 18,
   "metadata": {},
   "outputs": [
    {
     "data": {
      "text/plain": [
       "(33413, 40)"
      ]
     },
     "execution_count": 18,
     "metadata": {},
     "output_type": "execute_result"
    }
   ],
   "source": [
    "ind = data[id_ + ind_bool + ind_ordered]\n",
    "ind.shape"
   ]
  },
  {
   "cell_type": "code",
   "execution_count": 19,
   "metadata": {},
   "outputs": [
    {
     "data": {
      "text/plain": [
       "['female']"
      ]
     },
     "execution_count": 19,
     "metadata": {},
     "output_type": "execute_result"
    }
   ],
   "source": [
    "# Create correlation matrix\n",
    "corr_matrix = ind.corr()\n",
    "\n",
    "# Select upper triangle of correlation matrix\n",
    "upper = corr_matrix.where(np.triu(np.ones(corr_matrix.shape), k=1).astype(np.bool))\n",
    "\n",
    "# Find index of feature columns with correlation greater than 0.95\n",
    "to_drop = [column for column in upper.columns if any(abs(upper[column]) > 0.95)]\n",
    "\n",
    "to_drop"
   ]
  },
  {
   "cell_type": "code",
   "execution_count": 20,
   "metadata": {},
   "outputs": [],
   "source": [
    "ind = ind.drop(columns = 'male')"
   ]
  },
  {
   "cell_type": "code",
   "execution_count": 21,
   "metadata": {},
   "outputs": [],
   "source": [
    "ind['inst'] = np.argmax(np.array(ind[[c for c in ind if c.startswith('instl')]]), axis = 1)"
   ]
  },
  {
   "cell_type": "code",
   "execution_count": 22,
   "metadata": {},
   "outputs": [
    {
     "data": {
      "text/plain": [
       "(33413, 40)"
      ]
     },
     "execution_count": 22,
     "metadata": {},
     "output_type": "execute_result"
    }
   ],
   "source": [
    "ind.shape"
   ]
  },
  {
   "cell_type": "code",
   "execution_count": 23,
   "metadata": {},
   "outputs": [
    {
     "data": {
      "text/plain": [
       "count    33413.000000\n",
       "mean         1.214886\n",
       "std          0.462567\n",
       "min          0.000000\n",
       "25%          1.000000\n",
       "50%          1.000000\n",
       "75%          1.000000\n",
       "max          2.000000\n",
       "Name: tech, dtype: float64"
      ]
     },
     "execution_count": 23,
     "metadata": {},
     "output_type": "execute_result"
    }
   ],
   "source": [
    "ind['escolari/age'] = ind['escolari'] / ind['age']\n",
    "\n",
    "ind['inst/age'] = ind['inst'] / ind['age']\n",
    "ind['tech'] = ind['v18q'] + ind['mobilephone']\n",
    "ind['tech'].describe()\n",
    "\n",
    "\n"
   ]
  },
  {
   "cell_type": "code",
   "execution_count": 24,
   "metadata": {},
   "outputs": [
    {
     "data": {
      "text/html": [
       "<div>\n",
       "<style scoped>\n",
       "    .dataframe tbody tr th:only-of-type {\n",
       "        vertical-align: middle;\n",
       "    }\n",
       "\n",
       "    .dataframe tbody tr th {\n",
       "        vertical-align: top;\n",
       "    }\n",
       "\n",
       "    .dataframe thead tr th {\n",
       "        text-align: left;\n",
       "    }\n",
       "\n",
       "    .dataframe thead tr:last-of-type th {\n",
       "        text-align: right;\n",
       "    }\n",
       "</style>\n",
       "<table border=\"1\" class=\"dataframe\">\n",
       "  <thead>\n",
       "    <tr>\n",
       "      <th></th>\n",
       "      <th colspan=\"6\" halign=\"left\">v18q</th>\n",
       "      <th colspan=\"4\" halign=\"left\">dis</th>\n",
       "      <th>...</th>\n",
       "      <th colspan=\"4\" halign=\"left\">inst/age</th>\n",
       "      <th colspan=\"6\" halign=\"left\">tech</th>\n",
       "    </tr>\n",
       "    <tr>\n",
       "      <th></th>\n",
       "      <th>min</th>\n",
       "      <th>max</th>\n",
       "      <th>sum</th>\n",
       "      <th>count</th>\n",
       "      <th>std</th>\n",
       "      <th>range_</th>\n",
       "      <th>min</th>\n",
       "      <th>max</th>\n",
       "      <th>sum</th>\n",
       "      <th>count</th>\n",
       "      <th>...</th>\n",
       "      <th>sum</th>\n",
       "      <th>count</th>\n",
       "      <th>std</th>\n",
       "      <th>range_</th>\n",
       "      <th>min</th>\n",
       "      <th>max</th>\n",
       "      <th>sum</th>\n",
       "      <th>count</th>\n",
       "      <th>std</th>\n",
       "      <th>range_</th>\n",
       "    </tr>\n",
       "    <tr>\n",
       "      <th>idhogar</th>\n",
       "      <th></th>\n",
       "      <th></th>\n",
       "      <th></th>\n",
       "      <th></th>\n",
       "      <th></th>\n",
       "      <th></th>\n",
       "      <th></th>\n",
       "      <th></th>\n",
       "      <th></th>\n",
       "      <th></th>\n",
       "      <th></th>\n",
       "      <th></th>\n",
       "      <th></th>\n",
       "      <th></th>\n",
       "      <th></th>\n",
       "      <th></th>\n",
       "      <th></th>\n",
       "      <th></th>\n",
       "      <th></th>\n",
       "      <th></th>\n",
       "      <th></th>\n",
       "    </tr>\n",
       "  </thead>\n",
       "  <tbody>\n",
       "    <tr>\n",
       "      <th>000a08204</th>\n",
       "      <td>1</td>\n",
       "      <td>1</td>\n",
       "      <td>3</td>\n",
       "      <td>3</td>\n",
       "      <td>0.0</td>\n",
       "      <td>0</td>\n",
       "      <td>0</td>\n",
       "      <td>0</td>\n",
       "      <td>0</td>\n",
       "      <td>3</td>\n",
       "      <td>...</td>\n",
       "      <td>0.483333</td>\n",
       "      <td>3</td>\n",
       "      <td>0.139775</td>\n",
       "      <td>0.250000</td>\n",
       "      <td>2</td>\n",
       "      <td>2</td>\n",
       "      <td>6</td>\n",
       "      <td>3</td>\n",
       "      <td>0.0</td>\n",
       "      <td>0</td>\n",
       "    </tr>\n",
       "    <tr>\n",
       "      <th>000bce7c4</th>\n",
       "      <td>0</td>\n",
       "      <td>0</td>\n",
       "      <td>0</td>\n",
       "      <td>2</td>\n",
       "      <td>0.0</td>\n",
       "      <td>0</td>\n",
       "      <td>0</td>\n",
       "      <td>1</td>\n",
       "      <td>1</td>\n",
       "      <td>2</td>\n",
       "      <td>...</td>\n",
       "      <td>0.016667</td>\n",
       "      <td>2</td>\n",
       "      <td>0.011785</td>\n",
       "      <td>0.016667</td>\n",
       "      <td>1</td>\n",
       "      <td>1</td>\n",
       "      <td>2</td>\n",
       "      <td>2</td>\n",
       "      <td>0.0</td>\n",
       "      <td>0</td>\n",
       "    </tr>\n",
       "    <tr>\n",
       "      <th>001845fb0</th>\n",
       "      <td>0</td>\n",
       "      <td>0</td>\n",
       "      <td>0</td>\n",
       "      <td>4</td>\n",
       "      <td>0.0</td>\n",
       "      <td>0</td>\n",
       "      <td>0</td>\n",
       "      <td>0</td>\n",
       "      <td>0</td>\n",
       "      <td>4</td>\n",
       "      <td>...</td>\n",
       "      <td>0.511959</td>\n",
       "      <td>4</td>\n",
       "      <td>0.060123</td>\n",
       "      <td>0.128205</td>\n",
       "      <td>1</td>\n",
       "      <td>1</td>\n",
       "      <td>4</td>\n",
       "      <td>4</td>\n",
       "      <td>0.0</td>\n",
       "      <td>0</td>\n",
       "    </tr>\n",
       "    <tr>\n",
       "      <th>001ff74ca</th>\n",
       "      <td>1</td>\n",
       "      <td>1</td>\n",
       "      <td>2</td>\n",
       "      <td>2</td>\n",
       "      <td>0.0</td>\n",
       "      <td>0</td>\n",
       "      <td>0</td>\n",
       "      <td>0</td>\n",
       "      <td>0</td>\n",
       "      <td>2</td>\n",
       "      <td>...</td>\n",
       "      <td>0.184211</td>\n",
       "      <td>1</td>\n",
       "      <td>NaN</td>\n",
       "      <td>0.000000</td>\n",
       "      <td>2</td>\n",
       "      <td>2</td>\n",
       "      <td>4</td>\n",
       "      <td>2</td>\n",
       "      <td>0.0</td>\n",
       "      <td>0</td>\n",
       "    </tr>\n",
       "    <tr>\n",
       "      <th>003123ec2</th>\n",
       "      <td>0</td>\n",
       "      <td>0</td>\n",
       "      <td>0</td>\n",
       "      <td>4</td>\n",
       "      <td>0.0</td>\n",
       "      <td>0</td>\n",
       "      <td>0</td>\n",
       "      <td>0</td>\n",
       "      <td>0</td>\n",
       "      <td>4</td>\n",
       "      <td>...</td>\n",
       "      <td>0.213768</td>\n",
       "      <td>4</td>\n",
       "      <td>0.064636</td>\n",
       "      <td>0.130435</td>\n",
       "      <td>1</td>\n",
       "      <td>1</td>\n",
       "      <td>4</td>\n",
       "      <td>4</td>\n",
       "      <td>0.0</td>\n",
       "      <td>0</td>\n",
       "    </tr>\n",
       "  </tbody>\n",
       "</table>\n",
       "<p>5 rows × 234 columns</p>\n",
       "</div>"
      ],
      "text/plain": [
       "          v18q                           dis                ...    inst/age  \\\n",
       "           min max sum count  std range_ min max sum count  ...         sum   \n",
       "idhogar                                                     ...               \n",
       "000a08204    1   1   3     3  0.0      0   0   0   0     3  ...    0.483333   \n",
       "000bce7c4    0   0   0     2  0.0      0   0   1   1     2  ...    0.016667   \n",
       "001845fb0    0   0   0     4  0.0      0   0   0   0     4  ...    0.511959   \n",
       "001ff74ca    1   1   2     2  0.0      0   0   0   0     2  ...    0.184211   \n",
       "003123ec2    0   0   0     4  0.0      0   0   0   0     4  ...    0.213768   \n",
       "\n",
       "                                    tech                            \n",
       "          count       std    range_  min max sum count  std range_  \n",
       "idhogar                                                             \n",
       "000a08204     3  0.139775  0.250000    2   2   6     3  0.0      0  \n",
       "000bce7c4     2  0.011785  0.016667    1   1   2     2  0.0      0  \n",
       "001845fb0     4  0.060123  0.128205    1   1   4     4  0.0      0  \n",
       "001ff74ca     1       NaN  0.000000    2   2   4     2  0.0      0  \n",
       "003123ec2     4  0.064636  0.130435    1   1   4     4  0.0      0  \n",
       "\n",
       "[5 rows x 234 columns]"
      ]
     },
     "execution_count": 24,
     "metadata": {},
     "output_type": "execute_result"
    }
   ],
   "source": [
    "# Define custom function\n",
    "range_ = lambda x: x.max() - x.min()\n",
    "range_.__name__ = 'range_'\n",
    "\n",
    "# Group and aggregate\n",
    "ind_agg = ind.drop(columns = 'Target').groupby('idhogar').agg(['min', 'max', 'sum', 'count', 'std', range_])\n",
    "ind_agg.head()"
   ]
  },
  {
   "cell_type": "code",
   "execution_count": 25,
   "metadata": {},
   "outputs": [
    {
     "data": {
      "text/html": [
       "<div>\n",
       "<style scoped>\n",
       "    .dataframe tbody tr th:only-of-type {\n",
       "        vertical-align: middle;\n",
       "    }\n",
       "\n",
       "    .dataframe tbody tr th {\n",
       "        vertical-align: top;\n",
       "    }\n",
       "\n",
       "    .dataframe thead th {\n",
       "        text-align: right;\n",
       "    }\n",
       "</style>\n",
       "<table border=\"1\" class=\"dataframe\">\n",
       "  <thead>\n",
       "    <tr style=\"text-align: right;\">\n",
       "      <th></th>\n",
       "      <th>v18q-min</th>\n",
       "      <th>v18q-max</th>\n",
       "      <th>v18q-sum</th>\n",
       "      <th>v18q-count</th>\n",
       "      <th>v18q-std</th>\n",
       "      <th>v18q-range_</th>\n",
       "      <th>dis-min</th>\n",
       "      <th>dis-max</th>\n",
       "      <th>dis-sum</th>\n",
       "      <th>dis-count</th>\n",
       "      <th>...</th>\n",
       "      <th>inst/age-sum</th>\n",
       "      <th>inst/age-count</th>\n",
       "      <th>inst/age-std</th>\n",
       "      <th>inst/age-range_</th>\n",
       "      <th>tech-min</th>\n",
       "      <th>tech-max</th>\n",
       "      <th>tech-sum</th>\n",
       "      <th>tech-count</th>\n",
       "      <th>tech-std</th>\n",
       "      <th>tech-range_</th>\n",
       "    </tr>\n",
       "    <tr>\n",
       "      <th>idhogar</th>\n",
       "      <th></th>\n",
       "      <th></th>\n",
       "      <th></th>\n",
       "      <th></th>\n",
       "      <th></th>\n",
       "      <th></th>\n",
       "      <th></th>\n",
       "      <th></th>\n",
       "      <th></th>\n",
       "      <th></th>\n",
       "      <th></th>\n",
       "      <th></th>\n",
       "      <th></th>\n",
       "      <th></th>\n",
       "      <th></th>\n",
       "      <th></th>\n",
       "      <th></th>\n",
       "      <th></th>\n",
       "      <th></th>\n",
       "      <th></th>\n",
       "      <th></th>\n",
       "    </tr>\n",
       "  </thead>\n",
       "  <tbody>\n",
       "    <tr>\n",
       "      <th>000a08204</th>\n",
       "      <td>1</td>\n",
       "      <td>1</td>\n",
       "      <td>3</td>\n",
       "      <td>3</td>\n",
       "      <td>0.0</td>\n",
       "      <td>0</td>\n",
       "      <td>0</td>\n",
       "      <td>0</td>\n",
       "      <td>0</td>\n",
       "      <td>3</td>\n",
       "      <td>...</td>\n",
       "      <td>0.483333</td>\n",
       "      <td>3</td>\n",
       "      <td>0.139775</td>\n",
       "      <td>0.250000</td>\n",
       "      <td>2</td>\n",
       "      <td>2</td>\n",
       "      <td>6</td>\n",
       "      <td>3</td>\n",
       "      <td>0.0</td>\n",
       "      <td>0</td>\n",
       "    </tr>\n",
       "    <tr>\n",
       "      <th>000bce7c4</th>\n",
       "      <td>0</td>\n",
       "      <td>0</td>\n",
       "      <td>0</td>\n",
       "      <td>2</td>\n",
       "      <td>0.0</td>\n",
       "      <td>0</td>\n",
       "      <td>0</td>\n",
       "      <td>1</td>\n",
       "      <td>1</td>\n",
       "      <td>2</td>\n",
       "      <td>...</td>\n",
       "      <td>0.016667</td>\n",
       "      <td>2</td>\n",
       "      <td>0.011785</td>\n",
       "      <td>0.016667</td>\n",
       "      <td>1</td>\n",
       "      <td>1</td>\n",
       "      <td>2</td>\n",
       "      <td>2</td>\n",
       "      <td>0.0</td>\n",
       "      <td>0</td>\n",
       "    </tr>\n",
       "    <tr>\n",
       "      <th>001845fb0</th>\n",
       "      <td>0</td>\n",
       "      <td>0</td>\n",
       "      <td>0</td>\n",
       "      <td>4</td>\n",
       "      <td>0.0</td>\n",
       "      <td>0</td>\n",
       "      <td>0</td>\n",
       "      <td>0</td>\n",
       "      <td>0</td>\n",
       "      <td>4</td>\n",
       "      <td>...</td>\n",
       "      <td>0.511959</td>\n",
       "      <td>4</td>\n",
       "      <td>0.060123</td>\n",
       "      <td>0.128205</td>\n",
       "      <td>1</td>\n",
       "      <td>1</td>\n",
       "      <td>4</td>\n",
       "      <td>4</td>\n",
       "      <td>0.0</td>\n",
       "      <td>0</td>\n",
       "    </tr>\n",
       "    <tr>\n",
       "      <th>001ff74ca</th>\n",
       "      <td>1</td>\n",
       "      <td>1</td>\n",
       "      <td>2</td>\n",
       "      <td>2</td>\n",
       "      <td>0.0</td>\n",
       "      <td>0</td>\n",
       "      <td>0</td>\n",
       "      <td>0</td>\n",
       "      <td>0</td>\n",
       "      <td>2</td>\n",
       "      <td>...</td>\n",
       "      <td>0.184211</td>\n",
       "      <td>1</td>\n",
       "      <td>NaN</td>\n",
       "      <td>0.000000</td>\n",
       "      <td>2</td>\n",
       "      <td>2</td>\n",
       "      <td>4</td>\n",
       "      <td>2</td>\n",
       "      <td>0.0</td>\n",
       "      <td>0</td>\n",
       "    </tr>\n",
       "    <tr>\n",
       "      <th>003123ec2</th>\n",
       "      <td>0</td>\n",
       "      <td>0</td>\n",
       "      <td>0</td>\n",
       "      <td>4</td>\n",
       "      <td>0.0</td>\n",
       "      <td>0</td>\n",
       "      <td>0</td>\n",
       "      <td>0</td>\n",
       "      <td>0</td>\n",
       "      <td>4</td>\n",
       "      <td>...</td>\n",
       "      <td>0.213768</td>\n",
       "      <td>4</td>\n",
       "      <td>0.064636</td>\n",
       "      <td>0.130435</td>\n",
       "      <td>1</td>\n",
       "      <td>1</td>\n",
       "      <td>4</td>\n",
       "      <td>4</td>\n",
       "      <td>0.0</td>\n",
       "      <td>0</td>\n",
       "    </tr>\n",
       "  </tbody>\n",
       "</table>\n",
       "<p>5 rows × 234 columns</p>\n",
       "</div>"
      ],
      "text/plain": [
       "           v18q-min  v18q-max  v18q-sum  v18q-count  v18q-std  v18q-range_  \\\n",
       "idhogar                                                                      \n",
       "000a08204         1         1         3           3       0.0            0   \n",
       "000bce7c4         0         0         0           2       0.0            0   \n",
       "001845fb0         0         0         0           4       0.0            0   \n",
       "001ff74ca         1         1         2           2       0.0            0   \n",
       "003123ec2         0         0         0           4       0.0            0   \n",
       "\n",
       "           dis-min  dis-max  dis-sum  dis-count     ...       inst/age-sum  \\\n",
       "idhogar                                             ...                      \n",
       "000a08204        0        0        0          3     ...           0.483333   \n",
       "000bce7c4        0        1        1          2     ...           0.016667   \n",
       "001845fb0        0        0        0          4     ...           0.511959   \n",
       "001ff74ca        0        0        0          2     ...           0.184211   \n",
       "003123ec2        0        0        0          4     ...           0.213768   \n",
       "\n",
       "           inst/age-count  inst/age-std  inst/age-range_  tech-min  tech-max  \\\n",
       "idhogar                                                                        \n",
       "000a08204               3      0.139775         0.250000         2         2   \n",
       "000bce7c4               2      0.011785         0.016667         1         1   \n",
       "001845fb0               4      0.060123         0.128205         1         1   \n",
       "001ff74ca               1           NaN         0.000000         2         2   \n",
       "003123ec2               4      0.064636         0.130435         1         1   \n",
       "\n",
       "           tech-sum  tech-count  tech-std  tech-range_  \n",
       "idhogar                                                 \n",
       "000a08204         6           3       0.0            0  \n",
       "000bce7c4         2           2       0.0            0  \n",
       "001845fb0         4           4       0.0            0  \n",
       "001ff74ca         4           2       0.0            0  \n",
       "003123ec2         4           4       0.0            0  \n",
       "\n",
       "[5 rows x 234 columns]"
      ]
     },
     "execution_count": 25,
     "metadata": {},
     "output_type": "execute_result"
    }
   ],
   "source": [
    "# Rename the columns\n",
    "new_col = []\n",
    "for c in ind_agg.columns.levels[0]:\n",
    "    for stat in ind_agg.columns.levels[1]:\n",
    "        new_col.append(f'{c}-{stat}')\n",
    "        \n",
    "ind_agg.columns = new_col\n",
    "ind_agg.head()"
   ]
  },
  {
   "cell_type": "code",
   "execution_count": 26,
   "metadata": {},
   "outputs": [
    {
     "name": "stdout",
     "output_type": "stream",
     "text": [
      "There are 111 correlated columns to remove.\n"
     ]
    }
   ],
   "source": [
    "# Create correlation matrix\n",
    "corr_matrix = ind_agg.corr()\n",
    "\n",
    "# Select upper triangle of correlation matrix\n",
    "upper = corr_matrix.where(np.triu(np.ones(corr_matrix.shape), k=1).astype(np.bool))\n",
    "\n",
    "# Find index of feature columns with correlation greater than 0.95\n",
    "to_drop = [column for column in upper.columns if any(abs(upper[column]) > 0.95)]\n",
    "\n",
    "print(f'There are {len(to_drop)} correlated columns to remove.')"
   ]
  },
  {
   "cell_type": "code",
   "execution_count": 27,
   "metadata": {},
   "outputs": [
    {
     "name": "stdout",
     "output_type": "stream",
     "text": [
      "Final features shape:  (10307, 228)\n"
     ]
    }
   ],
   "source": [
    "ind_agg = ind_agg.drop(columns = to_drop)\n",
    "ind_feats = list(ind_agg.columns)\n",
    "\n",
    "# Merge on the household id\n",
    "final = heads.merge(ind_agg, on = 'idhogar', how = 'left')\n",
    "\n",
    "print('Final features shape: ', final.shape)"
   ]
  },
  {
   "cell_type": "code",
   "execution_count": 28,
   "metadata": {},
   "outputs": [
    {
     "data": {
      "text/plain": [
       "female-head  Target\n",
       "0            4.0       0.682873\n",
       "             2.0       0.136464\n",
       "             3.0       0.123204\n",
       "             1.0       0.057459\n",
       "1            4.0       0.617369\n",
       "             2.0       0.167670\n",
       "             3.0       0.113500\n",
       "             1.0       0.101462\n",
       "Name: Target, dtype: float64"
      ]
     },
     "execution_count": 28,
     "metadata": {},
     "output_type": "execute_result"
    }
   ],
   "source": [
    "head_gender = ind.loc[ind['parentesco1'] == 1, ['idhogar', 'female']]\n",
    "final = final.merge(head_gender, on = 'idhogar', how = 'left').rename(columns = {'female': 'female-head'})\n",
    "final.groupby('female-head')['Target'].value_counts(normalize=True)"
   ]
  },
  {
   "cell_type": "markdown",
   "metadata": {},
   "source": [
    "## Model"
   ]
  },
  {
   "cell_type": "code",
   "execution_count": 29,
   "metadata": {},
   "outputs": [
    {
     "name": "stderr",
     "output_type": "stream",
     "text": [
      "c:\\users\\zrankin\\appdata\\local\\continuum\\miniconda3\\envs\\kaggle\\lib\\site-packages\\sklearn\\ensemble\\weight_boosting.py:29: DeprecationWarning: numpy.core.umath_tests is an internal NumPy module and should not be imported. It will be removed in a future NumPy release.\n",
      "  from numpy.core.umath_tests import inner1d\n"
     ]
    }
   ],
   "source": [
    "from sklearn.ensemble import RandomForestClassifier\n",
    "from sklearn.metrics import f1_score, make_scorer\n",
    "from sklearn.model_selection import cross_val_score\n",
    "from sklearn.preprocessing import Imputer\n",
    "from sklearn.preprocessing import MinMaxScaler\n",
    "from sklearn.pipeline import Pipeline"
   ]
  },
  {
   "cell_type": "code",
   "execution_count": 30,
   "metadata": {},
   "outputs": [],
   "source": [
    "# Custom scorer for cross validation\n",
    "scorer = make_scorer(f1_score, greater_is_better=True, average = 'macro')"
   ]
  },
  {
   "cell_type": "code",
   "execution_count": 31,
   "metadata": {},
   "outputs": [],
   "source": [
    "# Labels for training\n",
    "train_labels = np.array(list(final[final['Target'].notnull()]['Target'].astype(np.uint8)))\n",
    "\n",
    "# Extract the training data\n",
    "train_set = final[final['Target'].notnull()].drop(columns = ['Id', 'idhogar', 'Target'])\n",
    "test_set = final[final['Target'].isnull()].drop(columns = ['Id', 'idhogar', 'Target'])\n",
    "\n",
    "# Submission base which is used for making submissions to the competition\n",
    "submission_base = test[['Id', 'idhogar']].copy()"
   ]
  },
  {
   "cell_type": "code",
   "execution_count": 32,
   "metadata": {},
   "outputs": [],
   "source": [
    "features = list(train_set.columns)\n",
    "\n",
    "pipeline = Pipeline([('imputer', Imputer(strategy = 'median')), \n",
    "                      ('scaler', MinMaxScaler())])\n",
    "\n",
    "# Fit and transform training data\n",
    "train_set = pipeline.fit_transform(train_set)\n",
    "test_set = pipeline.transform(test_set)"
   ]
  },
  {
   "cell_type": "code",
   "execution_count": 33,
   "metadata": {},
   "outputs": [
    {
     "name": "stdout",
     "output_type": "stream",
     "text": [
      "10 Fold Cross Validation F1 Score = 0.3425 with std = 0.0322\n"
     ]
    }
   ],
   "source": [
    "model = RandomForestClassifier(n_estimators=100, random_state=10, \n",
    "                               n_jobs = -1)\n",
    "# 10 fold cross validation\n",
    "cv_score = cross_val_score(model, train_set, train_labels, cv = 10, scoring = scorer)\n",
    "\n",
    "print(f'10 Fold Cross Validation F1 Score = {round(cv_score.mean(), 4)} with std = {round(cv_score.std(), 4)}')"
   ]
  },
  {
   "cell_type": "code",
   "execution_count": 34,
   "metadata": {},
   "outputs": [
    {
     "data": {
      "text/html": [
       "<div>\n",
       "<style scoped>\n",
       "    .dataframe tbody tr th:only-of-type {\n",
       "        vertical-align: middle;\n",
       "    }\n",
       "\n",
       "    .dataframe tbody tr th {\n",
       "        vertical-align: top;\n",
       "    }\n",
       "\n",
       "    .dataframe thead th {\n",
       "        text-align: right;\n",
       "    }\n",
       "</style>\n",
       "<table border=\"1\" class=\"dataframe\">\n",
       "  <thead>\n",
       "    <tr style=\"text-align: right;\">\n",
       "      <th></th>\n",
       "      <th>feature</th>\n",
       "      <th>importance</th>\n",
       "    </tr>\n",
       "  </thead>\n",
       "  <tbody>\n",
       "    <tr>\n",
       "      <th>0</th>\n",
       "      <td>hacdor</td>\n",
       "      <td>0.000643</td>\n",
       "    </tr>\n",
       "    <tr>\n",
       "      <th>1</th>\n",
       "      <td>hacapo</td>\n",
       "      <td>0.000283</td>\n",
       "    </tr>\n",
       "    <tr>\n",
       "      <th>2</th>\n",
       "      <td>v14a</td>\n",
       "      <td>0.000460</td>\n",
       "    </tr>\n",
       "    <tr>\n",
       "      <th>3</th>\n",
       "      <td>refrig</td>\n",
       "      <td>0.001798</td>\n",
       "    </tr>\n",
       "    <tr>\n",
       "      <th>4</th>\n",
       "      <td>paredblolad</td>\n",
       "      <td>0.006024</td>\n",
       "    </tr>\n",
       "  </tbody>\n",
       "</table>\n",
       "</div>"
      ],
      "text/plain": [
       "       feature  importance\n",
       "0       hacdor    0.000643\n",
       "1       hacapo    0.000283\n",
       "2         v14a    0.000460\n",
       "3       refrig    0.001798\n",
       "4  paredblolad    0.006024"
      ]
     },
     "execution_count": 34,
     "metadata": {},
     "output_type": "execute_result"
    }
   ],
   "source": [
    "model.fit(train_set, train_labels)\n",
    "\n",
    "# Feature importances into a dataframe\n",
    "feature_importances = pd.DataFrame({'feature': features, 'importance': model.feature_importances_})\n",
    "feature_importances.head()"
   ]
  },
  {
   "cell_type": "markdown",
   "metadata": {},
   "source": [
    "## Feature selection"
   ]
  },
  {
   "cell_type": "code",
   "execution_count": 35,
   "metadata": {},
   "outputs": [
    {
     "data": {
      "text/plain": [
       "['coopele', 'elec', 'v18q-count', 'female-sum']"
      ]
     },
     "execution_count": 35,
     "metadata": {},
     "output_type": "execute_result"
    }
   ],
   "source": [
    "train_set = pd.DataFrame(train_set, columns = features)\n",
    "\n",
    "# Create correlation matrix\n",
    "corr_matrix = train_set.corr()\n",
    "\n",
    "# Select upper triangle of correlation matrix\n",
    "upper = corr_matrix.where(np.triu(np.ones(corr_matrix.shape), k=1).astype(np.bool))\n",
    "\n",
    "# Find index of feature columns with correlation greater than 0.95\n",
    "to_drop = [column for column in upper.columns if any(abs(upper[column]) > 0.95)]\n",
    "\n",
    "to_drop"
   ]
  },
  {
   "cell_type": "code",
   "execution_count": 36,
   "metadata": {},
   "outputs": [
    {
     "data": {
      "text/plain": [
       "(2973, 222)"
      ]
     },
     "execution_count": 36,
     "metadata": {},
     "output_type": "execute_result"
    }
   ],
   "source": [
    "train_set = train_set.drop(columns = to_drop)\n",
    "train_set.shape"
   ]
  },
  {
   "cell_type": "code",
   "execution_count": 37,
   "metadata": {},
   "outputs": [],
   "source": [
    "test_set = pd.DataFrame(test_set, columns = features)\n",
    "train_set, test_set = train_set.align(test_set, axis = 1, join = 'inner')\n",
    "features = list(train_set.columns)"
   ]
  },
  {
   "cell_type": "code",
   "execution_count": 38,
   "metadata": {},
   "outputs": [],
   "source": [
    "from sklearn.feature_selection import RFECV\n",
    "\n",
    "# Create a model for feature selection\n",
    "estimator = RandomForestClassifier(random_state = 10, n_estimators = 100,  n_jobs = -1)\n",
    "\n",
    "# Create the object\n",
    "selector = RFECV(estimator, step = 1, cv = 3, scoring= scorer, n_jobs = -1)"
   ]
  },
  {
   "cell_type": "code",
   "execution_count": 39,
   "metadata": {},
   "outputs": [
    {
     "data": {
      "text/plain": [
       "63"
      ]
     },
     "execution_count": 39,
     "metadata": {},
     "output_type": "execute_result"
    },
    {
     "data": {
      "image/png": "[encoded data removed]",
      "text/plain": [
       "<Figure size 432x288 with 1 Axes>"
      ]
     },
     "metadata": {
      "needs_background": "light"
     },
     "output_type": "display_data"
    }
   ],
   "source": [
    "%%time\n",
    "selector.fit(train_set, train_labels)\n",
    "\n",
    "plt.plot(selector.grid_scores_);\n",
    "\n",
    "plt.xlabel('Number of Features'); plt.ylabel('Macro F1 Score'); plt.title('Feature Selection Scores');\n",
    "selector.n_features_"
   ]
  },
  {
   "cell_type": "code",
   "execution_count": 40,
   "metadata": {},
   "outputs": [
    {
     "data": {
      "text/html": [
       "<div>\n",
       "<style scoped>\n",
       "    .dataframe tbody tr th:only-of-type {\n",
       "        vertical-align: middle;\n",
       "    }\n",
       "\n",
       "    .dataframe tbody tr th {\n",
       "        vertical-align: top;\n",
       "    }\n",
       "\n",
       "    .dataframe thead th {\n",
       "        text-align: right;\n",
       "    }\n",
       "</style>\n",
       "<table border=\"1\" class=\"dataframe\">\n",
       "  <thead>\n",
       "    <tr style=\"text-align: right;\">\n",
       "      <th></th>\n",
       "      <th>feature</th>\n",
       "      <th>rank</th>\n",
       "    </tr>\n",
       "  </thead>\n",
       "  <tbody>\n",
       "    <tr>\n",
       "      <th>73</th>\n",
       "      <td>r4h2</td>\n",
       "      <td>1</td>\n",
       "    </tr>\n",
       "    <tr>\n",
       "      <th>130</th>\n",
       "      <td>estadocivil7-std</td>\n",
       "      <td>1</td>\n",
       "    </tr>\n",
       "    <tr>\n",
       "      <th>129</th>\n",
       "      <td>estadocivil7-sum</td>\n",
       "      <td>1</td>\n",
       "    </tr>\n",
       "    <tr>\n",
       "      <th>198</th>\n",
       "      <td>escolari-sum</td>\n",
       "      <td>1</td>\n",
       "    </tr>\n",
       "    <tr>\n",
       "      <th>197</th>\n",
       "      <td>escolari-max</td>\n",
       "      <td>1</td>\n",
       "    </tr>\n",
       "    <tr>\n",
       "      <th>86</th>\n",
       "      <td>bedrooms</td>\n",
       "      <td>1</td>\n",
       "    </tr>\n",
       "    <tr>\n",
       "      <th>177</th>\n",
       "      <td>instlevel4-std</td>\n",
       "      <td>1</td>\n",
       "    </tr>\n",
       "    <tr>\n",
       "      <th>109</th>\n",
       "      <td>female-std</td>\n",
       "      <td>1</td>\n",
       "    </tr>\n",
       "    <tr>\n",
       "      <th>106</th>\n",
       "      <td>dis-sum</td>\n",
       "      <td>1</td>\n",
       "    </tr>\n",
       "    <tr>\n",
       "      <th>187</th>\n",
       "      <td>instlevel8-sum</td>\n",
       "      <td>1</td>\n",
       "    </tr>\n",
       "  </tbody>\n",
       "</table>\n",
       "</div>"
      ],
      "text/plain": [
       "              feature  rank\n",
       "73               r4h2     1\n",
       "130  estadocivil7-std     1\n",
       "129  estadocivil7-sum     1\n",
       "198      escolari-sum     1\n",
       "197      escolari-max     1\n",
       "86           bedrooms     1\n",
       "177    instlevel4-std     1\n",
       "109        female-std     1\n",
       "106           dis-sum     1\n",
       "187    instlevel8-sum     1"
      ]
     },
     "execution_count": 40,
     "metadata": {},
     "output_type": "execute_result"
    }
   ],
   "source": [
    "rankings = pd.DataFrame({'feature': list(train_set.columns), 'rank': list(selector.ranking_)}).sort_values('rank')\n",
    "rankings.head(10)"
   ]
  },
  {
   "cell_type": "code",
   "execution_count": 41,
   "metadata": {},
   "outputs": [],
   "source": [
    "train_selected = selector.transform(train_set)\n",
    "test_selected = selector.transform(test_set)"
   ]
  },
  {
   "cell_type": "code",
   "execution_count": 42,
   "metadata": {},
   "outputs": [],
   "source": [
    "# Convert back to dataframe\n",
    "selected_features = train_set.columns[np.where(selector.ranking_==1)]\n",
    "train_selected = pd.DataFrame(train_selected, columns = selected_features)\n",
    "test_selected = pd.DataFrame(test_selected, columns = selected_features)"
   ]
  },
  {
   "cell_type": "markdown",
   "metadata": {},
   "source": [
    "Upgrading Our Model: Gradient Boosting Machine\n",
    "After using the Random Forest and getting decent scores, it's time to step up and use the gradient boosting machine. If you spend any time on Kaggle, you'll notice that the Gradient Boosting Machine (GBM) wins a high percentage of competitions where the data is structured (in tables) and the datasets are not that large (less than a million observations).\n",
    "\n",
    "I won't go too much into the details here, but instead will focus on the implementation. We'll use the GBM in LightGBM, although there are also options in Scikit-Learn, XGBOOST, and CatBoost. The first set of hyperparameters we'll use were based on those I've found have worked well for other problems.\n",
    "\n",
    "Choosing Number of Estimators with Early Stopping\n",
    "To choose the number of estimators (the number of decision trees in the ensemble, called n_estimators or num_boost_rounds), we'll use early stopping with 5-fold cross validation. This will keep adding estimators until the performance as measured by the Macro F1 Score has not increased for 100 training rounds. To use this metric, we'll have to define a custom metric."
   ]
  },
  {
   "cell_type": "code",
   "execution_count": 43,
   "metadata": {},
   "outputs": [],
   "source": [
    "def macro_f1_score(labels, predictions):\n",
    "    # Reshape the predictions as needed\n",
    "    predictions = predictions.reshape(len(np.unique(labels)), -1 ).argmax(axis = 0)\n",
    "    \n",
    "    metric_value = f1_score(labels, predictions, average = 'macro')\n",
    "    \n",
    "    # Return is name, value, is_higher_better\n",
    "    return 'macro_f1', metric_value, True"
   ]
  },
  {
   "cell_type": "code",
   "execution_count": 44,
   "metadata": {},
   "outputs": [],
   "source": [
    "from sklearn.model_selection import StratifiedKFold\n",
    "import lightgbm as lgb\n",
    "from IPython.display import display\n",
    "\n",
    "def model_gbm(features, labels, test_features, test_ids, \n",
    "              nfolds = 5, return_preds = False, hyp = None):\n",
    "    \"\"\"Model using the GBM and cross validation.\n",
    "       Trains with early stopping on each fold.\n",
    "       Hyperparameters probably need to be tuned.\"\"\"\n",
    "    \n",
    "    feature_names = list(features.columns)\n",
    "\n",
    "    # Option for user specified hyperparameters\n",
    "    if hyp is not None:\n",
    "        # Using early stopping so do not need number of esimators\n",
    "        if 'n_estimators' in hyp:\n",
    "            del hyp['n_estimators']\n",
    "        params = hyp\n",
    "    \n",
    "    else:\n",
    "        # Model hyperparameters\n",
    "        params = {'boosting_type': 'dart', \n",
    "                  'colsample_bytree': 0.88, \n",
    "                  'learning_rate': 0.028, \n",
    "                   'min_child_samples': 10, \n",
    "                   'num_leaves': 36, 'reg_alpha': 0.76, \n",
    "                   'reg_lambda': 0.43, \n",
    "                   'subsample_for_bin': 40000, \n",
    "                   'subsample': 0.54, \n",
    "                   'class_weight': 'balanced'}\n",
    "    \n",
    "    # Build the model\n",
    "    model = lgb.LGBMClassifier(**params, objective = 'multiclass', \n",
    "                               n_jobs = -1, n_estimators = 10000,\n",
    "                               random_state = 10)\n",
    "    \n",
    "    # Using stratified kfold cross validation\n",
    "    strkfold = StratifiedKFold(n_splits = nfolds, shuffle = True)\n",
    "    \n",
    "    # Hold all the predictions from each fold\n",
    "    predictions = pd.DataFrame()\n",
    "    importances = np.zeros(len(feature_names))\n",
    "    \n",
    "    # Convert to arrays for indexing\n",
    "    features = np.array(features)\n",
    "    test_features = np.array(test_features)\n",
    "    labels = np.array(labels).reshape((-1 ))\n",
    "    \n",
    "    valid_scores = []\n",
    "    \n",
    "    # Iterate through the folds\n",
    "    for i, (train_indices, valid_indices) in enumerate(strkfold.split(features, labels)):\n",
    "        \n",
    "        # Dataframe for fold predictions\n",
    "        fold_predictions = pd.DataFrame()\n",
    "        \n",
    "        # Training and validation data\n",
    "        X_train = features[train_indices]\n",
    "        X_valid = features[valid_indices]\n",
    "        y_train = labels[train_indices]\n",
    "        y_valid = labels[valid_indices]\n",
    "        \n",
    "        # Train with early stopping\n",
    "        model.fit(X_train, y_train, early_stopping_rounds = 100, \n",
    "                  eval_metric = macro_f1_score,\n",
    "                  eval_set = [(X_train, y_train), (X_valid, y_valid)],\n",
    "                  eval_names = ['train', 'valid'],\n",
    "                  verbose = 200)\n",
    "        \n",
    "        # Record the validation fold score\n",
    "        valid_scores.append(model.best_score_['valid']['macro_f1'])\n",
    "        \n",
    "        # Make predictions from the fold as probabilities\n",
    "        fold_probabilitites = model.predict_proba(test_features)\n",
    "        \n",
    "        # Record each prediction for each class as a separate column\n",
    "        for j in range(4):\n",
    "            fold_predictions[(j + 1)] = fold_probabilitites[:, j]\n",
    "            \n",
    "        # Add needed information for predictions \n",
    "        fold_predictions['idhogar'] = test_ids\n",
    "        fold_predictions['fold'] = (i+1)\n",
    "        \n",
    "        # Add the predictions as new rows to the existing predictions\n",
    "        predictions = predictions.append(fold_predictions)\n",
    "        \n",
    "        # Feature importances\n",
    "        importances += model.feature_importances_ / nfolds   \n",
    "        \n",
    "        # Display fold information\n",
    "        display(f'Fold {i + 1}, Validation Score: {round(valid_scores[i], 5)}, Estimators Trained: {model.best_iteration_}')\n",
    "\n",
    "    # Feature importances dataframe\n",
    "    feature_importances = pd.DataFrame({'feature': feature_names,\n",
    "                                        'importance': importances})\n",
    "    \n",
    "    valid_scores = np.array(valid_scores)\n",
    "    display(f'{nfolds} cross validation score: {round(valid_scores.mean(), 5)} with std: {round(valid_scores.std(), 5)}.')\n",
    "    \n",
    "    # If we want to examine predictions don't average over folds\n",
    "    if return_preds:\n",
    "        predictions['Target'] = predictions[[1, 2, 3, 4]].idxmax(axis = 1)\n",
    "        predictions['confidence'] = predictions[[1, 2, 3, 4]].max(axis = 1)\n",
    "        return predictions, feature_importances\n",
    "    \n",
    "    # Average the predictions over folds\n",
    "    predictions = predictions.groupby('idhogar', as_index = False).mean()\n",
    "    \n",
    "    # Find the class and associated probability\n",
    "    predictions['Target'] = predictions[[1, 2, 3, 4]].idxmax(axis = 1)\n",
    "    predictions['confidence'] = predictions[[1, 2, 3, 4]].max(axis = 1)\n",
    "    predictions = predictions.drop(columns = ['fold'])\n",
    "    \n",
    "    # Merge with the base to have one prediction for each individual\n",
    "    submission = submission_base.merge(predictions[['idhogar', 'Target']], on = 'idhogar', how = 'left').drop(columns = ['idhogar'])\n",
    "        \n",
    "    # Fill in the individuals that do not have a head of household with 4 since these will not be scored\n",
    "    submission['Target'] = submission['Target'].fillna(4).astype(np.int8)\n",
    "    \n",
    "    # return the submission and feature importances along with validation scores\n",
    "    return submission, feature_importances, valid_scores"
   ]
  },
  {
   "cell_type": "code",
   "execution_count": 45,
   "metadata": {},
   "outputs": [],
   "source": [
    "test_ids = list(final.loc[final['Target'].isnull(), 'idhogar'])"
   ]
  },
  {
   "cell_type": "code",
   "execution_count": 46,
   "metadata": {},
   "outputs": [
    {
     "data": {
      "text/plain": [
       "'Fold 1, Validation Score: 0.45854, Estimators Trained: 201'"
      ]
     },
     "metadata": {},
     "output_type": "display_data"
    },
    {
     "data": {
      "text/plain": [
       "'Fold 2, Validation Score: 0.39228, Estimators Trained: 121'"
      ]
     },
     "metadata": {},
     "output_type": "display_data"
    },
    {
     "data": {
      "text/plain": [
       "'Fold 3, Validation Score: 0.41043, Estimators Trained: 17'"
      ]
     },
     "metadata": {},
     "output_type": "display_data"
    },
    {
     "data": {
      "text/plain": [
       "'Fold 4, Validation Score: 0.42048, Estimators Trained: 275'"
      ]
     },
     "metadata": {},
     "output_type": "display_data"
    },
    {
     "data": {
      "text/plain": [
       "'Fold 5, Validation Score: 0.45453, Estimators Trained: 335'"
      ]
     },
     "metadata": {},
     "output_type": "display_data"
    },
    {
     "data": {
      "text/plain": [
       "'5 cross validation score: 0.42725 with std: 0.02559.'"
      ]
     },
     "metadata": {},
     "output_type": "display_data"
    }
   ],
   "source": [
    "%%capture --no-display\n",
    "predictions, gbm_fi = model_gbm(train_set, train_labels, test_set, test_ids, return_preds=True)"
   ]
  },
  {
   "cell_type": "code",
   "execution_count": 47,
   "metadata": {},
   "outputs": [
    {
     "data": {
      "text/html": [
       "<div>\n",
       "<style scoped>\n",
       "    .dataframe tbody tr th:only-of-type {\n",
       "        vertical-align: middle;\n",
       "    }\n",
       "\n",
       "    .dataframe tbody tr th {\n",
       "        vertical-align: top;\n",
       "    }\n",
       "\n",
       "    .dataframe thead th {\n",
       "        text-align: right;\n",
       "    }\n",
       "</style>\n",
       "<table border=\"1\" class=\"dataframe\">\n",
       "  <thead>\n",
       "    <tr style=\"text-align: right;\">\n",
       "      <th></th>\n",
       "      <th>1</th>\n",
       "      <th>2</th>\n",
       "      <th>3</th>\n",
       "      <th>4</th>\n",
       "      <th>idhogar</th>\n",
       "      <th>fold</th>\n",
       "      <th>Target</th>\n",
       "      <th>confidence</th>\n",
       "    </tr>\n",
       "  </thead>\n",
       "  <tbody>\n",
       "    <tr>\n",
       "      <th>0</th>\n",
       "      <td>0.153845</td>\n",
       "      <td>0.148401</td>\n",
       "      <td>0.153716</td>\n",
       "      <td>0.544038</td>\n",
       "      <td>72958b30c</td>\n",
       "      <td>1</td>\n",
       "      <td>4</td>\n",
       "      <td>0.544038</td>\n",
       "    </tr>\n",
       "    <tr>\n",
       "      <th>1</th>\n",
       "      <td>0.200000</td>\n",
       "      <td>0.146805</td>\n",
       "      <td>0.140883</td>\n",
       "      <td>0.512312</td>\n",
       "      <td>5b598fbc9</td>\n",
       "      <td>1</td>\n",
       "      <td>4</td>\n",
       "      <td>0.512312</td>\n",
       "    </tr>\n",
       "    <tr>\n",
       "      <th>2</th>\n",
       "      <td>0.172124</td>\n",
       "      <td>0.175594</td>\n",
       "      <td>0.240187</td>\n",
       "      <td>0.412094</td>\n",
       "      <td>1e2fc704e</td>\n",
       "      <td>1</td>\n",
       "      <td>4</td>\n",
       "      <td>0.412094</td>\n",
       "    </tr>\n",
       "    <tr>\n",
       "      <th>3</th>\n",
       "      <td>0.167223</td>\n",
       "      <td>0.179329</td>\n",
       "      <td>0.171756</td>\n",
       "      <td>0.481693</td>\n",
       "      <td>8ee7365a8</td>\n",
       "      <td>1</td>\n",
       "      <td>4</td>\n",
       "      <td>0.481693</td>\n",
       "    </tr>\n",
       "    <tr>\n",
       "      <th>4</th>\n",
       "      <td>0.151113</td>\n",
       "      <td>0.173359</td>\n",
       "      <td>0.182136</td>\n",
       "      <td>0.493391</td>\n",
       "      <td>ff69a6fc8</td>\n",
       "      <td>1</td>\n",
       "      <td>4</td>\n",
       "      <td>0.493391</td>\n",
       "    </tr>\n",
       "  </tbody>\n",
       "</table>\n",
       "</div>"
      ],
      "text/plain": [
       "          1         2         3         4    idhogar  fold  Target  confidence\n",
       "0  0.153845  0.148401  0.153716  0.544038  72958b30c     1       4    0.544038\n",
       "1  0.200000  0.146805  0.140883  0.512312  5b598fbc9     1       4    0.512312\n",
       "2  0.172124  0.175594  0.240187  0.412094  1e2fc704e     1       4    0.412094\n",
       "3  0.167223  0.179329  0.171756  0.481693  8ee7365a8     1       4    0.481693\n",
       "4  0.151113  0.173359  0.182136  0.493391  ff69a6fc8     1       4    0.493391"
      ]
     },
     "execution_count": 47,
     "metadata": {},
     "output_type": "execute_result"
    }
   ],
   "source": [
    "predictions.head()"
   ]
  },
  {
   "cell_type": "code",
   "execution_count": 48,
   "metadata": {},
   "outputs": [
    {
     "data": {
      "text/html": [
       "<div>\n",
       "<style scoped>\n",
       "    .dataframe tbody tr th:only-of-type {\n",
       "        vertical-align: middle;\n",
       "    }\n",
       "\n",
       "    .dataframe tbody tr th {\n",
       "        vertical-align: top;\n",
       "    }\n",
       "\n",
       "    .dataframe thead th {\n",
       "        text-align: right;\n",
       "    }\n",
       "</style>\n",
       "<table border=\"1\" class=\"dataframe\">\n",
       "  <thead>\n",
       "    <tr style=\"text-align: right;\">\n",
       "      <th></th>\n",
       "      <th>feature</th>\n",
       "      <th>importance</th>\n",
       "    </tr>\n",
       "  </thead>\n",
       "  <tbody>\n",
       "    <tr>\n",
       "      <th>69</th>\n",
       "      <td>meaneduc</td>\n",
       "      <td>1007.0</td>\n",
       "    </tr>\n",
       "    <tr>\n",
       "      <th>204</th>\n",
       "      <td>age-std</td>\n",
       "      <td>998.8</td>\n",
       "    </tr>\n",
       "    <tr>\n",
       "      <th>211</th>\n",
       "      <td>escolari/age-sum</td>\n",
       "      <td>919.6</td>\n",
       "    </tr>\n",
       "    <tr>\n",
       "      <th>203</th>\n",
       "      <td>age-sum</td>\n",
       "      <td>874.2</td>\n",
       "    </tr>\n",
       "    <tr>\n",
       "      <th>202</th>\n",
       "      <td>age-max</td>\n",
       "      <td>870.0</td>\n",
       "    </tr>\n",
       "  </tbody>\n",
       "</table>\n",
       "</div>"
      ],
      "text/plain": [
       "              feature  importance\n",
       "69           meaneduc      1007.0\n",
       "204           age-std       998.8\n",
       "211  escolari/age-sum       919.6\n",
       "203           age-sum       874.2\n",
       "202           age-max       870.0"
      ]
     },
     "execution_count": 48,
     "metadata": {},
     "output_type": "execute_result"
    }
   ],
   "source": [
    "gbm_fi.sort_values('importance', ascending=False).head()"
   ]
  },
  {
   "cell_type": "markdown",
   "metadata": {},
   "source": [
    "## TODO\n",
    "- I really don't understand how this precise implementation is different than a regular one. It seems that it uses soft voting within the function (because you are looping through the kfold and aggregating predictions). This is different than what cross-validation scoring is (indeed, when you run cross-validation scoring on this function, you split the data twice, right?)\n",
    "- can it make a learning curve?\n",
    "- Use some sort of hyperparameter tuning, but it WILL be slow! https://www.kaggle.com/aashita/advanced-pipelines-tutorial\n",
    "\n",
    "\n"
   ]
  },
  {
   "cell_type": "code",
   "execution_count": 63,
   "metadata": {},
   "outputs": [],
   "source": [
    "from xgboost import XGBClassifier"
   ]
  },
  {
   "cell_type": "code",
   "execution_count": 61,
   "metadata": {},
   "outputs": [],
   "source": [
    "from sklearn.model_selection import train_test_split\n",
    "train_X, test_X, train_y, test_y = train_test_split(features, labels, test_size=0.25)"
   ]
  },
  {
   "cell_type": "code",
   "execution_count": 125,
   "metadata": {},
   "outputs": [
    {
     "name": "stdout",
     "output_type": "stream",
     "text": [
      "Wall time: 2.15 s\n"
     ]
    }
   ],
   "source": [
    "%%time\n",
    "xgb = XGBClassifier(n_estimators=1000, learning_rate=0.02, max_depth=10)\n",
    "xgb.fit(train_X, train_y, early_stopping_rounds=100, \n",
    "             eval_set=[(test_X, test_y)], verbose=False)"
   ]
  },
  {
   "cell_type": "code",
   "execution_count": 127,
   "metadata": {},
   "outputs": [
    {
     "name": "stdout",
     "output_type": "stream",
     "text": [
      "Cross Validation F1 Score = 0.3816 with std = 0.0187\n",
      "Wall time: 1min 35s\n"
     ]
    }
   ],
   "source": [
    "%%time\n",
    "fit_params = {\"eval_set\": [(test_X, test_y)], \n",
    "              \"early_stopping_rounds\": 100, \n",
    "              \"verbose\": False} \n",
    "cv_score = cross_val_score(xgb, train_X, train_y, cv=kfold, scoring=f1_scorer, n_jobs=-1, fit_params=fit_params)\n",
    "print(f'Cross Validation F1 Score = {round(cv_score.mean(), 4)} with std = {round(cv_score.std(), 4)}')"
   ]
  },
  {
   "cell_type": "code",
   "execution_count": 78,
   "metadata": {},
   "outputs": [],
   "source": [
    "params = {'boosting_type': 'dart', \n",
    "                  'colsample_bytree': 0.88, \n",
    "                  'learning_rate': 0.028, \n",
    "                   'min_child_samples': 10, \n",
    "                   'num_leaves': 36, 'reg_alpha': 0.76, \n",
    "                   'reg_lambda': 0.43, \n",
    "                   'subsample_for_bin': 40000, \n",
    "                   'subsample': 0.54, \n",
    "                   'class_weight': 'balanced'}\n",
    "\n",
    "model = lgb.LGBMClassifier(**params, objective = 'multiclass', \n",
    "                               n_jobs = -1, n_estimators = 10000,\n",
    "                               random_state = 10)\n",
    "\n"
   ]
  },
  {
   "cell_type": "code",
   "execution_count": 81,
   "metadata": {},
   "outputs": [
    {
     "name": "stdout",
     "output_type": "stream",
     "text": [
      "Cross Validation F1 Score = 0.4113 with std = 0.0175\n",
      "Wall time: 4min 46s\n"
     ]
    }
   ],
   "source": [
    "%%time\n",
    "fit_params = {\"eval_set\": [(test_X, test_y)], \n",
    "              \"early_stopping_rounds\": 100, \n",
    "              \"verbose\": False} \n",
    "cv_score = cross_val_score(model, train_X, train_y, cv=kfold, scoring=f1_scorer, n_jobs=-1, fit_params=fit_params)\n",
    "print(f'Cross Validation F1 Score = {round(cv_score.mean(), 4)} with std = {round(cv_score.std(), 4)}')"
   ]
  },
  {
   "cell_type": "code",
   "execution_count": 82,
   "metadata": {},
   "outputs": [
    {
     "name": "stdout",
     "output_type": "stream",
     "text": [
      "Cross Validation F1 Score = 0.4093 with std = 0.0156\n",
      "Wall time: 4min 14s\n"
     ]
    }
   ],
   "source": [
    "%%time\n",
    "fit_params = {\"eval_set\": [(test_X, test_y)], \n",
    "              \"early_stopping_rounds\": 50, \n",
    "              \"verbose\": False} \n",
    "cv_score = cross_val_score(model, train_X, train_y, cv=kfold, scoring=f1_scorer, n_jobs=-1, fit_params=fit_params)\n",
    "print(f'Cross Validation F1 Score = {round(cv_score.mean(), 4)} with std = {round(cv_score.std(), 4)}')"
   ]
  },
  {
   "cell_type": "code",
   "execution_count": 83,
   "metadata": {},
   "outputs": [
    {
     "data": {
      "text/plain": [
       "LGBMClassifier(boosting_type='dart', class_weight='balanced',\n",
       "        colsample_bytree=0.88, learning_rate=0.028, max_depth=-1,\n",
       "        min_child_samples=10, min_child_weight=0.001, min_split_gain=0.0,\n",
       "        n_estimators=10000, n_jobs=-1, num_leaves=36,\n",
       "        objective='multiclass', random_state=10, reg_alpha=0.76,\n",
       "        reg_lambda=0.43, silent=True, subsample=0.54,\n",
       "        subsample_for_bin=40000, subsample_freq=0)"
      ]
     },
     "execution_count": 83,
     "metadata": {},
     "output_type": "execute_result"
    }
   ],
   "source": [
    "model.fit(train_X, train_y, early_stopping_rounds=100, \n",
    "             eval_set=[(test_X, test_y)], verbose=False)"
   ]
  },
  {
   "cell_type": "code",
   "execution_count": 84,
   "metadata": {},
   "outputs": [],
   "source": [
    "feature_importances = pd.DataFrame({'feature': feature_names,\n",
    "                                    'importance': model.feature_importances_})"
   ]
  },
  {
   "cell_type": "code",
   "execution_count": 86,
   "metadata": {},
   "outputs": [
    {
     "data": {
      "text/html": [
       "<div>\n",
       "<style scoped>\n",
       "    .dataframe tbody tr th:only-of-type {\n",
       "        vertical-align: middle;\n",
       "    }\n",
       "\n",
       "    .dataframe tbody tr th {\n",
       "        vertical-align: top;\n",
       "    }\n",
       "\n",
       "    .dataframe thead th {\n",
       "        text-align: right;\n",
       "    }\n",
       "</style>\n",
       "<table border=\"1\" class=\"dataframe\">\n",
       "  <thead>\n",
       "    <tr style=\"text-align: right;\">\n",
       "      <th></th>\n",
       "      <th>feature</th>\n",
       "      <th>importance</th>\n",
       "    </tr>\n",
       "  </thead>\n",
       "  <tbody>\n",
       "    <tr>\n",
       "      <th>204</th>\n",
       "      <td>age-std</td>\n",
       "      <td>6042</td>\n",
       "    </tr>\n",
       "    <tr>\n",
       "      <th>202</th>\n",
       "      <td>age-max</td>\n",
       "      <td>5424</td>\n",
       "    </tr>\n",
       "    <tr>\n",
       "      <th>211</th>\n",
       "      <td>escolari/age-sum</td>\n",
       "      <td>4836</td>\n",
       "    </tr>\n",
       "    <tr>\n",
       "      <th>201</th>\n",
       "      <td>age-min</td>\n",
       "      <td>4721</td>\n",
       "    </tr>\n",
       "    <tr>\n",
       "      <th>203</th>\n",
       "      <td>age-sum</td>\n",
       "      <td>4600</td>\n",
       "    </tr>\n",
       "  </tbody>\n",
       "</table>\n",
       "</div>"
      ],
      "text/plain": [
       "              feature  importance\n",
       "204           age-std        6042\n",
       "202           age-max        5424\n",
       "211  escolari/age-sum        4836\n",
       "201           age-min        4721\n",
       "203           age-sum        4600"
      ]
     },
     "execution_count": 86,
     "metadata": {},
     "output_type": "execute_result"
    }
   ],
   "source": [
    "feature_importances.sort_values('importance', ascending=False).head()"
   ]
  },
  {
   "cell_type": "code",
   "execution_count": null,
   "metadata": {},
   "outputs": [],
   "source": []
  },
  {
   "cell_type": "markdown",
   "metadata": {},
   "source": [
    "## Hyperparameter tuning: \n",
    "Really can't figure out https://www.kaggle.com/willkoehrsen/a-complete-introduction-and-walkthrough. Below I try using his best parameters, but they do very poorly. Guessing by his high learning rate and low n_estimators, I wonder if this is best because his algorithm splits data into 5 folds with soft voting, whereas the regular implementation would have just one training set. \n",
    "It seems that https://github.com/hyperopt/hyperopt-sklearn/blob/master/notebooks/Demo-Iris.ipynb has some but not all sklearn algorithms included. \n",
    "\n",
    "\n",
    "### TODO: try https://www.kaggle.com/yassinealouini/hyperopt-the-xgboost-model"
   ]
  },
  {
   "cell_type": "code",
   "execution_count": 103,
   "metadata": {},
   "outputs": [],
   "source": [
    "best_hyp = {'boosting_type': 'dart',\n",
    " 'colsample_bytree': 0.6096416248120604,\n",
    " 'learning_rate': 0.19779582059725404,\n",
    " 'limit_max_depth': True,\n",
    " 'max_depth': 24,\n",
    " 'min_child_samples': 35,\n",
    " 'num_leaves': 42,\n",
    " 'reg_alpha': 0.41161294322049163,\n",
    " 'reg_lambda': 0.6745579773545685,\n",
    " 'subsample_for_bin': 50000,\n",
    " 'drop_rate': 0.48718668776524016,\n",
    " 'subsample': 0.5220648456225067,\n",
    " 'subsample_freq': 9,\n",
    " 'n_estimators': 120}"
   ]
  },
  {
   "cell_type": "code",
   "execution_count": 105,
   "metadata": {},
   "outputs": [],
   "source": [
    "model = lgb.LGBMClassifier(**best_hyp, objective = 'multiclass', \n",
    "                               n_jobs = -1,\n",
    "                               random_state = 10)"
   ]
  },
  {
   "cell_type": "code",
   "execution_count": 124,
   "metadata": {},
   "outputs": [
    {
     "name": "stdout",
     "output_type": "stream",
     "text": [
      "Cross Validation F1 Score = 0.4084 with std = 0.01\n",
      "Wall time: 2min 6s\n"
     ]
    }
   ],
   "source": [
    "%%time\n",
    "fit_params = {\"eval_set\": [(test_X, test_y)], \n",
    "              \"early_stopping_rounds\": 100, \n",
    "              \"verbose\": False} \n",
    "cv_score = cross_val_score(model, train_X, train_y, cv=kfold, scoring=f1_scorer, n_jobs=-1, fit_params=fit_params)\n",
    "print(f'Cross Validation F1 Score = {round(cv_score.mean(), 4)} with std = {round(cv_score.std(), 4)}')"
   ]
  },
  {
   "cell_type": "code",
   "execution_count": null,
   "metadata": {},
   "outputs": [],
   "source": []
  },
  {
   "cell_type": "markdown",
   "metadata": {},
   "source": [
    "## Well, let's at least do a very quick check of different max_depts\n",
    "Note: of [12,16,20,25,30,35,40], max_depth=20 performed the best!"
   ]
  },
  {
   "cell_type": "code",
   "execution_count": 109,
   "metadata": {},
   "outputs": [],
   "source": [
    "from sklearn.model_selection import GridSearchCV"
   ]
  },
  {
   "cell_type": "code",
   "execution_count": 113,
   "metadata": {},
   "outputs": [
    {
     "name": "stdout",
     "output_type": "stream",
     "text": [
      "Wall time: 8min 37s\n"
     ]
    }
   ],
   "source": [
    "%%time\n",
    "\n",
    "param_grid = dict(max_depth=[12,16,20])\n",
    "\n",
    "params = {'boosting_type': 'dart', \n",
    "                  'colsample_bytree': 0.88, \n",
    "                  'learning_rate': 0.028, \n",
    "                   'min_child_samples': 10, \n",
    "                   #'num_leaves': 36, \n",
    "                   'reg_alpha': 0.76, \n",
    "                   'reg_lambda': 0.43, \n",
    "                   'subsample_for_bin': 40000, \n",
    "                   'subsample': 0.54, \n",
    "                   'class_weight': 'balanced'}\n",
    "\n",
    "fit_params = {\"eval_set\": [(test_X, test_y)], \n",
    "              \"early_stopping_rounds\": 100, \n",
    "              \"verbose\": False} \n",
    "\n",
    "model = lgb.LGBMClassifier(**params, objective = 'multiclass', \n",
    "                               n_jobs = -1, n_estimators = 10000,\n",
    "                               random_state = 10)\n",
    "\n",
    "grid = GridSearchCV(model, param_grid=param_grid, fit_params=fit_params, cv=kfold, scoring=f1_scorer, n_jobs=-1)\n",
    "grid.fit(train_X, train_y)\n"
   ]
  },
  {
   "cell_type": "code",
   "execution_count": 118,
   "metadata": {},
   "outputs": [
    {
     "ename": "JoblibValueError",
     "evalue": "JoblibValueError\n___________________________________________________________________________\nMultiprocessing exception:\n...........................................................................\nc:\\users\\zrankin\\appdata\\local\\continuum\\miniconda3\\envs\\kaggle\\lib\\runpy.py in _run_module_as_main(mod_name='ipykernel_launcher', alter_argv=1)\n    188         sys.exit(msg)\n    189     main_globals = sys.modules[\"__main__\"].__dict__\n    190     if alter_argv:\n    191         sys.argv[0] = mod_spec.origin\n    192     return _run_code(code, main_globals, None,\n--> 193                      \"__main__\", mod_spec)\n        mod_spec = ModuleSpec(name='ipykernel_launcher', loader=<_f...ggle\\\\lib\\\\site-packages\\\\ipykernel_launcher.py')\n    194 \n    195 def run_module(mod_name, init_globals=None,\n    196                run_name=None, alter_sys=False):\n    197     \"\"\"Execute a module's code without importing it\n\n...........................................................................\nc:\\users\\zrankin\\appdata\\local\\continuum\\miniconda3\\envs\\kaggle\\lib\\runpy.py in _run_code(code=<code object <module> at 0x00000179129BCC00, fil...lib\\site-packages\\ipykernel_launcher.py\", line 5>, run_globals={'__annotations__': {}, '__builtins__': <module 'builtins' (built-in)>, '__cached__': r'c:\\users\\zrankin\\appdata\\local\\continuum\\minicon...ges\\__pycache__\\ipykernel_launcher.cpython-36.pyc', '__doc__': 'Entry point for launching an IPython kernel.\\n\\nTh...orts until\\nafter removing the cwd from sys.path.\\n', '__file__': r'c:\\users\\zrankin\\appdata\\local\\continuum\\minicon...vs\\kaggle\\lib\\site-packages\\ipykernel_launcher.py', '__loader__': <_frozen_importlib_external.SourceFileLoader object>, '__name__': '__main__', '__package__': '', '__spec__': ModuleSpec(name='ipykernel_launcher', loader=<_f...ggle\\\\lib\\\\site-packages\\\\ipykernel_launcher.py'), 'app': <module 'ipykernel.kernelapp' from 'c:\\\\users\\\\z...le\\\\lib\\\\site-packages\\\\ipykernel\\\\kernelapp.py'>, ...}, init_globals=None, mod_name='__main__', mod_spec=ModuleSpec(name='ipykernel_launcher', loader=<_f...ggle\\\\lib\\\\site-packages\\\\ipykernel_launcher.py'), pkg_name='', script_name=None)\n     80                        __cached__ = cached,\n     81                        __doc__ = None,\n     82                        __loader__ = loader,\n     83                        __package__ = pkg_name,\n     84                        __spec__ = mod_spec)\n---> 85     exec(code, run_globals)\n        code = <code object <module> at 0x00000179129BCC00, fil...lib\\site-packages\\ipykernel_launcher.py\", line 5>\n        run_globals = {'__annotations__': {}, '__builtins__': <module 'builtins' (built-in)>, '__cached__': r'c:\\users\\zrankin\\appdata\\local\\continuum\\minicon...ges\\__pycache__\\ipykernel_launcher.cpython-36.pyc', '__doc__': 'Entry point for launching an IPython kernel.\\n\\nTh...orts until\\nafter removing the cwd from sys.path.\\n', '__file__': r'c:\\users\\zrankin\\appdata\\local\\continuum\\minicon...vs\\kaggle\\lib\\site-packages\\ipykernel_launcher.py', '__loader__': <_frozen_importlib_external.SourceFileLoader object>, '__name__': '__main__', '__package__': '', '__spec__': ModuleSpec(name='ipykernel_launcher', loader=<_f...ggle\\\\lib\\\\site-packages\\\\ipykernel_launcher.py'), 'app': <module 'ipykernel.kernelapp' from 'c:\\\\users\\\\z...le\\\\lib\\\\site-packages\\\\ipykernel\\\\kernelapp.py'>, ...}\n     86     return run_globals\n     87 \n     88 def _run_module_code(code, init_globals=None,\n     89                     mod_name=None, mod_spec=None,\n\n...........................................................................\nc:\\users\\zrankin\\appdata\\local\\continuum\\miniconda3\\envs\\kaggle\\lib\\site-packages\\ipykernel_launcher.py in <module>()\n     11     # This is added back by InteractiveShellApp.init_path()\n     12     if sys.path[0] == '':\n     13         del sys.path[0]\n     14 \n     15     from ipykernel import kernelapp as app\n---> 16     app.launch_new_instance()\n\n...........................................................................\nc:\\users\\zrankin\\appdata\\local\\continuum\\miniconda3\\envs\\kaggle\\lib\\site-packages\\traitlets\\config\\application.py in launch_instance(cls=<class 'ipykernel.kernelapp.IPKernelApp'>, argv=None, **kwargs={})\n    653 \n    654         If a global instance already exists, this reinitializes and starts it\n    655         \"\"\"\n    656         app = cls.instance(**kwargs)\n    657         app.initialize(argv)\n--> 658         app.start()\n        app.start = <bound method IPKernelApp.start of <ipykernel.kernelapp.IPKernelApp object>>\n    659 \n    660 #-----------------------------------------------------------------------------\n    661 # utility functions, for convenience\n    662 #-----------------------------------------------------------------------------\n\n...........................................................................\nc:\\users\\zrankin\\appdata\\local\\continuum\\miniconda3\\envs\\kaggle\\lib\\site-packages\\ipykernel\\kernelapp.py in start(self=<ipykernel.kernelapp.IPKernelApp object>)\n    492         if self.poller is not None:\n    493             self.poller.start()\n    494         self.kernel.start()\n    495         self.io_loop = ioloop.IOLoop.current()\n    496         try:\n--> 497             self.io_loop.start()\n        self.io_loop.start = <bound method BaseAsyncIOLoop.start of <tornado.platform.asyncio.AsyncIOMainLoop object>>\n    498         except KeyboardInterrupt:\n    499             pass\n    500 \n    501 launch_new_instance = IPKernelApp.launch_instance\n\n...........................................................................\nc:\\users\\zrankin\\appdata\\local\\continuum\\miniconda3\\envs\\kaggle\\lib\\site-packages\\tornado\\platform\\asyncio.py in start(self=<tornado.platform.asyncio.AsyncIOMainLoop object>)\n    127         except (RuntimeError, AssertionError):\n    128             old_loop = None\n    129         try:\n    130             self._setup_logging()\n    131             asyncio.set_event_loop(self.asyncio_loop)\n--> 132             self.asyncio_loop.run_forever()\n        self.asyncio_loop.run_forever = <bound method BaseEventLoop.run_forever of <_Win...EventLoop running=True closed=False debug=False>>\n    133         finally:\n    134             asyncio.set_event_loop(old_loop)\n    135 \n    136     def stop(self):\n\n...........................................................................\nc:\\users\\zrankin\\appdata\\local\\continuum\\miniconda3\\envs\\kaggle\\lib\\asyncio\\base_events.py in run_forever(self=<_WindowsSelectorEventLoop running=True closed=False debug=False>)\n    417             sys.set_asyncgen_hooks(firstiter=self._asyncgen_firstiter_hook,\n    418                                    finalizer=self._asyncgen_finalizer_hook)\n    419         try:\n    420             events._set_running_loop(self)\n    421             while True:\n--> 422                 self._run_once()\n        self._run_once = <bound method BaseEventLoop._run_once of <_Windo...EventLoop running=True closed=False debug=False>>\n    423                 if self._stopping:\n    424                     break\n    425         finally:\n    426             self._stopping = False\n\n...........................................................................\nc:\\users\\zrankin\\appdata\\local\\continuum\\miniconda3\\envs\\kaggle\\lib\\asyncio\\base_events.py in _run_once(self=<_WindowsSelectorEventLoop running=True closed=False debug=False>)\n   1429                         logger.warning('Executing %s took %.3f seconds',\n   1430                                        _format_handle(handle), dt)\n   1431                 finally:\n   1432                     self._current_handle = None\n   1433             else:\n-> 1434                 handle._run()\n        handle._run = <bound method Handle._run of <Handle BaseAsyncIOLoop._handle_events(836, 1)>>\n   1435         handle = None  # Needed to break cycles when an exception occurs.\n   1436 \n   1437     def _set_coroutine_wrapper(self, enabled):\n   1438         try:\n\n...........................................................................\nc:\\users\\zrankin\\appdata\\local\\continuum\\miniconda3\\envs\\kaggle\\lib\\asyncio\\events.py in _run(self=<Handle BaseAsyncIOLoop._handle_events(836, 1)>)\n    140             self._callback = None\n    141             self._args = None\n    142 \n    143     def _run(self):\n    144         try:\n--> 145             self._callback(*self._args)\n        self._callback = <bound method BaseAsyncIOLoop._handle_events of <tornado.platform.asyncio.AsyncIOMainLoop object>>\n        self._args = (836, 1)\n    146         except Exception as exc:\n    147             cb = _format_callback_source(self._callback, self._args)\n    148             msg = 'Exception in callback {}'.format(cb)\n    149             context = {\n\n...........................................................................\nc:\\users\\zrankin\\appdata\\local\\continuum\\miniconda3\\envs\\kaggle\\lib\\site-packages\\tornado\\platform\\asyncio.py in _handle_events(self=<tornado.platform.asyncio.AsyncIOMainLoop object>, fd=836, events=1)\n    117             self.writers.remove(fd)\n    118         del self.handlers[fd]\n    119 \n    120     def _handle_events(self, fd, events):\n    121         fileobj, handler_func = self.handlers[fd]\n--> 122         handler_func(fileobj, events)\n        handler_func = <function wrap.<locals>.null_wrapper>\n        fileobj = <zmq.sugar.socket.Socket object>\n        events = 1\n    123 \n    124     def start(self):\n    125         try:\n    126             old_loop = asyncio.get_event_loop()\n\n...........................................................................\nc:\\users\\zrankin\\appdata\\local\\continuum\\miniconda3\\envs\\kaggle\\lib\\site-packages\\tornado\\stack_context.py in null_wrapper(*args=(<zmq.sugar.socket.Socket object>, 1), **kwargs={})\n    295         # Fast path when there are no active contexts.\n    296         def null_wrapper(*args, **kwargs):\n    297             try:\n    298                 current_state = _state.contexts\n    299                 _state.contexts = cap_contexts[0]\n--> 300                 return fn(*args, **kwargs)\n        args = (<zmq.sugar.socket.Socket object>, 1)\n        kwargs = {}\n    301             finally:\n    302                 _state.contexts = current_state\n    303         null_wrapper._wrapped = True\n    304         return null_wrapper\n\n...........................................................................\nc:\\users\\zrankin\\appdata\\local\\continuum\\miniconda3\\envs\\kaggle\\lib\\site-packages\\zmq\\eventloop\\zmqstream.py in _handle_events(self=<zmq.eventloop.zmqstream.ZMQStream object>, fd=<zmq.sugar.socket.Socket object>, events=1)\n    445             return\n    446         zmq_events = self.socket.EVENTS\n    447         try:\n    448             # dispatch events:\n    449             if zmq_events & zmq.POLLIN and self.receiving():\n--> 450                 self._handle_recv()\n        self._handle_recv = <bound method ZMQStream._handle_recv of <zmq.eventloop.zmqstream.ZMQStream object>>\n    451                 if not self.socket:\n    452                     return\n    453             if zmq_events & zmq.POLLOUT and self.sending():\n    454                 self._handle_send()\n\n...........................................................................\nc:\\users\\zrankin\\appdata\\local\\continuum\\miniconda3\\envs\\kaggle\\lib\\site-packages\\zmq\\eventloop\\zmqstream.py in _handle_recv(self=<zmq.eventloop.zmqstream.ZMQStream object>)\n    475             else:\n    476                 raise\n    477         else:\n    478             if self._recv_callback:\n    479                 callback = self._recv_callback\n--> 480                 self._run_callback(callback, msg)\n        self._run_callback = <bound method ZMQStream._run_callback of <zmq.eventloop.zmqstream.ZMQStream object>>\n        callback = <function wrap.<locals>.null_wrapper>\n        msg = [<zmq.sugar.frame.Frame object>, <zmq.sugar.frame.Frame object>, <zmq.sugar.frame.Frame object>, <zmq.sugar.frame.Frame object>, <zmq.sugar.frame.Frame object>, <zmq.sugar.frame.Frame object>, <zmq.sugar.frame.Frame object>]\n    481         \n    482 \n    483     def _handle_send(self):\n    484         \"\"\"Handle a send event.\"\"\"\n\n...........................................................................\nc:\\users\\zrankin\\appdata\\local\\continuum\\miniconda3\\envs\\kaggle\\lib\\site-packages\\zmq\\eventloop\\zmqstream.py in _run_callback(self=<zmq.eventloop.zmqstream.ZMQStream object>, callback=<function wrap.<locals>.null_wrapper>, *args=([<zmq.sugar.frame.Frame object>, <zmq.sugar.frame.Frame object>, <zmq.sugar.frame.Frame object>, <zmq.sugar.frame.Frame object>, <zmq.sugar.frame.Frame object>, <zmq.sugar.frame.Frame object>, <zmq.sugar.frame.Frame object>],), **kwargs={})\n    427         close our socket.\"\"\"\n    428         try:\n    429             # Use a NullContext to ensure that all StackContexts are run\n    430             # inside our blanket exception handler rather than outside.\n    431             with stack_context.NullContext():\n--> 432                 callback(*args, **kwargs)\n        callback = <function wrap.<locals>.null_wrapper>\n        args = ([<zmq.sugar.frame.Frame object>, <zmq.sugar.frame.Frame object>, <zmq.sugar.frame.Frame object>, <zmq.sugar.frame.Frame object>, <zmq.sugar.frame.Frame object>, <zmq.sugar.frame.Frame object>, <zmq.sugar.frame.Frame object>],)\n        kwargs = {}\n    433         except:\n    434             gen_log.error(\"Uncaught exception in ZMQStream callback\",\n    435                           exc_info=True)\n    436             # Re-raise the exception so that IOLoop.handle_callback_exception\n\n...........................................................................\nc:\\users\\zrankin\\appdata\\local\\continuum\\miniconda3\\envs\\kaggle\\lib\\site-packages\\tornado\\stack_context.py in null_wrapper(*args=([<zmq.sugar.frame.Frame object>, <zmq.sugar.frame.Frame object>, <zmq.sugar.frame.Frame object>, <zmq.sugar.frame.Frame object>, <zmq.sugar.frame.Frame object>, <zmq.sugar.frame.Frame object>, <zmq.sugar.frame.Frame object>],), **kwargs={})\n    295         # Fast path when there are no active contexts.\n    296         def null_wrapper(*args, **kwargs):\n    297             try:\n    298                 current_state = _state.contexts\n    299                 _state.contexts = cap_contexts[0]\n--> 300                 return fn(*args, **kwargs)\n        args = ([<zmq.sugar.frame.Frame object>, <zmq.sugar.frame.Frame object>, <zmq.sugar.frame.Frame object>, <zmq.sugar.frame.Frame object>, <zmq.sugar.frame.Frame object>, <zmq.sugar.frame.Frame object>, <zmq.sugar.frame.Frame object>],)\n        kwargs = {}\n    301             finally:\n    302                 _state.contexts = current_state\n    303         null_wrapper._wrapped = True\n    304         return null_wrapper\n\n...........................................................................\nc:\\users\\zrankin\\appdata\\local\\continuum\\miniconda3\\envs\\kaggle\\lib\\site-packages\\ipykernel\\kernelbase.py in dispatcher(msg=[<zmq.sugar.frame.Frame object>, <zmq.sugar.frame.Frame object>, <zmq.sugar.frame.Frame object>, <zmq.sugar.frame.Frame object>, <zmq.sugar.frame.Frame object>, <zmq.sugar.frame.Frame object>, <zmq.sugar.frame.Frame object>])\n    278         if self.control_stream:\n    279             self.control_stream.on_recv(self.dispatch_control, copy=False)\n    280 \n    281         def make_dispatcher(stream):\n    282             def dispatcher(msg):\n--> 283                 return self.dispatch_shell(stream, msg)\n        msg = [<zmq.sugar.frame.Frame object>, <zmq.sugar.frame.Frame object>, <zmq.sugar.frame.Frame object>, <zmq.sugar.frame.Frame object>, <zmq.sugar.frame.Frame object>, <zmq.sugar.frame.Frame object>, <zmq.sugar.frame.Frame object>]\n    284             return dispatcher\n    285 \n    286         for s in self.shell_streams:\n    287             s.on_recv(make_dispatcher(s), copy=False)\n\n...........................................................................\nc:\\users\\zrankin\\appdata\\local\\continuum\\miniconda3\\envs\\kaggle\\lib\\site-packages\\ipykernel\\kernelbase.py in dispatch_shell(self=<ipykernel.ipkernel.IPythonKernel object>, stream=<zmq.eventloop.zmqstream.ZMQStream object>, msg={'buffers': [], 'content': {'allow_stdin': True, 'code': '%%time\\nparam_grid = dict(num_leaves=[32,36,40])\\n...f1_scorer, n_jobs=-1)\\ngrid.fit(train_X, train_y)\\n', 'silent': False, 'stop_on_error': True, 'store_history': True, 'user_expressions': {}}, 'header': {'date': datetime.datetime(2018, 10, 1, 13, 14, 27, 573857, tzinfo=tzutc()), 'msg_id': 'd9fd04005580454482dd4ca154eb03a0', 'msg_type': 'execute_request', 'session': 'eb2930d46f4343ae830dd7998ec63da8', 'username': 'username', 'version': '5.2'}, 'metadata': {}, 'msg_id': 'd9fd04005580454482dd4ca154eb03a0', 'msg_type': 'execute_request', 'parent_header': {}})\n    228             self.log.warning(\"Unknown message type: %r\", msg_type)\n    229         else:\n    230             self.log.debug(\"%s: %s\", msg_type, msg)\n    231             self.pre_handler_hook()\n    232             try:\n--> 233                 handler(stream, idents, msg)\n        handler = <bound method Kernel.execute_request of <ipykernel.ipkernel.IPythonKernel object>>\n        stream = <zmq.eventloop.zmqstream.ZMQStream object>\n        idents = [b'eb2930d46f4343ae830dd7998ec63da8']\n        msg = {'buffers': [], 'content': {'allow_stdin': True, 'code': '%%time\\nparam_grid = dict(num_leaves=[32,36,40])\\n...f1_scorer, n_jobs=-1)\\ngrid.fit(train_X, train_y)\\n', 'silent': False, 'stop_on_error': True, 'store_history': True, 'user_expressions': {}}, 'header': {'date': datetime.datetime(2018, 10, 1, 13, 14, 27, 573857, tzinfo=tzutc()), 'msg_id': 'd9fd04005580454482dd4ca154eb03a0', 'msg_type': 'execute_request', 'session': 'eb2930d46f4343ae830dd7998ec63da8', 'username': 'username', 'version': '5.2'}, 'metadata': {}, 'msg_id': 'd9fd04005580454482dd4ca154eb03a0', 'msg_type': 'execute_request', 'parent_header': {}}\n    234             except Exception:\n    235                 self.log.error(\"Exception in message handler:\", exc_info=True)\n    236             finally:\n    237                 self.post_handler_hook()\n\n...........................................................................\nc:\\users\\zrankin\\appdata\\local\\continuum\\miniconda3\\envs\\kaggle\\lib\\site-packages\\ipykernel\\kernelbase.py in execute_request(self=<ipykernel.ipkernel.IPythonKernel object>, stream=<zmq.eventloop.zmqstream.ZMQStream object>, ident=[b'eb2930d46f4343ae830dd7998ec63da8'], parent={'buffers': [], 'content': {'allow_stdin': True, 'code': '%%time\\nparam_grid = dict(num_leaves=[32,36,40])\\n...f1_scorer, n_jobs=-1)\\ngrid.fit(train_X, train_y)\\n', 'silent': False, 'stop_on_error': True, 'store_history': True, 'user_expressions': {}}, 'header': {'date': datetime.datetime(2018, 10, 1, 13, 14, 27, 573857, tzinfo=tzutc()), 'msg_id': 'd9fd04005580454482dd4ca154eb03a0', 'msg_type': 'execute_request', 'session': 'eb2930d46f4343ae830dd7998ec63da8', 'username': 'username', 'version': '5.2'}, 'metadata': {}, 'msg_id': 'd9fd04005580454482dd4ca154eb03a0', 'msg_type': 'execute_request', 'parent_header': {}})\n    394         if not silent:\n    395             self.execution_count += 1\n    396             self._publish_execute_input(code, parent, self.execution_count)\n    397 \n    398         reply_content = self.do_execute(code, silent, store_history,\n--> 399                                         user_expressions, allow_stdin)\n        user_expressions = {}\n        allow_stdin = True\n    400 \n    401         # Flush output before sending the reply.\n    402         sys.stdout.flush()\n    403         sys.stderr.flush()\n\n...........................................................................\nc:\\users\\zrankin\\appdata\\local\\continuum\\miniconda3\\envs\\kaggle\\lib\\site-packages\\ipykernel\\ipkernel.py in do_execute(self=<ipykernel.ipkernel.IPythonKernel object>, code='%%time\\nparam_grid = dict(num_leaves=[32,36,40])\\n...f1_scorer, n_jobs=-1)\\ngrid.fit(train_X, train_y)\\n', silent=False, store_history=True, user_expressions={}, allow_stdin=True)\n    203 \n    204         self._forward_input(allow_stdin)\n    205 \n    206         reply_content = {}\n    207         try:\n--> 208             res = shell.run_cell(code, store_history=store_history, silent=silent)\n        res = undefined\n        shell.run_cell = <bound method ZMQInteractiveShell.run_cell of <ipykernel.zmqshell.ZMQInteractiveShell object>>\n        code = '%%time\\nparam_grid = dict(num_leaves=[32,36,40])\\n...f1_scorer, n_jobs=-1)\\ngrid.fit(train_X, train_y)\\n'\n        store_history = True\n        silent = False\n    209         finally:\n    210             self._restore_input()\n    211 \n    212         if res.error_before_exec is not None:\n\n...........................................................................\nc:\\users\\zrankin\\appdata\\local\\continuum\\miniconda3\\envs\\kaggle\\lib\\site-packages\\ipykernel\\zmqshell.py in run_cell(self=<ipykernel.zmqshell.ZMQInteractiveShell object>, *args=('%%time\\nparam_grid = dict(num_leaves=[32,36,40])\\n...f1_scorer, n_jobs=-1)\\ngrid.fit(train_X, train_y)\\n',), **kwargs={'silent': False, 'store_history': True})\n    532             )\n    533         self.payload_manager.write_payload(payload)\n    534 \n    535     def run_cell(self, *args, **kwargs):\n    536         self._last_traceback = None\n--> 537         return super(ZMQInteractiveShell, self).run_cell(*args, **kwargs)\n        self.run_cell = <bound method ZMQInteractiveShell.run_cell of <ipykernel.zmqshell.ZMQInteractiveShell object>>\n        args = ('%%time\\nparam_grid = dict(num_leaves=[32,36,40])\\n...f1_scorer, n_jobs=-1)\\ngrid.fit(train_X, train_y)\\n',)\n        kwargs = {'silent': False, 'store_history': True}\n    538 \n    539     def _showtraceback(self, etype, evalue, stb):\n    540         # try to preserve ordering of tracebacks and print statements\n    541         sys.stdout.flush()\n\n...........................................................................\nc:\\users\\zrankin\\appdata\\local\\continuum\\miniconda3\\envs\\kaggle\\lib\\site-packages\\IPython\\core\\interactiveshell.py in run_cell(self=<ipykernel.zmqshell.ZMQInteractiveShell object>, raw_cell='%%time\\nparam_grid = dict(num_leaves=[32,36,40])\\n...f1_scorer, n_jobs=-1)\\ngrid.fit(train_X, train_y)\\n', store_history=True, silent=False, shell_futures=True)\n   2657         -------\n   2658         result : :class:`ExecutionResult`\n   2659         \"\"\"\n   2660         try:\n   2661             result = self._run_cell(\n-> 2662                 raw_cell, store_history, silent, shell_futures)\n        raw_cell = '%%time\\nparam_grid = dict(num_leaves=[32,36,40])\\n...f1_scorer, n_jobs=-1)\\ngrid.fit(train_X, train_y)\\n'\n        store_history = True\n        silent = False\n        shell_futures = True\n   2663         finally:\n   2664             self.events.trigger('post_execute')\n   2665             if not silent:\n   2666                 self.events.trigger('post_run_cell', result)\n\n...........................................................................\nc:\\users\\zrankin\\appdata\\local\\continuum\\miniconda3\\envs\\kaggle\\lib\\site-packages\\IPython\\core\\interactiveshell.py in _run_cell(self=<ipykernel.zmqshell.ZMQInteractiveShell object>, raw_cell='%%time\\nparam_grid = dict(num_leaves=[32,36,40])\\n...f1_scorer, n_jobs=-1)\\ngrid.fit(train_X, train_y)\\n', store_history=True, silent=False, shell_futures=True)\n   2780                 self.displayhook.exec_result = result\n   2781 \n   2782                 # Execute the user code\n   2783                 interactivity = 'none' if silent else self.ast_node_interactivity\n   2784                 has_raised = self.run_ast_nodes(code_ast.body, cell_name,\n-> 2785                    interactivity=interactivity, compiler=compiler, result=result)\n        interactivity = 'last_expr'\n        compiler = <IPython.core.compilerop.CachingCompiler object>\n   2786                 \n   2787                 self.last_execution_succeeded = not has_raised\n   2788                 self.last_execution_result = result\n   2789 \n\n...........................................................................\nc:\\users\\zrankin\\appdata\\local\\continuum\\miniconda3\\envs\\kaggle\\lib\\site-packages\\IPython\\core\\interactiveshell.py in run_ast_nodes(self=<ipykernel.zmqshell.ZMQInteractiveShell object>, nodelist=[<_ast.Expr object>], cell_name='<ipython-input-118-ccf4e0ac5cf0>', interactivity='last', compiler=<IPython.core.compilerop.CachingCompiler object>, result=<ExecutionResult object at 17938c7fe10, executio...rue silent=False shell_futures=True> result=None>)\n   2902                     return True\n   2903 \n   2904             for i, node in enumerate(to_run_interactive):\n   2905                 mod = ast.Interactive([node])\n   2906                 code = compiler(mod, cell_name, \"single\")\n-> 2907                 if self.run_code(code, result):\n        self.run_code = <bound method InteractiveShell.run_code of <ipykernel.zmqshell.ZMQInteractiveShell object>>\n        code = <code object <module> at 0x0000017938A8BC90, file \"<ipython-input-118-ccf4e0ac5cf0>\", line 1>\n        result = <ExecutionResult object at 17938c7fe10, executio...rue silent=False shell_futures=True> result=None>\n   2908                     return True\n   2909 \n   2910             # Flush softspace\n   2911             if softspace(sys.stdout, 0):\n\n...........................................................................\nc:\\users\\zrankin\\appdata\\local\\continuum\\miniconda3\\envs\\kaggle\\lib\\site-packages\\IPython\\core\\interactiveshell.py in run_code(self=<ipykernel.zmqshell.ZMQInteractiveShell object>, code_obj=<code object <module> at 0x0000017938A8BC90, file \"<ipython-input-118-ccf4e0ac5cf0>\", line 1>, result=<ExecutionResult object at 17938c7fe10, executio...rue silent=False shell_futures=True> result=None>)\n   2956         outflag = True  # happens in more places, so it's easier as default\n   2957         try:\n   2958             try:\n   2959                 self.hooks.pre_run_code_hook()\n   2960                 #rprint('Running code', repr(code_obj)) # dbg\n-> 2961                 exec(code_obj, self.user_global_ns, self.user_ns)\n        code_obj = <code object <module> at 0x0000017938A8BC90, file \"<ipython-input-118-ccf4e0ac5cf0>\", line 1>\n        self.user_global_ns = {'Counter': <class 'collections.Counter'>, 'GridSearchCV': <class 'sklearn.model_selection._search.GridSearchCV'>, 'HyperoptEstimator': <class 'hpsklearn.estimator.hyperopt_estimator'>, 'Imputer': <class 'sklearn.preprocessing.imputation.Imputer'>, 'In': ['', \"import os\\nimport sys\\nimport numpy as np\\nimport p..._ipython().run_line_magic('matplotlib', 'inline')\", '# # Tools for developing code\\n# %load_ext autore...t in sys.path:\\n#     sys.path.append(module_path)', \"train = pd.read_csv('../input/train.csv')\\ntest = pd.read_csv('../input/test.csv')\", 'mapping = {\"yes\": 1, \"no\": 0}\\n\\n# Apply same oper...in[[\\'dependency\\', \\'edjefa\\', \\'edjefe\\']].describe()', \"# Add null Target column to test\\ntest['Target'] ...an\\ndata = train.append(test, ignore_index = True)\", \"# Groupby the household and figure out the numbe...ll have the same target.'.format(len(not_equal)))\", \"# Iterate through each household\\nfor household i...ll have the same target.'.format(len(not_equal)))\", \"# Number of missing in each column\\nmissing = pd....cent', ascending = False).head(10).drop('Target')\", \"# Missing num tablets means you don't have one\\nd...l()\\n\\ndata.loc[data['rez_esc'] > 5, 'rez_esc'] = 5\", \"id_ = ['Id', 'idhogar', 'Target']\\n\\nind_bool = ['...vered every variable: ', len(x) == data.shape[1])\", '# Remove squared variables\\ndata = data.drop(colu...id_ + hh_bool + hh_cont + hh_ordered]\\nheads.shape', '# Create correlation matrix\\ncorr_matrix = heads....lumns if any(abs(upper[column]) > 0.95)]\\n\\nto_drop', \"heads = heads.drop(columns = ['tamhog', 'hogar_t...hhsize-diff'] = heads['tamviv'] - heads['hhsize']\", \"elec = []\\n\\n# Assign values\\nfor i, row in heads.i...ec\\nheads['elec-missing'] = heads['elec'].isnull()\", \"heads = heads.drop(columns = 'area2')\", \"# Wall ordinal variable\\nheads['walls'] = np.argm...nt-per-capita'] = heads['v2a1'] / heads['tamviv']\", 'household_feats = list(heads.columns)', 'ind = data[id_ + ind_bool + ind_ordered]\\nind.shape', '# Create correlation matrix\\ncorr_matrix = ind.co...lumns if any(abs(upper[column]) > 0.95)]\\n\\nto_drop', ...], 'MinMaxScaler': <class 'sklearn.preprocessing.data.MinMaxScaler'>, 'Out': {4:         dependency       edjefa       edjefe\ncou...0000\nmax       8.000000    21.000000    21.000000, 8:               total   percent\nrez_esc       2758...11      0  0.000000\nparentesco12      0  0.000000, 11: (10307, 99), 12: ['coopele', 'area2', 'tamhog', 'hhsize', 'hogar_total'], 18: (33413, 40), 19: ['female'], 22: (33413, 40), 23: count    33413.000000\nmean         1.214886\nstd ...\nmax          2.000000\nName: tech, dtype: float64, 24:           v18q                           dis    ...1   4     4  0.0      0  \n\n[5 rows x 234 columns], 25:            v18q-min  v18q-max  v18q-sum  v18q-co...       0.0            0  \n\n[5 rows x 234 columns], ...}, 'PermutationImportance': <class 'eli5.sklearn.permutation_importance.PermutationImportance'>, 'Pipeline': <class 'sklearn.pipeline.Pipeline'>, 'RFECV': <class 'sklearn.feature_selection.rfe.RFECV'>, ...}\n        self.user_ns = {'Counter': <class 'collections.Counter'>, 'GridSearchCV': <class 'sklearn.model_selection._search.GridSearchCV'>, 'HyperoptEstimator': <class 'hpsklearn.estimator.hyperopt_estimator'>, 'Imputer': <class 'sklearn.preprocessing.imputation.Imputer'>, 'In': ['', \"import os\\nimport sys\\nimport numpy as np\\nimport p..._ipython().run_line_magic('matplotlib', 'inline')\", '# # Tools for developing code\\n# %load_ext autore...t in sys.path:\\n#     sys.path.append(module_path)', \"train = pd.read_csv('../input/train.csv')\\ntest = pd.read_csv('../input/test.csv')\", 'mapping = {\"yes\": 1, \"no\": 0}\\n\\n# Apply same oper...in[[\\'dependency\\', \\'edjefa\\', \\'edjefe\\']].describe()', \"# Add null Target column to test\\ntest['Target'] ...an\\ndata = train.append(test, ignore_index = True)\", \"# Groupby the household and figure out the numbe...ll have the same target.'.format(len(not_equal)))\", \"# Iterate through each household\\nfor household i...ll have the same target.'.format(len(not_equal)))\", \"# Number of missing in each column\\nmissing = pd....cent', ascending = False).head(10).drop('Target')\", \"# Missing num tablets means you don't have one\\nd...l()\\n\\ndata.loc[data['rez_esc'] > 5, 'rez_esc'] = 5\", \"id_ = ['Id', 'idhogar', 'Target']\\n\\nind_bool = ['...vered every variable: ', len(x) == data.shape[1])\", '# Remove squared variables\\ndata = data.drop(colu...id_ + hh_bool + hh_cont + hh_ordered]\\nheads.shape', '# Create correlation matrix\\ncorr_matrix = heads....lumns if any(abs(upper[column]) > 0.95)]\\n\\nto_drop', \"heads = heads.drop(columns = ['tamhog', 'hogar_t...hhsize-diff'] = heads['tamviv'] - heads['hhsize']\", \"elec = []\\n\\n# Assign values\\nfor i, row in heads.i...ec\\nheads['elec-missing'] = heads['elec'].isnull()\", \"heads = heads.drop(columns = 'area2')\", \"# Wall ordinal variable\\nheads['walls'] = np.argm...nt-per-capita'] = heads['v2a1'] / heads['tamviv']\", 'household_feats = list(heads.columns)', 'ind = data[id_ + ind_bool + ind_ordered]\\nind.shape', '# Create correlation matrix\\ncorr_matrix = ind.co...lumns if any(abs(upper[column]) > 0.95)]\\n\\nto_drop', ...], 'MinMaxScaler': <class 'sklearn.preprocessing.data.MinMaxScaler'>, 'Out': {4:         dependency       edjefa       edjefe\ncou...0000\nmax       8.000000    21.000000    21.000000, 8:               total   percent\nrez_esc       2758...11      0  0.000000\nparentesco12      0  0.000000, 11: (10307, 99), 12: ['coopele', 'area2', 'tamhog', 'hhsize', 'hogar_total'], 18: (33413, 40), 19: ['female'], 22: (33413, 40), 23: count    33413.000000\nmean         1.214886\nstd ...\nmax          2.000000\nName: tech, dtype: float64, 24:           v18q                           dis    ...1   4     4  0.0      0  \n\n[5 rows x 234 columns], 25:            v18q-min  v18q-max  v18q-sum  v18q-co...       0.0            0  \n\n[5 rows x 234 columns], ...}, 'PermutationImportance': <class 'eli5.sklearn.permutation_importance.PermutationImportance'>, 'Pipeline': <class 'sklearn.pipeline.Pipeline'>, 'RFECV': <class 'sklearn.feature_selection.rfe.RFECV'>, ...}\n   2962             finally:\n   2963                 # Reset our crash handler in place\n   2964                 sys.excepthook = old_excepthook\n   2965         except SystemExit as e:\n\n...........................................................................\nC:\\Users\\zrankin\\Documents\\github\\poverty_prediction\\notebooks\\<ipython-input-118-ccf4e0ac5cf0> in <module>()\n----> 1 get_ipython().run_cell_magic('time', '', \"param_grid = dict(num_leaves=[32,36,40])\\nparams = {'boosting_type': 'dart', \\n                  'colsample_bytree': 0.88, \\n                  'learning_rate': 0.028, \\n                   'min_child_samples': 10, \\n                   'num_leaves': 36, \\n                   'reg_alpha': 0.76, \\n                   'reg_lambda': 0.43, \\n                   'subsample_for_bin': 40000, \\n                   'subsample': 0.54, \\n                   'class_weight': 'balanced'}\\n\\n\\ngrid = GridSearchCV(model, param_grid=param_grid, fit_params=fit_params, cv=kfold, scoring=f1_scorer, n_jobs=-1)\\ngrid.fit(train_X, train_y)\")\n\n...........................................................................\nc:\\users\\zrankin\\appdata\\local\\continuum\\miniconda3\\envs\\kaggle\\lib\\site-packages\\IPython\\core\\interactiveshell.py in run_cell_magic(self=<ipykernel.zmqshell.ZMQInteractiveShell object>, magic_name='time', line='', cell='param_grid = dict(num_leaves=[32,36,40])\\nparams ...=f1_scorer, n_jobs=-1)\\ngrid.fit(train_X, train_y)')\n   2162             # This will need to be updated if the internal calling logic gets\n   2163             # refactored, or else we'll be expanding the wrong variables.\n   2164             stack_depth = 2\n   2165             magic_arg_s = self.var_expand(line, stack_depth)\n   2166             with self.builtin_trap:\n-> 2167                 result = fn(magic_arg_s, cell)\n        result = undefined\n        fn = <bound method ExecutionMagics.time of <IPython.core.magics.execution.ExecutionMagics object>>\n        magic_arg_s = ''\n        cell = 'param_grid = dict(num_leaves=[32,36,40])\\nparams ...=f1_scorer, n_jobs=-1)\\ngrid.fit(train_X, train_y)'\n   2168             return result\n   2169 \n   2170     def find_line_magic(self, magic_name):\n   2171         \"\"\"Find and return a line magic by name.\n\n...........................................................................\nC:\\Users\\zrankin\\Documents\\github\\poverty_prediction\\notebooks\\<decorator-gen-63> in time(self=<IPython.core.magics.execution.ExecutionMagics object>, line='', cell='param_grid = dict(num_leaves=[32,36,40])\\nparams ...=f1_scorer, n_jobs=-1)\\ngrid.fit(train_X, train_y)', local_ns=None)\n\n...........................................................................\nc:\\users\\zrankin\\appdata\\local\\continuum\\miniconda3\\envs\\kaggle\\lib\\site-packages\\IPython\\core\\magic.py in <lambda>(f=<function ExecutionMagics.time>, *a=(<IPython.core.magics.execution.ExecutionMagics object>, '', 'param_grid = dict(num_leaves=[32,36,40])\\nparams ...=f1_scorer, n_jobs=-1)\\ngrid.fit(train_X, train_y)', None), **k={})\n    182     validate_type(magic_kind)\n    183 \n    184     # This is a closure to capture the magic_kind.  We could also use a class,\n    185     # but it's overkill for just that one bit of state.\n    186     def magic_deco(arg):\n--> 187         call = lambda f, *a, **k: f(*a, **k)\n        f = <function ExecutionMagics.time>\n        a = (<IPython.core.magics.execution.ExecutionMagics object>, '', 'param_grid = dict(num_leaves=[32,36,40])\\nparams ...=f1_scorer, n_jobs=-1)\\ngrid.fit(train_X, train_y)', None)\n        k = {}\n    188 \n    189         if callable(arg):\n    190             # \"Naked\" decorator call (just @foo, no args)\n    191             func = arg\n\n...........................................................................\nc:\\users\\zrankin\\appdata\\local\\continuum\\miniconda3\\envs\\kaggle\\lib\\site-packages\\IPython\\core\\magics\\execution.py in time(self=<IPython.core.magics.execution.ExecutionMagics object>, line='', cell='param_grid = dict(num_leaves=[32,36,40])\\nparams ...=f1_scorer, n_jobs=-1)\\ngrid.fit(train_X, train_y)', local_ns=None)\n   1232                 return\n   1233             end = clock2()\n   1234         else:\n   1235             st = clock2()\n   1236             try:\n-> 1237                 exec(code, glob, local_ns)\n        code = <code object <module> at 0x0000017936AC2B70, file \"<timed exec>\", line 1>\n        glob = {'Counter': <class 'collections.Counter'>, 'GridSearchCV': <class 'sklearn.model_selection._search.GridSearchCV'>, 'HyperoptEstimator': <class 'hpsklearn.estimator.hyperopt_estimator'>, 'Imputer': <class 'sklearn.preprocessing.imputation.Imputer'>, 'In': ['', \"import os\\nimport sys\\nimport numpy as np\\nimport p..._ipython().run_line_magic('matplotlib', 'inline')\", '# # Tools for developing code\\n# %load_ext autore...t in sys.path:\\n#     sys.path.append(module_path)', \"train = pd.read_csv('../input/train.csv')\\ntest = pd.read_csv('../input/test.csv')\", 'mapping = {\"yes\": 1, \"no\": 0}\\n\\n# Apply same oper...in[[\\'dependency\\', \\'edjefa\\', \\'edjefe\\']].describe()', \"# Add null Target column to test\\ntest['Target'] ...an\\ndata = train.append(test, ignore_index = True)\", \"# Groupby the household and figure out the numbe...ll have the same target.'.format(len(not_equal)))\", \"# Iterate through each household\\nfor household i...ll have the same target.'.format(len(not_equal)))\", \"# Number of missing in each column\\nmissing = pd....cent', ascending = False).head(10).drop('Target')\", \"# Missing num tablets means you don't have one\\nd...l()\\n\\ndata.loc[data['rez_esc'] > 5, 'rez_esc'] = 5\", \"id_ = ['Id', 'idhogar', 'Target']\\n\\nind_bool = ['...vered every variable: ', len(x) == data.shape[1])\", '# Remove squared variables\\ndata = data.drop(colu...id_ + hh_bool + hh_cont + hh_ordered]\\nheads.shape', '# Create correlation matrix\\ncorr_matrix = heads....lumns if any(abs(upper[column]) > 0.95)]\\n\\nto_drop', \"heads = heads.drop(columns = ['tamhog', 'hogar_t...hhsize-diff'] = heads['tamviv'] - heads['hhsize']\", \"elec = []\\n\\n# Assign values\\nfor i, row in heads.i...ec\\nheads['elec-missing'] = heads['elec'].isnull()\", \"heads = heads.drop(columns = 'area2')\", \"# Wall ordinal variable\\nheads['walls'] = np.argm...nt-per-capita'] = heads['v2a1'] / heads['tamviv']\", 'household_feats = list(heads.columns)', 'ind = data[id_ + ind_bool + ind_ordered]\\nind.shape', '# Create correlation matrix\\ncorr_matrix = ind.co...lumns if any(abs(upper[column]) > 0.95)]\\n\\nto_drop', ...], 'MinMaxScaler': <class 'sklearn.preprocessing.data.MinMaxScaler'>, 'Out': {4:         dependency       edjefa       edjefe\ncou...0000\nmax       8.000000    21.000000    21.000000, 8:               total   percent\nrez_esc       2758...11      0  0.000000\nparentesco12      0  0.000000, 11: (10307, 99), 12: ['coopele', 'area2', 'tamhog', 'hhsize', 'hogar_total'], 18: (33413, 40), 19: ['female'], 22: (33413, 40), 23: count    33413.000000\nmean         1.214886\nstd ...\nmax          2.000000\nName: tech, dtype: float64, 24:           v18q                           dis    ...1   4     4  0.0      0  \n\n[5 rows x 234 columns], 25:            v18q-min  v18q-max  v18q-sum  v18q-co...       0.0            0  \n\n[5 rows x 234 columns], ...}, 'PermutationImportance': <class 'eli5.sklearn.permutation_importance.PermutationImportance'>, 'Pipeline': <class 'sklearn.pipeline.Pipeline'>, 'RFECV': <class 'sklearn.feature_selection.rfe.RFECV'>, ...}\n        local_ns = None\n   1238             except:\n   1239                 self.shell.showtraceback()\n   1240                 return\n   1241             end = clock2()\n\n...........................................................................\nC:\\Users\\zrankin\\Documents\\github\\poverty_prediction\\notebooks\\<timed exec> in <module>()\n\n...........................................................................\nc:\\users\\zrankin\\appdata\\local\\continuum\\miniconda3\\envs\\kaggle\\lib\\site-packages\\sklearn\\model_selection\\_search.py in fit(self=GridSearchCV(cv=StratifiedKFold(n_splits=5, rand...=make_scorer(f1_score, average=macro), verbose=0), X=array([[0., 0., 1., ..., 0., 0., 0.],\n       [0...., 0., 1.],\n       [0., 0., 1., ..., 0., 0., 0.]]), y=array([4, 3, 3, ..., 4, 4, 4]), groups=None, **fit_params={'early_stopping_rounds': 100, 'eval_set': [(array([[0., 0., 1., ..., 0., 0., 0.],\n       [0...., 0., 0.],\n       [0., 0., 1., ..., 0., 0., 0.]]), array([1, 3, 2, 2, 1, 3, 3, 2, 3, 2, 3, 1, 3, 1,...3, 1, 3, 3, 2, 2, 3, 0, 3, 3, 3, 3], dtype=int64))], 'verbose': False})\n    635                                   return_train_score=self.return_train_score,\n    636                                   return_n_test_samples=True,\n    637                                   return_times=True, return_parameters=False,\n    638                                   error_score=self.error_score)\n    639           for parameters, (train, test) in product(candidate_params,\n--> 640                                                    cv.split(X, y, groups)))\n        cv.split = <bound method StratifiedKFold.split of StratifiedKFold(n_splits=5, random_state=1, shuffle=False)>\n        X = array([[0., 0., 1., ..., 0., 0., 0.],\n       [0...., 0., 1.],\n       [0., 0., 1., ..., 0., 0., 0.]])\n        y = array([4, 3, 3, ..., 4, 4, 4])\n        groups = None\n    641 \n    642         # if one choose to see train score, \"out\" will contain train score info\n    643         if self.return_train_score:\n    644             (train_score_dicts, test_score_dicts, test_sample_counts, fit_time,\n\n...........................................................................\nc:\\users\\zrankin\\appdata\\local\\continuum\\miniconda3\\envs\\kaggle\\lib\\site-packages\\sklearn\\externals\\joblib\\parallel.py in __call__(self=Parallel(n_jobs=-1), iterable=<generator object BaseSearchCV.fit.<locals>.<genexpr>>)\n    784             if pre_dispatch == \"all\" or n_jobs == 1:\n    785                 # The iterable was consumed all at once by the above for loop.\n    786                 # No need to wait for async callbacks to trigger to\n    787                 # consumption.\n    788                 self._iterating = False\n--> 789             self.retrieve()\n        self.retrieve = <bound method Parallel.retrieve of Parallel(n_jobs=-1)>\n    790             # Make sure that we get a last message telling us we are done\n    791             elapsed_time = time.time() - self._start_time\n    792             self._print('Done %3i out of %3i | elapsed: %s finished',\n    793                         (len(self._output), len(self._output),\n\n---------------------------------------------------------------------------\nSub-process traceback:\n---------------------------------------------------------------------------\nValueError                                         Mon Oct  1 08:14:29 2018\nPID: 12832Python 3.6.6: c:\\users\\zrankin\\appdata\\local\\continuum\\miniconda3\\envs\\kaggle\\python.exe\n...........................................................................\nc:\\users\\zrankin\\appdata\\local\\continuum\\miniconda3\\envs\\kaggle\\lib\\site-packages\\sklearn\\externals\\joblib\\parallel.py in __call__(self=<sklearn.externals.joblib.parallel.BatchedCalls object>)\n    126     def __init__(self, iterator_slice):\n    127         self.items = list(iterator_slice)\n    128         self._size = len(self.items)\n    129 \n    130     def __call__(self):\n--> 131         return [func(*args, **kwargs) for func, args, kwargs in self.items]\n        self.items = [(<function _fit_and_score>, (LGBMClassifier(boosting_type='dart', class_weigh...       subsample_for_bin=40000, subsample_freq=0), memmap([[0., 0., 1., ..., 0., 0., 0.],\n        [... 0., 1.],\n        [0., 0., 1., ..., 0., 0., 0.]]), array([4, 3, 3, ..., 4, 4, 4]), {'score': make_scorer(f1_score, average=macro)}, array([ 374,  378,  382, ..., 2226, 2227, 2228]), array([  0,   1,   2,   3,   4,   5,   6,   7,  ..., 459, 462, 464, 465,\n       466, 467, 468, 469]), 0, {'num_leaves': 32}), {'error_score': 'raise', 'fit_params': {'early_stopping_rounds': 100, 'eval_set': [(memmap([[0., 0., 1., ..., 0., 0., 0.],\n        [... 0., 0.],\n        [0., 0., 1., ..., 0., 0., 0.]]), array([1, 3, 2, 2, 1, 3, 3, 2, 3, 2, 3, 1, 3, 1,...3, 1, 3, 3, 2, 2, 3, 0, 3, 3, 3, 3], dtype=int64))], 'verbose': False}, 'return_n_test_samples': True, 'return_parameters': False, 'return_times': True, 'return_train_score': 'warn'})]\n    132 \n    133     def __len__(self):\n    134         return self._size\n    135 \n\n...........................................................................\nc:\\users\\zrankin\\appdata\\local\\continuum\\miniconda3\\envs\\kaggle\\lib\\site-packages\\sklearn\\externals\\joblib\\parallel.py in <listcomp>(.0=<list_iterator object>)\n    126     def __init__(self, iterator_slice):\n    127         self.items = list(iterator_slice)\n    128         self._size = len(self.items)\n    129 \n    130     def __call__(self):\n--> 131         return [func(*args, **kwargs) for func, args, kwargs in self.items]\n        func = <function _fit_and_score>\n        args = (LGBMClassifier(boosting_type='dart', class_weigh...       subsample_for_bin=40000, subsample_freq=0), memmap([[0., 0., 1., ..., 0., 0., 0.],\n        [... 0., 1.],\n        [0., 0., 1., ..., 0., 0., 0.]]), array([4, 3, 3, ..., 4, 4, 4]), {'score': make_scorer(f1_score, average=macro)}, array([ 374,  378,  382, ..., 2226, 2227, 2228]), array([  0,   1,   2,   3,   4,   5,   6,   7,  ..., 459, 462, 464, 465,\n       466, 467, 468, 469]), 0, {'num_leaves': 32})\n        kwargs = {'error_score': 'raise', 'fit_params': {'early_stopping_rounds': 100, 'eval_set': [(memmap([[0., 0., 1., ..., 0., 0., 0.],\n        [... 0., 0.],\n        [0., 0., 1., ..., 0., 0., 0.]]), array([1, 3, 2, 2, 1, 3, 3, 2, 3, 2, 3, 1, 3, 1,...3, 1, 3, 3, 2, 2, 3, 0, 3, 3, 3, 3], dtype=int64))], 'verbose': False}, 'return_n_test_samples': True, 'return_parameters': False, 'return_times': True, 'return_train_score': 'warn'}\n    132 \n    133     def __len__(self):\n    134         return self._size\n    135 \n\n...........................................................................\nc:\\users\\zrankin\\appdata\\local\\continuum\\miniconda3\\envs\\kaggle\\lib\\site-packages\\sklearn\\model_selection\\_validation.py in _fit_and_score(estimator=LGBMClassifier(boosting_type='dart', class_weigh...       subsample_for_bin=40000, subsample_freq=0), X=memmap([[0., 0., 1., ..., 0., 0., 0.],\n        [... 0., 1.],\n        [0., 0., 1., ..., 0., 0., 0.]]), y=array([4, 3, 3, ..., 4, 4, 4]), scorer={'score': make_scorer(f1_score, average=macro)}, train=array([ 374,  378,  382, ..., 2226, 2227, 2228]), test=array([  0,   1,   2,   3,   4,   5,   6,   7,  ..., 459, 462, 464, 465,\n       466, 467, 468, 469]), verbose=0, parameters={'num_leaves': 32}, fit_params={'early_stopping_rounds': 100, 'eval_set': [(memmap([[0., 0., 1., ..., 0., 0., 0.],\n        [... 0., 0.],\n        [0., 0., 1., ..., 0., 0., 0.]]), array([1, 3, 2, 2, 1, 3, 3, 2, 3, 2, 3, 1, 3, 1,...3, 1, 3, 3, 2, 2, 3, 0, 3, 3, 3, 3], dtype=int64))], 'verbose': False}, return_train_score='warn', return_parameters=False, return_n_test_samples=True, return_times=True, error_score='raise')\n    453 \n    454     try:\n    455         if y_train is None:\n    456             estimator.fit(X_train, **fit_params)\n    457         else:\n--> 458             estimator.fit(X_train, y_train, **fit_params)\n        estimator.fit = <bound method LGBMClassifier.fit of LGBMClassifi...      subsample_for_bin=40000, subsample_freq=0)>\n        X_train = memmap([[0., 0., 1., ..., 0., 0., 0.],\n        [... 0., 1.],\n        [0., 0., 1., ..., 0., 0., 0.]])\n        y_train = array([1, 1, 1, ..., 4, 4, 4])\n        fit_params = {'early_stopping_rounds': 100, 'eval_set': [(memmap([[0., 0., 1., ..., 0., 0., 0.],\n        [... 0., 0.],\n        [0., 0., 1., ..., 0., 0., 0.]]), array([1, 3, 2, 2, 1, 3, 3, 2, 3, 2, 3, 1, 3, 1,...3, 1, 3, 3, 2, 2, 3, 0, 3, 3, 3, 3], dtype=int64))], 'verbose': False}\n    459 \n    460     except Exception as e:\n    461         # Note fit time as time until error\n    462         fit_time = time.time() - start_time\n\n...........................................................................\nc:\\users\\zrankin\\appdata\\local\\continuum\\miniconda3\\envs\\kaggle\\lib\\site-packages\\lightgbm\\sklearn.py in fit(self=LGBMClassifier(boosting_type='dart', class_weigh...       subsample_for_bin=40000, subsample_freq=0), X=memmap([[0., 0., 1., ..., 0., 0., 0.],\n        [... 0., 1.],\n        [0., 0., 1., ..., 0., 0., 0.]]), y=array([1, 1, 1, ..., 4, 4, 4]), sample_weight=None, init_score=None, eval_set=[(memmap([[0., 0., 1., ..., 0., 0., 0.],\n        [... 0., 0.],\n        [0., 0., 1., ..., 0., 0., 0.]]), array([1, 3, 2, 2, 1, 3, 3, 2, 3, 2, 3, 1, 3, 1,...3, 1, 3, 3, 2, 2, 3, 0, 3, 3, 3, 3], dtype=int64))], eval_names=None, eval_sample_weight=None, eval_class_weight=None, eval_init_score=None, eval_metric='multi_logloss', early_stopping_rounds=100, verbose=False, feature_name='auto', categorical_feature='auto', callbacks=None)\n    678                 eval_set = [eval_set]\n    679             for i, (valid_x, valid_y) in enumerate(eval_set):\n    680                 if valid_x is X and valid_y is y:\n    681                     eval_set[i] = (valid_x, _y)\n    682                 else:\n--> 683                     eval_set[i] = (valid_x, self._le.transform(valid_y))\n        eval_set = [(memmap([[0., 0., 1., ..., 0., 0., 0.],\n        [... 0., 0.],\n        [0., 0., 1., ..., 0., 0., 0.]]), array([1, 3, 2, 2, 1, 3, 3, 2, 3, 2, 3, 1, 3, 1,...3, 1, 3, 3, 2, 2, 3, 0, 3, 3, 3, 3], dtype=int64))]\n        i = 0\n        valid_x = memmap([[0., 0., 1., ..., 0., 0., 0.],\n        [... 0., 0.],\n        [0., 0., 1., ..., 0., 0., 0.]])\n        self._le.transform = <bound method LabelEncoder.transform of LabelEncoder()>\n        valid_y = array([1, 3, 2, 2, 1, 3, 3, 2, 3, 2, 3, 1, 3, 1,...3, 1, 3, 3, 2, 2, 3, 0, 3, 3, 3, 3], dtype=int64)\n    684 \n    685         super(LGBMClassifier, self).fit(X, _y, sample_weight=sample_weight,\n    686                                         init_score=init_score, eval_set=eval_set,\n    687                                         eval_names=eval_names,\n\n...........................................................................\nc:\\users\\zrankin\\appdata\\local\\continuum\\miniconda3\\envs\\kaggle\\lib\\site-packages\\sklearn\\preprocessing\\label.py in transform(self=LabelEncoder(), y=array([1, 3, 2, 2, 1, 3, 3, 2, 3, 2, 3, 1, 3, 1,...3, 1, 3, 3, 2, 2, 3, 0, 3, 3, 3, 3], dtype=int64))\n    128         y = column_or_1d(y, warn=True)\n    129 \n    130         classes = np.unique(y)\n    131         if len(np.intersect1d(classes, self.classes_)) < len(classes):\n    132             diff = np.setdiff1d(classes, self.classes_)\n--> 133             raise ValueError(\"y contains new labels: %s\" % str(diff))\n        diff = array([0], dtype=int64)\n    134         return np.searchsorted(self.classes_, y)\n    135 \n    136     def inverse_transform(self, y):\n    137         \"\"\"Transform labels back to original encoding.\n\nValueError: y contains new labels: [0]\n___________________________________________________________________________",
     "output_type": "error",
     "traceback": [
      "\u001b[1;31m---------------------------------------------------------------------------\u001b[0m",
      "\u001b[1;31mRemoteTraceback\u001b[0m                           Traceback (most recent call last)",
      "\u001b[1;31mRemoteTraceback\u001b[0m: \n\"\"\"\nTraceback (most recent call last):\n  File \"c:\\users\\zrankin\\appdata\\local\\continuum\\miniconda3\\envs\\kaggle\\lib\\site-packages\\sklearn\\externals\\joblib\\_parallel_backends.py\", line 350, in __call__\n    return self.func(*args, **kwargs)\n  File \"c:\\users\\zrankin\\appdata\\local\\continuum\\miniconda3\\envs\\kaggle\\lib\\site-packages\\sklearn\\externals\\joblib\\parallel.py\", line 131, in __call__\n    return [func(*args, **kwargs) for func, args, kwargs in self.items]\n  File \"c:\\users\\zrankin\\appdata\\local\\continuum\\miniconda3\\envs\\kaggle\\lib\\site-packages\\sklearn\\externals\\joblib\\parallel.py\", line 131, in <listcomp>\n    return [func(*args, **kwargs) for func, args, kwargs in self.items]\n  File \"c:\\users\\zrankin\\appdata\\local\\continuum\\miniconda3\\envs\\kaggle\\lib\\site-packages\\sklearn\\model_selection\\_validation.py\", line 458, in _fit_and_score\n    estimator.fit(X_train, y_train, **fit_params)\n  File \"c:\\users\\zrankin\\appdata\\local\\continuum\\miniconda3\\envs\\kaggle\\lib\\site-packages\\lightgbm\\sklearn.py\", line 683, in fit\n    eval_set[i] = (valid_x, self._le.transform(valid_y))\n  File \"c:\\users\\zrankin\\appdata\\local\\continuum\\miniconda3\\envs\\kaggle\\lib\\site-packages\\sklearn\\preprocessing\\label.py\", line 133, in transform\n    raise ValueError(\"y contains new labels: %s\" % str(diff))\nValueError: y contains new labels: [0]\n\nDuring handling of the above exception, another exception occurred:\n\nTraceback (most recent call last):\n  File \"c:\\users\\zrankin\\appdata\\local\\continuum\\miniconda3\\envs\\kaggle\\lib\\multiprocessing\\pool.py\", line 119, in worker\n    result = (True, func(*args, **kwds))\n  File \"c:\\users\\zrankin\\appdata\\local\\continuum\\miniconda3\\envs\\kaggle\\lib\\site-packages\\sklearn\\externals\\joblib\\_parallel_backends.py\", line 359, in __call__\n    raise TransportableException(text, e_type)\nsklearn.externals.joblib.my_exceptions.TransportableException: TransportableException\n___________________________________________________________________________\nValueError                                         Mon Oct  1 08:14:29 2018\nPID: 12832Python 3.6.6: c:\\users\\zrankin\\appdata\\local\\continuum\\miniconda3\\envs\\kaggle\\python.exe\n...........................................................................\nc:\\users\\zrankin\\appdata\\local\\continuum\\miniconda3\\envs\\kaggle\\lib\\site-packages\\sklearn\\externals\\joblib\\parallel.py in __call__(self=<sklearn.externals.joblib.parallel.BatchedCalls object>)\n    126     def __init__(self, iterator_slice):\n    127         self.items = list(iterator_slice)\n    128         self._size = len(self.items)\n    129 \n    130     def __call__(self):\n--> 131         return [func(*args, **kwargs) for func, args, kwargs in self.items]\n        self.items = [(<function _fit_and_score>, (LGBMClassifier(boosting_type='dart', class_weigh...       subsample_for_bin=40000, subsample_freq=0), memmap([[0., 0., 1., ..., 0., 0., 0.],\n        [... 0., 1.],\n        [0., 0., 1., ..., 0., 0., 0.]]), array([4, 3, 3, ..., 4, 4, 4]), {'score': make_scorer(f1_score, average=macro)}, array([ 374,  378,  382, ..., 2226, 2227, 2228]), array([  0,   1,   2,   3,   4,   5,   6,   7,  ..., 459, 462, 464, 465,\n       466, 467, 468, 469]), 0, {'num_leaves': 32}), {'error_score': 'raise', 'fit_params': {'early_stopping_rounds': 100, 'eval_set': [(memmap([[0., 0., 1., ..., 0., 0., 0.],\n        [... 0., 0.],\n        [0., 0., 1., ..., 0., 0., 0.]]), array([1, 3, 2, 2, 1, 3, 3, 2, 3, 2, 3, 1, 3, 1,...3, 1, 3, 3, 2, 2, 3, 0, 3, 3, 3, 3], dtype=int64))], 'verbose': False}, 'return_n_test_samples': True, 'return_parameters': False, 'return_times': True, 'return_train_score': 'warn'})]\n    132 \n    133     def __len__(self):\n    134         return self._size\n    135 \n\n...........................................................................\nc:\\users\\zrankin\\appdata\\local\\continuum\\miniconda3\\envs\\kaggle\\lib\\site-packages\\sklearn\\externals\\joblib\\parallel.py in <listcomp>(.0=<list_iterator object>)\n    126     def __init__(self, iterator_slice):\n    127         self.items = list(iterator_slice)\n    128         self._size = len(self.items)\n    129 \n    130     def __call__(self):\n--> 131         return [func(*args, **kwargs) for func, args, kwargs in self.items]\n        func = <function _fit_and_score>\n        args = (LGBMClassifier(boosting_type='dart', class_weigh...       subsample_for_bin=40000, subsample_freq=0), memmap([[0., 0., 1., ..., 0., 0., 0.],\n        [... 0., 1.],\n        [0., 0., 1., ..., 0., 0., 0.]]), array([4, 3, 3, ..., 4, 4, 4]), {'score': make_scorer(f1_score, average=macro)}, array([ 374,  378,  382, ..., 2226, 2227, 2228]), array([  0,   1,   2,   3,   4,   5,   6,   7,  ..., 459, 462, 464, 465,\n       466, 467, 468, 469]), 0, {'num_leaves': 32})\n        kwargs = {'error_score': 'raise', 'fit_params': {'early_stopping_rounds': 100, 'eval_set': [(memmap([[0., 0., 1., ..., 0., 0., 0.],\n        [... 0., 0.],\n        [0., 0., 1., ..., 0., 0., 0.]]), array([1, 3, 2, 2, 1, 3, 3, 2, 3, 2, 3, 1, 3, 1,...3, 1, 3, 3, 2, 2, 3, 0, 3, 3, 3, 3], dtype=int64))], 'verbose': False}, 'return_n_test_samples': True, 'return_parameters': False, 'return_times': True, 'return_train_score': 'warn'}\n    132 \n    133     def __len__(self):\n    134         return self._size\n    135 \n\n...........................................................................\nc:\\users\\zrankin\\appdata\\local\\continuum\\miniconda3\\envs\\kaggle\\lib\\site-packages\\sklearn\\model_selection\\_validation.py in _fit_and_score(estimator=LGBMClassifier(boosting_type='dart', class_weigh...       subsample_for_bin=40000, subsample_freq=0), X=memmap([[0., 0., 1., ..., 0., 0., 0.],\n        [... 0., 1.],\n        [0., 0., 1., ..., 0., 0., 0.]]), y=array([4, 3, 3, ..., 4, 4, 4]), scorer={'score': make_scorer(f1_score, average=macro)}, train=array([ 374,  378,  382, ..., 2226, 2227, 2228]), test=array([  0,   1,   2,   3,   4,   5,   6,   7,  ..., 459, 462, 464, 465,\n       466, 467, 468, 469]), verbose=0, parameters={'num_leaves': 32}, fit_params={'early_stopping_rounds': 100, 'eval_set': [(memmap([[0., 0., 1., ..., 0., 0., 0.],\n        [... 0., 0.],\n        [0., 0., 1., ..., 0., 0., 0.]]), array([1, 3, 2, 2, 1, 3, 3, 2, 3, 2, 3, 1, 3, 1,...3, 1, 3, 3, 2, 2, 3, 0, 3, 3, 3, 3], dtype=int64))], 'verbose': False}, return_train_score='warn', return_parameters=False, return_n_test_samples=True, return_times=True, error_score='raise')\n    453 \n    454     try:\n    455         if y_train is None:\n    456             estimator.fit(X_train, **fit_params)\n    457         else:\n--> 458             estimator.fit(X_train, y_train, **fit_params)\n        estimator.fit = <bound method LGBMClassifier.fit of LGBMClassifi...      subsample_for_bin=40000, subsample_freq=0)>\n        X_train = memmap([[0., 0., 1., ..., 0., 0., 0.],\n        [... 0., 1.],\n        [0., 0., 1., ..., 0., 0., 0.]])\n        y_train = array([1, 1, 1, ..., 4, 4, 4])\n        fit_params = {'early_stopping_rounds': 100, 'eval_set': [(memmap([[0., 0., 1., ..., 0., 0., 0.],\n        [... 0., 0.],\n        [0., 0., 1., ..., 0., 0., 0.]]), array([1, 3, 2, 2, 1, 3, 3, 2, 3, 2, 3, 1, 3, 1,...3, 1, 3, 3, 2, 2, 3, 0, 3, 3, 3, 3], dtype=int64))], 'verbose': False}\n    459 \n    460     except Exception as e:\n    461         # Note fit time as time until error\n    462         fit_time = time.time() - start_time\n\n...........................................................................\nc:\\users\\zrankin\\appdata\\local\\continuum\\miniconda3\\envs\\kaggle\\lib\\site-packages\\lightgbm\\sklearn.py in fit(self=LGBMClassifier(boosting_type='dart', class_weigh...       subsample_for_bin=40000, subsample_freq=0), X=memmap([[0., 0., 1., ..., 0., 0., 0.],\n        [... 0., 1.],\n        [0., 0., 1., ..., 0., 0., 0.]]), y=array([1, 1, 1, ..., 4, 4, 4]), sample_weight=None, init_score=None, eval_set=[(memmap([[0., 0., 1., ..., 0., 0., 0.],\n        [... 0., 0.],\n        [0., 0., 1., ..., 0., 0., 0.]]), array([1, 3, 2, 2, 1, 3, 3, 2, 3, 2, 3, 1, 3, 1,...3, 1, 3, 3, 2, 2, 3, 0, 3, 3, 3, 3], dtype=int64))], eval_names=None, eval_sample_weight=None, eval_class_weight=None, eval_init_score=None, eval_metric='multi_logloss', early_stopping_rounds=100, verbose=False, feature_name='auto', categorical_feature='auto', callbacks=None)\n    678                 eval_set = [eval_set]\n    679             for i, (valid_x, valid_y) in enumerate(eval_set):\n    680                 if valid_x is X and valid_y is y:\n    681                     eval_set[i] = (valid_x, _y)\n    682                 else:\n--> 683                     eval_set[i] = (valid_x, self._le.transform(valid_y))\n        eval_set = [(memmap([[0., 0., 1., ..., 0., 0., 0.],\n        [... 0., 0.],\n        [0., 0., 1., ..., 0., 0., 0.]]), array([1, 3, 2, 2, 1, 3, 3, 2, 3, 2, 3, 1, 3, 1,...3, 1, 3, 3, 2, 2, 3, 0, 3, 3, 3, 3], dtype=int64))]\n        i = 0\n        valid_x = memmap([[0., 0., 1., ..., 0., 0., 0.],\n        [... 0., 0.],\n        [0., 0., 1., ..., 0., 0., 0.]])\n        self._le.transform = <bound method LabelEncoder.transform of LabelEncoder()>\n        valid_y = array([1, 3, 2, 2, 1, 3, 3, 2, 3, 2, 3, 1, 3, 1,...3, 1, 3, 3, 2, 2, 3, 0, 3, 3, 3, 3], dtype=int64)\n    684 \n    685         super(LGBMClassifier, self).fit(X, _y, sample_weight=sample_weight,\n    686                                         init_score=init_score, eval_set=eval_set,\n    687                                         eval_names=eval_names,\n\n...........................................................................\nc:\\users\\zrankin\\appdata\\local\\continuum\\miniconda3\\envs\\kaggle\\lib\\site-packages\\sklearn\\preprocessing\\label.py in transform(self=LabelEncoder(), y=array([1, 3, 2, 2, 1, 3, 3, 2, 3, 2, 3, 1, 3, 1,...3, 1, 3, 3, 2, 2, 3, 0, 3, 3, 3, 3], dtype=int64))\n    128         y = column_or_1d(y, warn=True)\n    129 \n    130         classes = np.unique(y)\n    131         if len(np.intersect1d(classes, self.classes_)) < len(classes):\n    132             diff = np.setdiff1d(classes, self.classes_)\n--> 133             raise ValueError(\"y contains new labels: %s\" % str(diff))\n        diff = array([0], dtype=int64)\n    134         return np.searchsorted(self.classes_, y)\n    135 \n    136     def inverse_transform(self, y):\n    137         \"\"\"Transform labels back to original encoding.\n\nValueError: y contains new labels: [0]\n___________________________________________________________________________\n\"\"\"",
      "\nThe above exception was the direct cause of the following exception:\n",
      "\u001b[1;31mTransportableException\u001b[0m                    Traceback (most recent call last)",
      "\u001b[1;32mc:\\users\\zrankin\\appdata\\local\\continuum\\miniconda3\\envs\\kaggle\\lib\\site-packages\\sklearn\\externals\\joblib\\parallel.py\u001b[0m in \u001b[0;36mretrieve\u001b[1;34m(self)\u001b[0m\n\u001b[0;32m    698\u001b[0m                 \u001b[1;32mif\u001b[0m \u001b[0mgetattr\u001b[0m\u001b[1;33m(\u001b[0m\u001b[0mself\u001b[0m\u001b[1;33m.\u001b[0m\u001b[0m_backend\u001b[0m\u001b[1;33m,\u001b[0m \u001b[1;34m'supports_timeout'\u001b[0m\u001b[1;33m,\u001b[0m \u001b[1;32mFalse\u001b[0m\u001b[1;33m)\u001b[0m\u001b[1;33m:\u001b[0m\u001b[1;33m\u001b[0m\u001b[0m\n\u001b[1;32m--> 699\u001b[1;33m                     \u001b[0mself\u001b[0m\u001b[1;33m.\u001b[0m\u001b[0m_output\u001b[0m\u001b[1;33m.\u001b[0m\u001b[0mextend\u001b[0m\u001b[1;33m(\u001b[0m\u001b[0mjob\u001b[0m\u001b[1;33m.\u001b[0m\u001b[0mget\u001b[0m\u001b[1;33m(\u001b[0m\u001b[0mtimeout\u001b[0m\u001b[1;33m=\u001b[0m\u001b[0mself\u001b[0m\u001b[1;33m.\u001b[0m\u001b[0mtimeout\u001b[0m\u001b[1;33m)\u001b[0m\u001b[1;33m)\u001b[0m\u001b[1;33m\u001b[0m\u001b[0m\n\u001b[0m\u001b[0;32m    700\u001b[0m                 \u001b[1;32melse\u001b[0m\u001b[1;33m:\u001b[0m\u001b[1;33m\u001b[0m\u001b[0m\n",
      "\u001b[1;32mc:\\users\\zrankin\\appdata\\local\\continuum\\miniconda3\\envs\\kaggle\\lib\\multiprocessing\\pool.py\u001b[0m in \u001b[0;36mget\u001b[1;34m(self, timeout)\u001b[0m\n\u001b[0;32m    643\u001b[0m         \u001b[1;32melse\u001b[0m\u001b[1;33m:\u001b[0m\u001b[1;33m\u001b[0m\u001b[0m\n\u001b[1;32m--> 644\u001b[1;33m             \u001b[1;32mraise\u001b[0m \u001b[0mself\u001b[0m\u001b[1;33m.\u001b[0m\u001b[0m_value\u001b[0m\u001b[1;33m\u001b[0m\u001b[0m\n\u001b[0m\u001b[0;32m    645\u001b[0m \u001b[1;33m\u001b[0m\u001b[0m\n",
      "\u001b[1;31mTransportableException\u001b[0m: TransportableException\n___________________________________________________________________________\nValueError                                         Mon Oct  1 08:14:29 2018\nPID: 12832Python 3.6.6: c:\\users\\zrankin\\appdata\\local\\continuum\\miniconda3\\envs\\kaggle\\python.exe\n...........................................................................\nc:\\users\\zrankin\\appdata\\local\\continuum\\miniconda3\\envs\\kaggle\\lib\\site-packages\\sklearn\\externals\\joblib\\parallel.py in __call__(self=<sklearn.externals.joblib.parallel.BatchedCalls object>)\n    126     def __init__(self, iterator_slice):\n    127         self.items = list(iterator_slice)\n    128         self._size = len(self.items)\n    129 \n    130     def __call__(self):\n--> 131         return [func(*args, **kwargs) for func, args, kwargs in self.items]\n        self.items = [(<function _fit_and_score>, (LGBMClassifier(boosting_type='dart', class_weigh...       subsample_for_bin=40000, subsample_freq=0), memmap([[0., 0., 1., ..., 0., 0., 0.],\n        [... 0., 1.],\n        [0., 0., 1., ..., 0., 0., 0.]]), array([4, 3, 3, ..., 4, 4, 4]), {'score': make_scorer(f1_score, average=macro)}, array([ 374,  378,  382, ..., 2226, 2227, 2228]), array([  0,   1,   2,   3,   4,   5,   6,   7,  ..., 459, 462, 464, 465,\n       466, 467, 468, 469]), 0, {'num_leaves': 32}), {'error_score': 'raise', 'fit_params': {'early_stopping_rounds': 100, 'eval_set': [(memmap([[0., 0., 1., ..., 0., 0., 0.],\n        [... 0., 0.],\n        [0., 0., 1., ..., 0., 0., 0.]]), array([1, 3, 2, 2, 1, 3, 3, 2, 3, 2, 3, 1, 3, 1,...3, 1, 3, 3, 2, 2, 3, 0, 3, 3, 3, 3], dtype=int64))], 'verbose': False}, 'return_n_test_samples': True, 'return_parameters': False, 'return_times': True, 'return_train_score': 'warn'})]\n    132 \n    133     def __len__(self):\n    134         return self._size\n    135 \n\n...........................................................................\nc:\\users\\zrankin\\appdata\\local\\continuum\\miniconda3\\envs\\kaggle\\lib\\site-packages\\sklearn\\externals\\joblib\\parallel.py in <listcomp>(.0=<list_iterator object>)\n    126     def __init__(self, iterator_slice):\n    127         self.items = list(iterator_slice)\n    128         self._size = len(self.items)\n    129 \n    130     def __call__(self):\n--> 131         return [func(*args, **kwargs) for func, args, kwargs in self.items]\n        func = <function _fit_and_score>\n        args = (LGBMClassifier(boosting_type='dart', class_weigh...       subsample_for_bin=40000, subsample_freq=0), memmap([[0., 0., 1., ..., 0., 0., 0.],\n        [... 0., 1.],\n        [0., 0., 1., ..., 0., 0., 0.]]), array([4, 3, 3, ..., 4, 4, 4]), {'score': make_scorer(f1_score, average=macro)}, array([ 374,  378,  382, ..., 2226, 2227, 2228]), array([  0,   1,   2,   3,   4,   5,   6,   7,  ..., 459, 462, 464, 465,\n       466, 467, 468, 469]), 0, {'num_leaves': 32})\n        kwargs = {'error_score': 'raise', 'fit_params': {'early_stopping_rounds': 100, 'eval_set': [(memmap([[0., 0., 1., ..., 0., 0., 0.],\n        [... 0., 0.],\n        [0., 0., 1., ..., 0., 0., 0.]]), array([1, 3, 2, 2, 1, 3, 3, 2, 3, 2, 3, 1, 3, 1,...3, 1, 3, 3, 2, 2, 3, 0, 3, 3, 3, 3], dtype=int64))], 'verbose': False}, 'return_n_test_samples': True, 'return_parameters': False, 'return_times': True, 'return_train_score': 'warn'}\n    132 \n    133     def __len__(self):\n    134         return self._size\n    135 \n\n...........................................................................\nc:\\users\\zrankin\\appdata\\local\\continuum\\miniconda3\\envs\\kaggle\\lib\\site-packages\\sklearn\\model_selection\\_validation.py in _fit_and_score(estimator=LGBMClassifier(boosting_type='dart', class_weigh...       subsample_for_bin=40000, subsample_freq=0), X=memmap([[0., 0., 1., ..., 0., 0., 0.],\n        [... 0., 1.],\n        [0., 0., 1., ..., 0., 0., 0.]]), y=array([4, 3, 3, ..., 4, 4, 4]), scorer={'score': make_scorer(f1_score, average=macro)}, train=array([ 374,  378,  382, ..., 2226, 2227, 2228]), test=array([  0,   1,   2,   3,   4,   5,   6,   7,  ..., 459, 462, 464, 465,\n       466, 467, 468, 469]), verbose=0, parameters={'num_leaves': 32}, fit_params={'early_stopping_rounds': 100, 'eval_set': [(memmap([[0., 0., 1., ..., 0., 0., 0.],\n        [... 0., 0.],\n        [0., 0., 1., ..., 0., 0., 0.]]), array([1, 3, 2, 2, 1, 3, 3, 2, 3, 2, 3, 1, 3, 1,...3, 1, 3, 3, 2, 2, 3, 0, 3, 3, 3, 3], dtype=int64))], 'verbose': False}, return_train_score='warn', return_parameters=False, return_n_test_samples=True, return_times=True, error_score='raise')\n    453 \n    454     try:\n    455         if y_train is None:\n    456             estimator.fit(X_train, **fit_params)\n    457         else:\n--> 458             estimator.fit(X_train, y_train, **fit_params)\n        estimator.fit = <bound method LGBMClassifier.fit of LGBMClassifi...      subsample_for_bin=40000, subsample_freq=0)>\n        X_train = memmap([[0., 0., 1., ..., 0., 0., 0.],\n        [... 0., 1.],\n        [0., 0., 1., ..., 0., 0., 0.]])\n        y_train = array([1, 1, 1, ..., 4, 4, 4])\n        fit_params = {'early_stopping_rounds': 100, 'eval_set': [(memmap([[0., 0., 1., ..., 0., 0., 0.],\n        [... 0., 0.],\n        [0., 0., 1., ..., 0., 0., 0.]]), array([1, 3, 2, 2, 1, 3, 3, 2, 3, 2, 3, 1, 3, 1,...3, 1, 3, 3, 2, 2, 3, 0, 3, 3, 3, 3], dtype=int64))], 'verbose': False}\n    459 \n    460     except Exception as e:\n    461         # Note fit time as time until error\n    462         fit_time = time.time() - start_time\n\n...........................................................................\nc:\\users\\zrankin\\appdata\\local\\continuum\\miniconda3\\envs\\kaggle\\lib\\site-packages\\lightgbm\\sklearn.py in fit(self=LGBMClassifier(boosting_type='dart', class_weigh...       subsample_for_bin=40000, subsample_freq=0), X=memmap([[0., 0., 1., ..., 0., 0., 0.],\n        [... 0., 1.],\n        [0., 0., 1., ..., 0., 0., 0.]]), y=array([1, 1, 1, ..., 4, 4, 4]), sample_weight=None, init_score=None, eval_set=[(memmap([[0., 0., 1., ..., 0., 0., 0.],\n        [... 0., 0.],\n        [0., 0., 1., ..., 0., 0., 0.]]), array([1, 3, 2, 2, 1, 3, 3, 2, 3, 2, 3, 1, 3, 1,...3, 1, 3, 3, 2, 2, 3, 0, 3, 3, 3, 3], dtype=int64))], eval_names=None, eval_sample_weight=None, eval_class_weight=None, eval_init_score=None, eval_metric='multi_logloss', early_stopping_rounds=100, verbose=False, feature_name='auto', categorical_feature='auto', callbacks=None)\n    678                 eval_set = [eval_set]\n    679             for i, (valid_x, valid_y) in enumerate(eval_set):\n    680                 if valid_x is X and valid_y is y:\n    681                     eval_set[i] = (valid_x, _y)\n    682                 else:\n--> 683                     eval_set[i] = (valid_x, self._le.transform(valid_y))\n        eval_set = [(memmap([[0., 0., 1., ..., 0., 0., 0.],\n        [... 0., 0.],\n        [0., 0., 1., ..., 0., 0., 0.]]), array([1, 3, 2, 2, 1, 3, 3, 2, 3, 2, 3, 1, 3, 1,...3, 1, 3, 3, 2, 2, 3, 0, 3, 3, 3, 3], dtype=int64))]\n        i = 0\n        valid_x = memmap([[0., 0., 1., ..., 0., 0., 0.],\n        [... 0., 0.],\n        [0., 0., 1., ..., 0., 0., 0.]])\n        self._le.transform = <bound method LabelEncoder.transform of LabelEncoder()>\n        valid_y = array([1, 3, 2, 2, 1, 3, 3, 2, 3, 2, 3, 1, 3, 1,...3, 1, 3, 3, 2, 2, 3, 0, 3, 3, 3, 3], dtype=int64)\n    684 \n    685         super(LGBMClassifier, self).fit(X, _y, sample_weight=sample_weight,\n    686                                         init_score=init_score, eval_set=eval_set,\n    687                                         eval_names=eval_names,\n\n...........................................................................\nc:\\users\\zrankin\\appdata\\local\\continuum\\miniconda3\\envs\\kaggle\\lib\\site-packages\\sklearn\\preprocessing\\label.py in transform(self=LabelEncoder(), y=array([1, 3, 2, 2, 1, 3, 3, 2, 3, 2, 3, 1, 3, 1,...3, 1, 3, 3, 2, 2, 3, 0, 3, 3, 3, 3], dtype=int64))\n    128         y = column_or_1d(y, warn=True)\n    129 \n    130         classes = np.unique(y)\n    131         if len(np.intersect1d(classes, self.classes_)) < len(classes):\n    132             diff = np.setdiff1d(classes, self.classes_)\n--> 133             raise ValueError(\"y contains new labels: %s\" % str(diff))\n        diff = array([0], dtype=int64)\n    134         return np.searchsorted(self.classes_, y)\n    135 \n    136     def inverse_transform(self, y):\n    137         \"\"\"Transform labels back to original encoding.\n\nValueError: y contains new labels: [0]\n___________________________________________________________________________",
      "\nDuring handling of the above exception, another exception occurred:\n",
      "\u001b[1;31mJoblibValueError\u001b[0m                          Traceback (most recent call last)",
      "\u001b[1;32m<timed exec>\u001b[0m in \u001b[0;36m<module>\u001b[1;34m()\u001b[0m\n",
      "\u001b[1;32mc:\\users\\zrankin\\appdata\\local\\continuum\\miniconda3\\envs\\kaggle\\lib\\site-packages\\sklearn\\model_selection\\_search.py\u001b[0m in \u001b[0;36mfit\u001b[1;34m(self, X, y, groups, **fit_params)\u001b[0m\n\u001b[0;32m    638\u001b[0m                                   error_score=self.error_score)\n\u001b[0;32m    639\u001b[0m           for parameters, (train, test) in product(candidate_params,\n\u001b[1;32m--> 640\u001b[1;33m                                                    cv.split(X, y, groups)))\n\u001b[0m\u001b[0;32m    641\u001b[0m \u001b[1;33m\u001b[0m\u001b[0m\n\u001b[0;32m    642\u001b[0m         \u001b[1;31m# if one choose to see train score, \"out\" will contain train score info\u001b[0m\u001b[1;33m\u001b[0m\u001b[1;33m\u001b[0m\u001b[0m\n",
      "\u001b[1;32mc:\\users\\zrankin\\appdata\\local\\continuum\\miniconda3\\envs\\kaggle\\lib\\site-packages\\sklearn\\externals\\joblib\\parallel.py\u001b[0m in \u001b[0;36m__call__\u001b[1;34m(self, iterable)\u001b[0m\n\u001b[0;32m    787\u001b[0m                 \u001b[1;31m# consumption.\u001b[0m\u001b[1;33m\u001b[0m\u001b[1;33m\u001b[0m\u001b[0m\n\u001b[0;32m    788\u001b[0m                 \u001b[0mself\u001b[0m\u001b[1;33m.\u001b[0m\u001b[0m_iterating\u001b[0m \u001b[1;33m=\u001b[0m \u001b[1;32mFalse\u001b[0m\u001b[1;33m\u001b[0m\u001b[0m\n\u001b[1;32m--> 789\u001b[1;33m             \u001b[0mself\u001b[0m\u001b[1;33m.\u001b[0m\u001b[0mretrieve\u001b[0m\u001b[1;33m(\u001b[0m\u001b[1;33m)\u001b[0m\u001b[1;33m\u001b[0m\u001b[0m\n\u001b[0m\u001b[0;32m    790\u001b[0m             \u001b[1;31m# Make sure that we get a last message telling us we are done\u001b[0m\u001b[1;33m\u001b[0m\u001b[1;33m\u001b[0m\u001b[0m\n\u001b[0;32m    791\u001b[0m             \u001b[0melapsed_time\u001b[0m \u001b[1;33m=\u001b[0m \u001b[0mtime\u001b[0m\u001b[1;33m.\u001b[0m\u001b[0mtime\u001b[0m\u001b[1;33m(\u001b[0m\u001b[1;33m)\u001b[0m \u001b[1;33m-\u001b[0m \u001b[0mself\u001b[0m\u001b[1;33m.\u001b[0m\u001b[0m_start_time\u001b[0m\u001b[1;33m\u001b[0m\u001b[0m\n",
      "\u001b[1;32mc:\\users\\zrankin\\appdata\\local\\continuum\\miniconda3\\envs\\kaggle\\lib\\site-packages\\sklearn\\externals\\joblib\\parallel.py\u001b[0m in \u001b[0;36mretrieve\u001b[1;34m(self)\u001b[0m\n\u001b[0;32m    738\u001b[0m                     \u001b[0mexception\u001b[0m \u001b[1;33m=\u001b[0m \u001b[0mexception_type\u001b[0m\u001b[1;33m(\u001b[0m\u001b[0mreport\u001b[0m\u001b[1;33m)\u001b[0m\u001b[1;33m\u001b[0m\u001b[0m\n\u001b[0;32m    739\u001b[0m \u001b[1;33m\u001b[0m\u001b[0m\n\u001b[1;32m--> 740\u001b[1;33m                     \u001b[1;32mraise\u001b[0m \u001b[0mexception\u001b[0m\u001b[1;33m\u001b[0m\u001b[0m\n\u001b[0m\u001b[0;32m    741\u001b[0m \u001b[1;33m\u001b[0m\u001b[0m\n\u001b[0;32m    742\u001b[0m     \u001b[1;32mdef\u001b[0m \u001b[0m__call__\u001b[0m\u001b[1;33m(\u001b[0m\u001b[0mself\u001b[0m\u001b[1;33m,\u001b[0m \u001b[0miterable\u001b[0m\u001b[1;33m)\u001b[0m\u001b[1;33m:\u001b[0m\u001b[1;33m\u001b[0m\u001b[0m\n",
      "\u001b[1;31mJoblibValueError\u001b[0m: JoblibValueError\n___________________________________________________________________________\nMultiprocessing exception:\n...........................................................................\nc:\\users\\zrankin\\appdata\\local\\continuum\\miniconda3\\envs\\kaggle\\lib\\runpy.py in _run_module_as_main(mod_name='ipykernel_launcher', alter_argv=1)\n    188         sys.exit(msg)\n    189     main_globals = sys.modules[\"__main__\"].__dict__\n    190     if alter_argv:\n    191         sys.argv[0] = mod_spec.origin\n    192     return _run_code(code, main_globals, None,\n--> 193                      \"__main__\", mod_spec)\n        mod_spec = ModuleSpec(name='ipykernel_launcher', loader=<_f...ggle\\\\lib\\\\site-packages\\\\ipykernel_launcher.py')\n    194 \n    195 def run_module(mod_name, init_globals=None,\n    196                run_name=None, alter_sys=False):\n    197     \"\"\"Execute a module's code without importing it\n\n...........................................................................\nc:\\users\\zrankin\\appdata\\local\\continuum\\miniconda3\\envs\\kaggle\\lib\\runpy.py in _run_code(code=<code object <module> at 0x00000179129BCC00, fil...lib\\site-packages\\ipykernel_launcher.py\", line 5>, run_globals={'__annotations__': {}, '__builtins__': <module 'builtins' (built-in)>, '__cached__': r'c:\\users\\zrankin\\appdata\\local\\continuum\\minicon...ges\\__pycache__\\ipykernel_launcher.cpython-36.pyc', '__doc__': 'Entry point for launching an IPython kernel.\\n\\nTh...orts until\\nafter removing the cwd from sys.path.\\n', '__file__': r'c:\\users\\zrankin\\appdata\\local\\continuum\\minicon...vs\\kaggle\\lib\\site-packages\\ipykernel_launcher.py', '__loader__': <_frozen_importlib_external.SourceFileLoader object>, '__name__': '__main__', '__package__': '', '__spec__': ModuleSpec(name='ipykernel_launcher', loader=<_f...ggle\\\\lib\\\\site-packages\\\\ipykernel_launcher.py'), 'app': <module 'ipykernel.kernelapp' from 'c:\\\\users\\\\z...le\\\\lib\\\\site-packages\\\\ipykernel\\\\kernelapp.py'>, ...}, init_globals=None, mod_name='__main__', mod_spec=ModuleSpec(name='ipykernel_launcher', loader=<_f...ggle\\\\lib\\\\site-packages\\\\ipykernel_launcher.py'), pkg_name='', script_name=None)\n     80                        __cached__ = cached,\n     81                        __doc__ = None,\n     82                        __loader__ = loader,\n     83                        __package__ = pkg_name,\n     84                        __spec__ = mod_spec)\n---> 85     exec(code, run_globals)\n        code = <code object <module> at 0x00000179129BCC00, fil...lib\\site-packages\\ipykernel_launcher.py\", line 5>\n        run_globals = {'__annotations__': {}, '__builtins__': <module 'builtins' (built-in)>, '__cached__': r'c:\\users\\zrankin\\appdata\\local\\continuum\\minicon...ges\\__pycache__\\ipykernel_launcher.cpython-36.pyc', '__doc__': 'Entry point for launching an IPython kernel.\\n\\nTh...orts until\\nafter removing the cwd from sys.path.\\n', '__file__': r'c:\\users\\zrankin\\appdata\\local\\continuum\\minicon...vs\\kaggle\\lib\\site-packages\\ipykernel_launcher.py', '__loader__': <_frozen_importlib_external.SourceFileLoader object>, '__name__': '__main__', '__package__': '', '__spec__': ModuleSpec(name='ipykernel_launcher', loader=<_f...ggle\\\\lib\\\\site-packages\\\\ipykernel_launcher.py'), 'app': <module 'ipykernel.kernelapp' from 'c:\\\\users\\\\z...le\\\\lib\\\\site-packages\\\\ipykernel\\\\kernelapp.py'>, ...}\n     86     return run_globals\n     87 \n     88 def _run_module_code(code, init_globals=None,\n     89                     mod_name=None, mod_spec=None,\n\n...........................................................................\nc:\\users\\zrankin\\appdata\\local\\continuum\\miniconda3\\envs\\kaggle\\lib\\site-packages\\ipykernel_launcher.py in <module>()\n     11     # This is added back by InteractiveShellApp.init_path()\n     12     if sys.path[0] == '':\n     13         del sys.path[0]\n     14 \n     15     from ipykernel import kernelapp as app\n---> 16     app.launch_new_instance()\n\n...........................................................................\nc:\\users\\zrankin\\appdata\\local\\continuum\\miniconda3\\envs\\kaggle\\lib\\site-packages\\traitlets\\config\\application.py in launch_instance(cls=<class 'ipykernel.kernelapp.IPKernelApp'>, argv=None, **kwargs={})\n    653 \n    654         If a global instance already exists, this reinitializes and starts it\n    655         \"\"\"\n    656         app = cls.instance(**kwargs)\n    657         app.initialize(argv)\n--> 658         app.start()\n        app.start = <bound method IPKernelApp.start of <ipykernel.kernelapp.IPKernelApp object>>\n    659 \n    660 #-----------------------------------------------------------------------------\n    661 # utility functions, for convenience\n    662 #-----------------------------------------------------------------------------\n\n...........................................................................\nc:\\users\\zrankin\\appdata\\local\\continuum\\miniconda3\\envs\\kaggle\\lib\\site-packages\\ipykernel\\kernelapp.py in start(self=<ipykernel.kernelapp.IPKernelApp object>)\n    492         if self.poller is not None:\n    493             self.poller.start()\n    494         self.kernel.start()\n    495         self.io_loop = ioloop.IOLoop.current()\n    496         try:\n--> 497             self.io_loop.start()\n        self.io_loop.start = <bound method BaseAsyncIOLoop.start of <tornado.platform.asyncio.AsyncIOMainLoop object>>\n    498         except KeyboardInterrupt:\n    499             pass\n    500 \n    501 launch_new_instance = IPKernelApp.launch_instance\n\n...........................................................................\nc:\\users\\zrankin\\appdata\\local\\continuum\\miniconda3\\envs\\kaggle\\lib\\site-packages\\tornado\\platform\\asyncio.py in start(self=<tornado.platform.asyncio.AsyncIOMainLoop object>)\n    127         except (RuntimeError, AssertionError):\n    128             old_loop = None\n    129         try:\n    130             self._setup_logging()\n    131             asyncio.set_event_loop(self.asyncio_loop)\n--> 132             self.asyncio_loop.run_forever()\n        self.asyncio_loop.run_forever = <bound method BaseEventLoop.run_forever of <_Win...EventLoop running=True closed=False debug=False>>\n    133         finally:\n    134             asyncio.set_event_loop(old_loop)\n    135 \n    136     def stop(self):\n\n...........................................................................\nc:\\users\\zrankin\\appdata\\local\\continuum\\miniconda3\\envs\\kaggle\\lib\\asyncio\\base_events.py in run_forever(self=<_WindowsSelectorEventLoop running=True closed=False debug=False>)\n    417             sys.set_asyncgen_hooks(firstiter=self._asyncgen_firstiter_hook,\n    418                                    finalizer=self._asyncgen_finalizer_hook)\n    419         try:\n    420             events._set_running_loop(self)\n    421             while True:\n--> 422                 self._run_once()\n        self._run_once = <bound method BaseEventLoop._run_once of <_Windo...EventLoop running=True closed=False debug=False>>\n    423                 if self._stopping:\n    424                     break\n    425         finally:\n    426             self._stopping = False\n\n...........................................................................\nc:\\users\\zrankin\\appdata\\local\\continuum\\miniconda3\\envs\\kaggle\\lib\\asyncio\\base_events.py in _run_once(self=<_WindowsSelectorEventLoop running=True closed=False debug=False>)\n   1429                         logger.warning('Executing %s took %.3f seconds',\n   1430                                        _format_handle(handle), dt)\n   1431                 finally:\n   1432                     self._current_handle = None\n   1433             else:\n-> 1434                 handle._run()\n        handle._run = <bound method Handle._run of <Handle BaseAsyncIOLoop._handle_events(836, 1)>>\n   1435         handle = None  # Needed to break cycles when an exception occurs.\n   1436 \n   1437     def _set_coroutine_wrapper(self, enabled):\n   1438         try:\n\n...........................................................................\nc:\\users\\zrankin\\appdata\\local\\continuum\\miniconda3\\envs\\kaggle\\lib\\asyncio\\events.py in _run(self=<Handle BaseAsyncIOLoop._handle_events(836, 1)>)\n    140             self._callback = None\n    141             self._args = None\n    142 \n    143     def _run(self):\n    144         try:\n--> 145             self._callback(*self._args)\n        self._callback = <bound method BaseAsyncIOLoop._handle_events of <tornado.platform.asyncio.AsyncIOMainLoop object>>\n        self._args = (836, 1)\n    146         except Exception as exc:\n    147             cb = _format_callback_source(self._callback, self._args)\n    148             msg = 'Exception in callback {}'.format(cb)\n    149             context = {\n\n...........................................................................\nc:\\users\\zrankin\\appdata\\local\\continuum\\miniconda3\\envs\\kaggle\\lib\\site-packages\\tornado\\platform\\asyncio.py in _handle_events(self=<tornado.platform.asyncio.AsyncIOMainLoop object>, fd=836, events=1)\n    117             self.writers.remove(fd)\n    118         del self.handlers[fd]\n    119 \n    120     def _handle_events(self, fd, events):\n    121         fileobj, handler_func = self.handlers[fd]\n--> 122         handler_func(fileobj, events)\n        handler_func = <function wrap.<locals>.null_wrapper>\n        fileobj = <zmq.sugar.socket.Socket object>\n        events = 1\n    123 \n    124     def start(self):\n    125         try:\n    126             old_loop = asyncio.get_event_loop()\n\n...........................................................................\nc:\\users\\zrankin\\appdata\\local\\continuum\\miniconda3\\envs\\kaggle\\lib\\site-packages\\tornado\\stack_context.py in null_wrapper(*args=(<zmq.sugar.socket.Socket object>, 1), **kwargs={})\n    295         # Fast path when there are no active contexts.\n    296         def null_wrapper(*args, **kwargs):\n    297             try:\n    298                 current_state = _state.contexts\n    299                 _state.contexts = cap_contexts[0]\n--> 300                 return fn(*args, **kwargs)\n        args = (<zmq.sugar.socket.Socket object>, 1)\n        kwargs = {}\n    301             finally:\n    302                 _state.contexts = current_state\n    303         null_wrapper._wrapped = True\n    304         return null_wrapper\n\n...........................................................................\nc:\\users\\zrankin\\appdata\\local\\continuum\\miniconda3\\envs\\kaggle\\lib\\site-packages\\zmq\\eventloop\\zmqstream.py in _handle_events(self=<zmq.eventloop.zmqstream.ZMQStream object>, fd=<zmq.sugar.socket.Socket object>, events=1)\n    445             return\n    446         zmq_events = self.socket.EVENTS\n    447         try:\n    448             # dispatch events:\n    449             if zmq_events & zmq.POLLIN and self.receiving():\n--> 450                 self._handle_recv()\n        self._handle_recv = <bound method ZMQStream._handle_recv of <zmq.eventloop.zmqstream.ZMQStream object>>\n    451                 if not self.socket:\n    452                     return\n    453             if zmq_events & zmq.POLLOUT and self.sending():\n    454                 self._handle_send()\n\n...........................................................................\nc:\\users\\zrankin\\appdata\\local\\continuum\\miniconda3\\envs\\kaggle\\lib\\site-packages\\zmq\\eventloop\\zmqstream.py in _handle_recv(self=<zmq.eventloop.zmqstream.ZMQStream object>)\n    475             else:\n    476                 raise\n    477         else:\n    478             if self._recv_callback:\n    479                 callback = self._recv_callback\n--> 480                 self._run_callback(callback, msg)\n        self._run_callback = <bound method ZMQStream._run_callback of <zmq.eventloop.zmqstream.ZMQStream object>>\n        callback = <function wrap.<locals>.null_wrapper>\n        msg = [<zmq.sugar.frame.Frame object>, <zmq.sugar.frame.Frame object>, <zmq.sugar.frame.Frame object>, <zmq.sugar.frame.Frame object>, <zmq.sugar.frame.Frame object>, <zmq.sugar.frame.Frame object>, <zmq.sugar.frame.Frame object>]\n    481         \n    482 \n    483     def _handle_send(self):\n    484         \"\"\"Handle a send event.\"\"\"\n\n...........................................................................\nc:\\users\\zrankin\\appdata\\local\\continuum\\miniconda3\\envs\\kaggle\\lib\\site-packages\\zmq\\eventloop\\zmqstream.py in _run_callback(self=<zmq.eventloop.zmqstream.ZMQStream object>, callback=<function wrap.<locals>.null_wrapper>, *args=([<zmq.sugar.frame.Frame object>, <zmq.sugar.frame.Frame object>, <zmq.sugar.frame.Frame object>, <zmq.sugar.frame.Frame object>, <zmq.sugar.frame.Frame object>, <zmq.sugar.frame.Frame object>, <zmq.sugar.frame.Frame object>],), **kwargs={})\n    427         close our socket.\"\"\"\n    428         try:\n    429             # Use a NullContext to ensure that all StackContexts are run\n    430             # inside our blanket exception handler rather than outside.\n    431             with stack_context.NullContext():\n--> 432                 callback(*args, **kwargs)\n        callback = <function wrap.<locals>.null_wrapper>\n        args = ([<zmq.sugar.frame.Frame object>, <zmq.sugar.frame.Frame object>, <zmq.sugar.frame.Frame object>, <zmq.sugar.frame.Frame object>, <zmq.sugar.frame.Frame object>, <zmq.sugar.frame.Frame object>, <zmq.sugar.frame.Frame object>],)\n        kwargs = {}\n    433         except:\n    434             gen_log.error(\"Uncaught exception in ZMQStream callback\",\n    435                           exc_info=True)\n    436             # Re-raise the exception so that IOLoop.handle_callback_exception\n\n...........................................................................\nc:\\users\\zrankin\\appdata\\local\\continuum\\miniconda3\\envs\\kaggle\\lib\\site-packages\\tornado\\stack_context.py in null_wrapper(*args=([<zmq.sugar.frame.Frame object>, <zmq.sugar.frame.Frame object>, <zmq.sugar.frame.Frame object>, <zmq.sugar.frame.Frame object>, <zmq.sugar.frame.Frame object>, <zmq.sugar.frame.Frame object>, <zmq.sugar.frame.Frame object>],), **kwargs={})\n    295         # Fast path when there are no active contexts.\n    296         def null_wrapper(*args, **kwargs):\n    297             try:\n    298                 current_state = _state.contexts\n    299                 _state.contexts = cap_contexts[0]\n--> 300                 return fn(*args, **kwargs)\n        args = ([<zmq.sugar.frame.Frame object>, <zmq.sugar.frame.Frame object>, <zmq.sugar.frame.Frame object>, <zmq.sugar.frame.Frame object>, <zmq.sugar.frame.Frame object>, <zmq.sugar.frame.Frame object>, <zmq.sugar.frame.Frame object>],)\n        kwargs = {}\n    301             finally:\n    302                 _state.contexts = current_state\n    303         null_wrapper._wrapped = True\n    304         return null_wrapper\n\n...........................................................................\nc:\\users\\zrankin\\appdata\\local\\continuum\\miniconda3\\envs\\kaggle\\lib\\site-packages\\ipykernel\\kernelbase.py in dispatcher(msg=[<zmq.sugar.frame.Frame object>, <zmq.sugar.frame.Frame object>, <zmq.sugar.frame.Frame object>, <zmq.sugar.frame.Frame object>, <zmq.sugar.frame.Frame object>, <zmq.sugar.frame.Frame object>, <zmq.sugar.frame.Frame object>])\n    278         if self.control_stream:\n    279             self.control_stream.on_recv(self.dispatch_control, copy=False)\n    280 \n    281         def make_dispatcher(stream):\n    282             def dispatcher(msg):\n--> 283                 return self.dispatch_shell(stream, msg)\n        msg = [<zmq.sugar.frame.Frame object>, <zmq.sugar.frame.Frame object>, <zmq.sugar.frame.Frame object>, <zmq.sugar.frame.Frame object>, <zmq.sugar.frame.Frame object>, <zmq.sugar.frame.Frame object>, <zmq.sugar.frame.Frame object>]\n    284             return dispatcher\n    285 \n    286         for s in self.shell_streams:\n    287             s.on_recv(make_dispatcher(s), copy=False)\n\n...........................................................................\nc:\\users\\zrankin\\appdata\\local\\continuum\\miniconda3\\envs\\kaggle\\lib\\site-packages\\ipykernel\\kernelbase.py in dispatch_shell(self=<ipykernel.ipkernel.IPythonKernel object>, stream=<zmq.eventloop.zmqstream.ZMQStream object>, msg={'buffers': [], 'content': {'allow_stdin': True, 'code': '%%time\\nparam_grid = dict(num_leaves=[32,36,40])\\n...f1_scorer, n_jobs=-1)\\ngrid.fit(train_X, train_y)\\n', 'silent': False, 'stop_on_error': True, 'store_history': True, 'user_expressions': {}}, 'header': {'date': datetime.datetime(2018, 10, 1, 13, 14, 27, 573857, tzinfo=tzutc()), 'msg_id': 'd9fd04005580454482dd4ca154eb03a0', 'msg_type': 'execute_request', 'session': 'eb2930d46f4343ae830dd7998ec63da8', 'username': 'username', 'version': '5.2'}, 'metadata': {}, 'msg_id': 'd9fd04005580454482dd4ca154eb03a0', 'msg_type': 'execute_request', 'parent_header': {}})\n    228             self.log.warning(\"Unknown message type: %r\", msg_type)\n    229         else:\n    230             self.log.debug(\"%s: %s\", msg_type, msg)\n    231             self.pre_handler_hook()\n    232             try:\n--> 233                 handler(stream, idents, msg)\n        handler = <bound method Kernel.execute_request of <ipykernel.ipkernel.IPythonKernel object>>\n        stream = <zmq.eventloop.zmqstream.ZMQStream object>\n        idents = [b'eb2930d46f4343ae830dd7998ec63da8']\n        msg = {'buffers': [], 'content': {'allow_stdin': True, 'code': '%%time\\nparam_grid = dict(num_leaves=[32,36,40])\\n...f1_scorer, n_jobs=-1)\\ngrid.fit(train_X, train_y)\\n', 'silent': False, 'stop_on_error': True, 'store_history': True, 'user_expressions': {}}, 'header': {'date': datetime.datetime(2018, 10, 1, 13, 14, 27, 573857, tzinfo=tzutc()), 'msg_id': 'd9fd04005580454482dd4ca154eb03a0', 'msg_type': 'execute_request', 'session': 'eb2930d46f4343ae830dd7998ec63da8', 'username': 'username', 'version': '5.2'}, 'metadata': {}, 'msg_id': 'd9fd04005580454482dd4ca154eb03a0', 'msg_type': 'execute_request', 'parent_header': {}}\n    234             except Exception:\n    235                 self.log.error(\"Exception in message handler:\", exc_info=True)\n    236             finally:\n    237                 self.post_handler_hook()\n\n...........................................................................\nc:\\users\\zrankin\\appdata\\local\\continuum\\miniconda3\\envs\\kaggle\\lib\\site-packages\\ipykernel\\kernelbase.py in execute_request(self=<ipykernel.ipkernel.IPythonKernel object>, stream=<zmq.eventloop.zmqstream.ZMQStream object>, ident=[b'eb2930d46f4343ae830dd7998ec63da8'], parent={'buffers': [], 'content': {'allow_stdin': True, 'code': '%%time\\nparam_grid = dict(num_leaves=[32,36,40])\\n...f1_scorer, n_jobs=-1)\\ngrid.fit(train_X, train_y)\\n', 'silent': False, 'stop_on_error': True, 'store_history': True, 'user_expressions': {}}, 'header': {'date': datetime.datetime(2018, 10, 1, 13, 14, 27, 573857, tzinfo=tzutc()), 'msg_id': 'd9fd04005580454482dd4ca154eb03a0', 'msg_type': 'execute_request', 'session': 'eb2930d46f4343ae830dd7998ec63da8', 'username': 'username', 'version': '5.2'}, 'metadata': {}, 'msg_id': 'd9fd04005580454482dd4ca154eb03a0', 'msg_type': 'execute_request', 'parent_header': {}})\n    394         if not silent:\n    395             self.execution_count += 1\n    396             self._publish_execute_input(code, parent, self.execution_count)\n    397 \n    398         reply_content = self.do_execute(code, silent, store_history,\n--> 399                                         user_expressions, allow_stdin)\n        user_expressions = {}\n        allow_stdin = True\n    400 \n    401         # Flush output before sending the reply.\n    402         sys.stdout.flush()\n    403         sys.stderr.flush()\n\n...........................................................................\nc:\\users\\zrankin\\appdata\\local\\continuum\\miniconda3\\envs\\kaggle\\lib\\site-packages\\ipykernel\\ipkernel.py in do_execute(self=<ipykernel.ipkernel.IPythonKernel object>, code='%%time\\nparam_grid = dict(num_leaves=[32,36,40])\\n...f1_scorer, n_jobs=-1)\\ngrid.fit(train_X, train_y)\\n', silent=False, store_history=True, user_expressions={}, allow_stdin=True)\n    203 \n    204         self._forward_input(allow_stdin)\n    205 \n    206         reply_content = {}\n    207         try:\n--> 208             res = shell.run_cell(code, store_history=store_history, silent=silent)\n        res = undefined\n        shell.run_cell = <bound method ZMQInteractiveShell.run_cell of <ipykernel.zmqshell.ZMQInteractiveShell object>>\n        code = '%%time\\nparam_grid = dict(num_leaves=[32,36,40])\\n...f1_scorer, n_jobs=-1)\\ngrid.fit(train_X, train_y)\\n'\n        store_history = True\n        silent = False\n    209         finally:\n    210             self._restore_input()\n    211 \n    212         if res.error_before_exec is not None:\n\n...........................................................................\nc:\\users\\zrankin\\appdata\\local\\continuum\\miniconda3\\envs\\kaggle\\lib\\site-packages\\ipykernel\\zmqshell.py in run_cell(self=<ipykernel.zmqshell.ZMQInteractiveShell object>, *args=('%%time\\nparam_grid = dict(num_leaves=[32,36,40])\\n...f1_scorer, n_jobs=-1)\\ngrid.fit(train_X, train_y)\\n',), **kwargs={'silent': False, 'store_history': True})\n    532             )\n    533         self.payload_manager.write_payload(payload)\n    534 \n    535     def run_cell(self, *args, **kwargs):\n    536         self._last_traceback = None\n--> 537         return super(ZMQInteractiveShell, self).run_cell(*args, **kwargs)\n        self.run_cell = <bound method ZMQInteractiveShell.run_cell of <ipykernel.zmqshell.ZMQInteractiveShell object>>\n        args = ('%%time\\nparam_grid = dict(num_leaves=[32,36,40])\\n...f1_scorer, n_jobs=-1)\\ngrid.fit(train_X, train_y)\\n',)\n        kwargs = {'silent': False, 'store_history': True}\n    538 \n    539     def _showtraceback(self, etype, evalue, stb):\n    540         # try to preserve ordering of tracebacks and print statements\n    541         sys.stdout.flush()\n\n...........................................................................\nc:\\users\\zrankin\\appdata\\local\\continuum\\miniconda3\\envs\\kaggle\\lib\\site-packages\\IPython\\core\\interactiveshell.py in run_cell(self=<ipykernel.zmqshell.ZMQInteractiveShell object>, raw_cell='%%time\\nparam_grid = dict(num_leaves=[32,36,40])\\n...f1_scorer, n_jobs=-1)\\ngrid.fit(train_X, train_y)\\n', store_history=True, silent=False, shell_futures=True)\n   2657         -------\n   2658         result : :class:`ExecutionResult`\n   2659         \"\"\"\n   2660         try:\n   2661             result = self._run_cell(\n-> 2662                 raw_cell, store_history, silent, shell_futures)\n        raw_cell = '%%time\\nparam_grid = dict(num_leaves=[32,36,40])\\n...f1_scorer, n_jobs=-1)\\ngrid.fit(train_X, train_y)\\n'\n        store_history = True\n        silent = False\n        shell_futures = True\n   2663         finally:\n   2664             self.events.trigger('post_execute')\n   2665             if not silent:\n   2666                 self.events.trigger('post_run_cell', result)\n\n...........................................................................\nc:\\users\\zrankin\\appdata\\local\\continuum\\miniconda3\\envs\\kaggle\\lib\\site-packages\\IPython\\core\\interactiveshell.py in _run_cell(self=<ipykernel.zmqshell.ZMQInteractiveShell object>, raw_cell='%%time\\nparam_grid = dict(num_leaves=[32,36,40])\\n...f1_scorer, n_jobs=-1)\\ngrid.fit(train_X, train_y)\\n', store_history=True, silent=False, shell_futures=True)\n   2780                 self.displayhook.exec_result = result\n   2781 \n   2782                 # Execute the user code\n   2783                 interactivity = 'none' if silent else self.ast_node_interactivity\n   2784                 has_raised = self.run_ast_nodes(code_ast.body, cell_name,\n-> 2785                    interactivity=interactivity, compiler=compiler, result=result)\n        interactivity = 'last_expr'\n        compiler = <IPython.core.compilerop.CachingCompiler object>\n   2786                 \n   2787                 self.last_execution_succeeded = not has_raised\n   2788                 self.last_execution_result = result\n   2789 \n\n...........................................................................\nc:\\users\\zrankin\\appdata\\local\\continuum\\miniconda3\\envs\\kaggle\\lib\\site-packages\\IPython\\core\\interactiveshell.py in run_ast_nodes(self=<ipykernel.zmqshell.ZMQInteractiveShell object>, nodelist=[<_ast.Expr object>], cell_name='<ipython-input-118-ccf4e0ac5cf0>', interactivity='last', compiler=<IPython.core.compilerop.CachingCompiler object>, result=<ExecutionResult object at 17938c7fe10, executio...rue silent=False shell_futures=True> result=None>)\n   2902                     return True\n   2903 \n   2904             for i, node in enumerate(to_run_interactive):\n   2905                 mod = ast.Interactive([node])\n   2906                 code = compiler(mod, cell_name, \"single\")\n-> 2907                 if self.run_code(code, result):\n        self.run_code = <bound method InteractiveShell.run_code of <ipykernel.zmqshell.ZMQInteractiveShell object>>\n        code = <code object <module> at 0x0000017938A8BC90, file \"<ipython-input-118-ccf4e0ac5cf0>\", line 1>\n        result = <ExecutionResult object at 17938c7fe10, executio...rue silent=False shell_futures=True> result=None>\n   2908                     return True\n   2909 \n   2910             # Flush softspace\n   2911             if softspace(sys.stdout, 0):\n\n...........................................................................\nc:\\users\\zrankin\\appdata\\local\\continuum\\miniconda3\\envs\\kaggle\\lib\\site-packages\\IPython\\core\\interactiveshell.py in run_code(self=<ipykernel.zmqshell.ZMQInteractiveShell object>, code_obj=<code object <module> at 0x0000017938A8BC90, file \"<ipython-input-118-ccf4e0ac5cf0>\", line 1>, result=<ExecutionResult object at 17938c7fe10, executio...rue silent=False shell_futures=True> result=None>)\n   2956         outflag = True  # happens in more places, so it's easier as default\n   2957         try:\n   2958             try:\n   2959                 self.hooks.pre_run_code_hook()\n   2960                 #rprint('Running code', repr(code_obj)) # dbg\n-> 2961                 exec(code_obj, self.user_global_ns, self.user_ns)\n        code_obj = <code object <module> at 0x0000017938A8BC90, file \"<ipython-input-118-ccf4e0ac5cf0>\", line 1>\n        self.user_global_ns = {'Counter': <class 'collections.Counter'>, 'GridSearchCV': <class 'sklearn.model_selection._search.GridSearchCV'>, 'HyperoptEstimator': <class 'hpsklearn.estimator.hyperopt_estimator'>, 'Imputer': <class 'sklearn.preprocessing.imputation.Imputer'>, 'In': ['', \"import os\\nimport sys\\nimport numpy as np\\nimport p..._ipython().run_line_magic('matplotlib', 'inline')\", '# # Tools for developing code\\n# %load_ext autore...t in sys.path:\\n#     sys.path.append(module_path)', \"train = pd.read_csv('../input/train.csv')\\ntest = pd.read_csv('../input/test.csv')\", 'mapping = {\"yes\": 1, \"no\": 0}\\n\\n# Apply same oper...in[[\\'dependency\\', \\'edjefa\\', \\'edjefe\\']].describe()', \"# Add null Target column to test\\ntest['Target'] ...an\\ndata = train.append(test, ignore_index = True)\", \"# Groupby the household and figure out the numbe...ll have the same target.'.format(len(not_equal)))\", \"# Iterate through each household\\nfor household i...ll have the same target.'.format(len(not_equal)))\", \"# Number of missing in each column\\nmissing = pd....cent', ascending = False).head(10).drop('Target')\", \"# Missing num tablets means you don't have one\\nd...l()\\n\\ndata.loc[data['rez_esc'] > 5, 'rez_esc'] = 5\", \"id_ = ['Id', 'idhogar', 'Target']\\n\\nind_bool = ['...vered every variable: ', len(x) == data.shape[1])\", '# Remove squared variables\\ndata = data.drop(colu...id_ + hh_bool + hh_cont + hh_ordered]\\nheads.shape', '# Create correlation matrix\\ncorr_matrix = heads....lumns if any(abs(upper[column]) > 0.95)]\\n\\nto_drop', \"heads = heads.drop(columns = ['tamhog', 'hogar_t...hhsize-diff'] = heads['tamviv'] - heads['hhsize']\", \"elec = []\\n\\n# Assign values\\nfor i, row in heads.i...ec\\nheads['elec-missing'] = heads['elec'].isnull()\", \"heads = heads.drop(columns = 'area2')\", \"# Wall ordinal variable\\nheads['walls'] = np.argm...nt-per-capita'] = heads['v2a1'] / heads['tamviv']\", 'household_feats = list(heads.columns)', 'ind = data[id_ + ind_bool + ind_ordered]\\nind.shape', '# Create correlation matrix\\ncorr_matrix = ind.co...lumns if any(abs(upper[column]) > 0.95)]\\n\\nto_drop', ...], 'MinMaxScaler': <class 'sklearn.preprocessing.data.MinMaxScaler'>, 'Out': {4:         dependency       edjefa       edjefe\ncou...0000\nmax       8.000000    21.000000    21.000000, 8:               total   percent\nrez_esc       2758...11      0  0.000000\nparentesco12      0  0.000000, 11: (10307, 99), 12: ['coopele', 'area2', 'tamhog', 'hhsize', 'hogar_total'], 18: (33413, 40), 19: ['female'], 22: (33413, 40), 23: count    33413.000000\nmean         1.214886\nstd ...\nmax          2.000000\nName: tech, dtype: float64, 24:           v18q                           dis    ...1   4     4  0.0      0  \n\n[5 rows x 234 columns], 25:            v18q-min  v18q-max  v18q-sum  v18q-co...       0.0            0  \n\n[5 rows x 234 columns], ...}, 'PermutationImportance': <class 'eli5.sklearn.permutation_importance.PermutationImportance'>, 'Pipeline': <class 'sklearn.pipeline.Pipeline'>, 'RFECV': <class 'sklearn.feature_selection.rfe.RFECV'>, ...}\n        self.user_ns = {'Counter': <class 'collections.Counter'>, 'GridSearchCV': <class 'sklearn.model_selection._search.GridSearchCV'>, 'HyperoptEstimator': <class 'hpsklearn.estimator.hyperopt_estimator'>, 'Imputer': <class 'sklearn.preprocessing.imputation.Imputer'>, 'In': ['', \"import os\\nimport sys\\nimport numpy as np\\nimport p..._ipython().run_line_magic('matplotlib', 'inline')\", '# # Tools for developing code\\n# %load_ext autore...t in sys.path:\\n#     sys.path.append(module_path)', \"train = pd.read_csv('../input/train.csv')\\ntest = pd.read_csv('../input/test.csv')\", 'mapping = {\"yes\": 1, \"no\": 0}\\n\\n# Apply same oper...in[[\\'dependency\\', \\'edjefa\\', \\'edjefe\\']].describe()', \"# Add null Target column to test\\ntest['Target'] ...an\\ndata = train.append(test, ignore_index = True)\", \"# Groupby the household and figure out the numbe...ll have the same target.'.format(len(not_equal)))\", \"# Iterate through each household\\nfor household i...ll have the same target.'.format(len(not_equal)))\", \"# Number of missing in each column\\nmissing = pd....cent', ascending = False).head(10).drop('Target')\", \"# Missing num tablets means you don't have one\\nd...l()\\n\\ndata.loc[data['rez_esc'] > 5, 'rez_esc'] = 5\", \"id_ = ['Id', 'idhogar', 'Target']\\n\\nind_bool = ['...vered every variable: ', len(x) == data.shape[1])\", '# Remove squared variables\\ndata = data.drop(colu...id_ + hh_bool + hh_cont + hh_ordered]\\nheads.shape', '# Create correlation matrix\\ncorr_matrix = heads....lumns if any(abs(upper[column]) > 0.95)]\\n\\nto_drop', \"heads = heads.drop(columns = ['tamhog', 'hogar_t...hhsize-diff'] = heads['tamviv'] - heads['hhsize']\", \"elec = []\\n\\n# Assign values\\nfor i, row in heads.i...ec\\nheads['elec-missing'] = heads['elec'].isnull()\", \"heads = heads.drop(columns = 'area2')\", \"# Wall ordinal variable\\nheads['walls'] = np.argm...nt-per-capita'] = heads['v2a1'] / heads['tamviv']\", 'household_feats = list(heads.columns)', 'ind = data[id_ + ind_bool + ind_ordered]\\nind.shape', '# Create correlation matrix\\ncorr_matrix = ind.co...lumns if any(abs(upper[column]) > 0.95)]\\n\\nto_drop', ...], 'MinMaxScaler': <class 'sklearn.preprocessing.data.MinMaxScaler'>, 'Out': {4:         dependency       edjefa       edjefe\ncou...0000\nmax       8.000000    21.000000    21.000000, 8:               total   percent\nrez_esc       2758...11      0  0.000000\nparentesco12      0  0.000000, 11: (10307, 99), 12: ['coopele', 'area2', 'tamhog', 'hhsize', 'hogar_total'], 18: (33413, 40), 19: ['female'], 22: (33413, 40), 23: count    33413.000000\nmean         1.214886\nstd ...\nmax          2.000000\nName: tech, dtype: float64, 24:           v18q                           dis    ...1   4     4  0.0      0  \n\n[5 rows x 234 columns], 25:            v18q-min  v18q-max  v18q-sum  v18q-co...       0.0            0  \n\n[5 rows x 234 columns], ...}, 'PermutationImportance': <class 'eli5.sklearn.permutation_importance.PermutationImportance'>, 'Pipeline': <class 'sklearn.pipeline.Pipeline'>, 'RFECV': <class 'sklearn.feature_selection.rfe.RFECV'>, ...}\n   2962             finally:\n   2963                 # Reset our crash handler in place\n   2964                 sys.excepthook = old_excepthook\n   2965         except SystemExit as e:\n\n...........................................................................\nC:\\Users\\zrankin\\Documents\\github\\poverty_prediction\\notebooks\\<ipython-input-118-ccf4e0ac5cf0> in <module>()\n----> 1 get_ipython().run_cell_magic('time', '', \"param_grid = dict(num_leaves=[32,36,40])\\nparams = {'boosting_type': 'dart', \\n                  'colsample_bytree': 0.88, \\n                  'learning_rate': 0.028, \\n                   'min_child_samples': 10, \\n                   'num_leaves': 36, \\n                   'reg_alpha': 0.76, \\n                   'reg_lambda': 0.43, \\n                   'subsample_for_bin': 40000, \\n                   'subsample': 0.54, \\n                   'class_weight': 'balanced'}\\n\\n\\ngrid = GridSearchCV(model, param_grid=param_grid, fit_params=fit_params, cv=kfold, scoring=f1_scorer, n_jobs=-1)\\ngrid.fit(train_X, train_y)\")\n\n...........................................................................\nc:\\users\\zrankin\\appdata\\local\\continuum\\miniconda3\\envs\\kaggle\\lib\\site-packages\\IPython\\core\\interactiveshell.py in run_cell_magic(self=<ipykernel.zmqshell.ZMQInteractiveShell object>, magic_name='time', line='', cell='param_grid = dict(num_leaves=[32,36,40])\\nparams ...=f1_scorer, n_jobs=-1)\\ngrid.fit(train_X, train_y)')\n   2162             # This will need to be updated if the internal calling logic gets\n   2163             # refactored, or else we'll be expanding the wrong variables.\n   2164             stack_depth = 2\n   2165             magic_arg_s = self.var_expand(line, stack_depth)\n   2166             with self.builtin_trap:\n-> 2167                 result = fn(magic_arg_s, cell)\n        result = undefined\n        fn = <bound method ExecutionMagics.time of <IPython.core.magics.execution.ExecutionMagics object>>\n        magic_arg_s = ''\n        cell = 'param_grid = dict(num_leaves=[32,36,40])\\nparams ...=f1_scorer, n_jobs=-1)\\ngrid.fit(train_X, train_y)'\n   2168             return result\n   2169 \n   2170     def find_line_magic(self, magic_name):\n   2171         \"\"\"Find and return a line magic by name.\n\n...........................................................................\nC:\\Users\\zrankin\\Documents\\github\\poverty_prediction\\notebooks\\<decorator-gen-63> in time(self=<IPython.core.magics.execution.ExecutionMagics object>, line='', cell='param_grid = dict(num_leaves=[32,36,40])\\nparams ...=f1_scorer, n_jobs=-1)\\ngrid.fit(train_X, train_y)', local_ns=None)\n\n...........................................................................\nc:\\users\\zrankin\\appdata\\local\\continuum\\miniconda3\\envs\\kaggle\\lib\\site-packages\\IPython\\core\\magic.py in <lambda>(f=<function ExecutionMagics.time>, *a=(<IPython.core.magics.execution.ExecutionMagics object>, '', 'param_grid = dict(num_leaves=[32,36,40])\\nparams ...=f1_scorer, n_jobs=-1)\\ngrid.fit(train_X, train_y)', None), **k={})\n    182     validate_type(magic_kind)\n    183 \n    184     # This is a closure to capture the magic_kind.  We could also use a class,\n    185     # but it's overkill for just that one bit of state.\n    186     def magic_deco(arg):\n--> 187         call = lambda f, *a, **k: f(*a, **k)\n        f = <function ExecutionMagics.time>\n        a = (<IPython.core.magics.execution.ExecutionMagics object>, '', 'param_grid = dict(num_leaves=[32,36,40])\\nparams ...=f1_scorer, n_jobs=-1)\\ngrid.fit(train_X, train_y)', None)\n        k = {}\n    188 \n    189         if callable(arg):\n    190             # \"Naked\" decorator call (just @foo, no args)\n    191             func = arg\n\n...........................................................................\nc:\\users\\zrankin\\appdata\\local\\continuum\\miniconda3\\envs\\kaggle\\lib\\site-packages\\IPython\\core\\magics\\execution.py in time(self=<IPython.core.magics.execution.ExecutionMagics object>, line='', cell='param_grid = dict(num_leaves=[32,36,40])\\nparams ...=f1_scorer, n_jobs=-1)\\ngrid.fit(train_X, train_y)', local_ns=None)\n   1232                 return\n   1233             end = clock2()\n   1234         else:\n   1235             st = clock2()\n   1236             try:\n-> 1237                 exec(code, glob, local_ns)\n        code = <code object <module> at 0x0000017936AC2B70, file \"<timed exec>\", line 1>\n        glob = {'Counter': <class 'collections.Counter'>, 'GridSearchCV': <class 'sklearn.model_selection._search.GridSearchCV'>, 'HyperoptEstimator': <class 'hpsklearn.estimator.hyperopt_estimator'>, 'Imputer': <class 'sklearn.preprocessing.imputation.Imputer'>, 'In': ['', \"import os\\nimport sys\\nimport numpy as np\\nimport p..._ipython().run_line_magic('matplotlib', 'inline')\", '# # Tools for developing code\\n# %load_ext autore...t in sys.path:\\n#     sys.path.append(module_path)', \"train = pd.read_csv('../input/train.csv')\\ntest = pd.read_csv('../input/test.csv')\", 'mapping = {\"yes\": 1, \"no\": 0}\\n\\n# Apply same oper...in[[\\'dependency\\', \\'edjefa\\', \\'edjefe\\']].describe()', \"# Add null Target column to test\\ntest['Target'] ...an\\ndata = train.append(test, ignore_index = True)\", \"# Groupby the household and figure out the numbe...ll have the same target.'.format(len(not_equal)))\", \"# Iterate through each household\\nfor household i...ll have the same target.'.format(len(not_equal)))\", \"# Number of missing in each column\\nmissing = pd....cent', ascending = False).head(10).drop('Target')\", \"# Missing num tablets means you don't have one\\nd...l()\\n\\ndata.loc[data['rez_esc'] > 5, 'rez_esc'] = 5\", \"id_ = ['Id', 'idhogar', 'Target']\\n\\nind_bool = ['...vered every variable: ', len(x) == data.shape[1])\", '# Remove squared variables\\ndata = data.drop(colu...id_ + hh_bool + hh_cont + hh_ordered]\\nheads.shape', '# Create correlation matrix\\ncorr_matrix = heads....lumns if any(abs(upper[column]) > 0.95)]\\n\\nto_drop', \"heads = heads.drop(columns = ['tamhog', 'hogar_t...hhsize-diff'] = heads['tamviv'] - heads['hhsize']\", \"elec = []\\n\\n# Assign values\\nfor i, row in heads.i...ec\\nheads['elec-missing'] = heads['elec'].isnull()\", \"heads = heads.drop(columns = 'area2')\", \"# Wall ordinal variable\\nheads['walls'] = np.argm...nt-per-capita'] = heads['v2a1'] / heads['tamviv']\", 'household_feats = list(heads.columns)', 'ind = data[id_ + ind_bool + ind_ordered]\\nind.shape', '# Create correlation matrix\\ncorr_matrix = ind.co...lumns if any(abs(upper[column]) > 0.95)]\\n\\nto_drop', ...], 'MinMaxScaler': <class 'sklearn.preprocessing.data.MinMaxScaler'>, 'Out': {4:         dependency       edjefa       edjefe\ncou...0000\nmax       8.000000    21.000000    21.000000, 8:               total   percent\nrez_esc       2758...11      0  0.000000\nparentesco12      0  0.000000, 11: (10307, 99), 12: ['coopele', 'area2', 'tamhog', 'hhsize', 'hogar_total'], 18: (33413, 40), 19: ['female'], 22: (33413, 40), 23: count    33413.000000\nmean         1.214886\nstd ...\nmax          2.000000\nName: tech, dtype: float64, 24:           v18q                           dis    ...1   4     4  0.0      0  \n\n[5 rows x 234 columns], 25:            v18q-min  v18q-max  v18q-sum  v18q-co...       0.0            0  \n\n[5 rows x 234 columns], ...}, 'PermutationImportance': <class 'eli5.sklearn.permutation_importance.PermutationImportance'>, 'Pipeline': <class 'sklearn.pipeline.Pipeline'>, 'RFECV': <class 'sklearn.feature_selection.rfe.RFECV'>, ...}\n        local_ns = None\n   1238             except:\n   1239                 self.shell.showtraceback()\n   1240                 return\n   1241             end = clock2()\n\n...........................................................................\nC:\\Users\\zrankin\\Documents\\github\\poverty_prediction\\notebooks\\<timed exec> in <module>()\n\n...........................................................................\nc:\\users\\zrankin\\appdata\\local\\continuum\\miniconda3\\envs\\kaggle\\lib\\site-packages\\sklearn\\model_selection\\_search.py in fit(self=GridSearchCV(cv=StratifiedKFold(n_splits=5, rand...=make_scorer(f1_score, average=macro), verbose=0), X=array([[0., 0., 1., ..., 0., 0., 0.],\n       [0...., 0., 1.],\n       [0., 0., 1., ..., 0., 0., 0.]]), y=array([4, 3, 3, ..., 4, 4, 4]), groups=None, **fit_params={'early_stopping_rounds': 100, 'eval_set': [(array([[0., 0., 1., ..., 0., 0., 0.],\n       [0...., 0., 0.],\n       [0., 0., 1., ..., 0., 0., 0.]]), array([1, 3, 2, 2, 1, 3, 3, 2, 3, 2, 3, 1, 3, 1,...3, 1, 3, 3, 2, 2, 3, 0, 3, 3, 3, 3], dtype=int64))], 'verbose': False})\n    635                                   return_train_score=self.return_train_score,\n    636                                   return_n_test_samples=True,\n    637                                   return_times=True, return_parameters=False,\n    638                                   error_score=self.error_score)\n    639           for parameters, (train, test) in product(candidate_params,\n--> 640                                                    cv.split(X, y, groups)))\n        cv.split = <bound method StratifiedKFold.split of StratifiedKFold(n_splits=5, random_state=1, shuffle=False)>\n        X = array([[0., 0., 1., ..., 0., 0., 0.],\n       [0...., 0., 1.],\n       [0., 0., 1., ..., 0., 0., 0.]])\n        y = array([4, 3, 3, ..., 4, 4, 4])\n        groups = None\n    641 \n    642         # if one choose to see train score, \"out\" will contain train score info\n    643         if self.return_train_score:\n    644             (train_score_dicts, test_score_dicts, test_sample_counts, fit_time,\n\n...........................................................................\nc:\\users\\zrankin\\appdata\\local\\continuum\\miniconda3\\envs\\kaggle\\lib\\site-packages\\sklearn\\externals\\joblib\\parallel.py in __call__(self=Parallel(n_jobs=-1), iterable=<generator object BaseSearchCV.fit.<locals>.<genexpr>>)\n    784             if pre_dispatch == \"all\" or n_jobs == 1:\n    785                 # The iterable was consumed all at once by the above for loop.\n    786                 # No need to wait for async callbacks to trigger to\n    787                 # consumption.\n    788                 self._iterating = False\n--> 789             self.retrieve()\n        self.retrieve = <bound method Parallel.retrieve of Parallel(n_jobs=-1)>\n    790             # Make sure that we get a last message telling us we are done\n    791             elapsed_time = time.time() - self._start_time\n    792             self._print('Done %3i out of %3i | elapsed: %s finished',\n    793                         (len(self._output), len(self._output),\n\n---------------------------------------------------------------------------\nSub-process traceback:\n---------------------------------------------------------------------------\nValueError                                         Mon Oct  1 08:14:29 2018\nPID: 12832Python 3.6.6: c:\\users\\zrankin\\appdata\\local\\continuum\\miniconda3\\envs\\kaggle\\python.exe\n...........................................................................\nc:\\users\\zrankin\\appdata\\local\\continuum\\miniconda3\\envs\\kaggle\\lib\\site-packages\\sklearn\\externals\\joblib\\parallel.py in __call__(self=<sklearn.externals.joblib.parallel.BatchedCalls object>)\n    126     def __init__(self, iterator_slice):\n    127         self.items = list(iterator_slice)\n    128         self._size = len(self.items)\n    129 \n    130     def __call__(self):\n--> 131         return [func(*args, **kwargs) for func, args, kwargs in self.items]\n        self.items = [(<function _fit_and_score>, (LGBMClassifier(boosting_type='dart', class_weigh...       subsample_for_bin=40000, subsample_freq=0), memmap([[0., 0., 1., ..., 0., 0., 0.],\n        [... 0., 1.],\n        [0., 0., 1., ..., 0., 0., 0.]]), array([4, 3, 3, ..., 4, 4, 4]), {'score': make_scorer(f1_score, average=macro)}, array([ 374,  378,  382, ..., 2226, 2227, 2228]), array([  0,   1,   2,   3,   4,   5,   6,   7,  ..., 459, 462, 464, 465,\n       466, 467, 468, 469]), 0, {'num_leaves': 32}), {'error_score': 'raise', 'fit_params': {'early_stopping_rounds': 100, 'eval_set': [(memmap([[0., 0., 1., ..., 0., 0., 0.],\n        [... 0., 0.],\n        [0., 0., 1., ..., 0., 0., 0.]]), array([1, 3, 2, 2, 1, 3, 3, 2, 3, 2, 3, 1, 3, 1,...3, 1, 3, 3, 2, 2, 3, 0, 3, 3, 3, 3], dtype=int64))], 'verbose': False}, 'return_n_test_samples': True, 'return_parameters': False, 'return_times': True, 'return_train_score': 'warn'})]\n    132 \n    133     def __len__(self):\n    134         return self._size\n    135 \n\n...........................................................................\nc:\\users\\zrankin\\appdata\\local\\continuum\\miniconda3\\envs\\kaggle\\lib\\site-packages\\sklearn\\externals\\joblib\\parallel.py in <listcomp>(.0=<list_iterator object>)\n    126     def __init__(self, iterator_slice):\n    127         self.items = list(iterator_slice)\n    128         self._size = len(self.items)\n    129 \n    130     def __call__(self):\n--> 131         return [func(*args, **kwargs) for func, args, kwargs in self.items]\n        func = <function _fit_and_score>\n        args = (LGBMClassifier(boosting_type='dart', class_weigh...       subsample_for_bin=40000, subsample_freq=0), memmap([[0., 0., 1., ..., 0., 0., 0.],\n        [... 0., 1.],\n        [0., 0., 1., ..., 0., 0., 0.]]), array([4, 3, 3, ..., 4, 4, 4]), {'score': make_scorer(f1_score, average=macro)}, array([ 374,  378,  382, ..., 2226, 2227, 2228]), array([  0,   1,   2,   3,   4,   5,   6,   7,  ..., 459, 462, 464, 465,\n       466, 467, 468, 469]), 0, {'num_leaves': 32})\n        kwargs = {'error_score': 'raise', 'fit_params': {'early_stopping_rounds': 100, 'eval_set': [(memmap([[0., 0., 1., ..., 0., 0., 0.],\n        [... 0., 0.],\n        [0., 0., 1., ..., 0., 0., 0.]]), array([1, 3, 2, 2, 1, 3, 3, 2, 3, 2, 3, 1, 3, 1,...3, 1, 3, 3, 2, 2, 3, 0, 3, 3, 3, 3], dtype=int64))], 'verbose': False}, 'return_n_test_samples': True, 'return_parameters': False, 'return_times': True, 'return_train_score': 'warn'}\n    132 \n    133     def __len__(self):\n    134         return self._size\n    135 \n\n...........................................................................\nc:\\users\\zrankin\\appdata\\local\\continuum\\miniconda3\\envs\\kaggle\\lib\\site-packages\\sklearn\\model_selection\\_validation.py in _fit_and_score(estimator=LGBMClassifier(boosting_type='dart', class_weigh...       subsample_for_bin=40000, subsample_freq=0), X=memmap([[0., 0., 1., ..., 0., 0., 0.],\n        [... 0., 1.],\n        [0., 0., 1., ..., 0., 0., 0.]]), y=array([4, 3, 3, ..., 4, 4, 4]), scorer={'score': make_scorer(f1_score, average=macro)}, train=array([ 374,  378,  382, ..., 2226, 2227, 2228]), test=array([  0,   1,   2,   3,   4,   5,   6,   7,  ..., 459, 462, 464, 465,\n       466, 467, 468, 469]), verbose=0, parameters={'num_leaves': 32}, fit_params={'early_stopping_rounds': 100, 'eval_set': [(memmap([[0., 0., 1., ..., 0., 0., 0.],\n        [... 0., 0.],\n        [0., 0., 1., ..., 0., 0., 0.]]), array([1, 3, 2, 2, 1, 3, 3, 2, 3, 2, 3, 1, 3, 1,...3, 1, 3, 3, 2, 2, 3, 0, 3, 3, 3, 3], dtype=int64))], 'verbose': False}, return_train_score='warn', return_parameters=False, return_n_test_samples=True, return_times=True, error_score='raise')\n    453 \n    454     try:\n    455         if y_train is None:\n    456             estimator.fit(X_train, **fit_params)\n    457         else:\n--> 458             estimator.fit(X_train, y_train, **fit_params)\n        estimator.fit = <bound method LGBMClassifier.fit of LGBMClassifi...      subsample_for_bin=40000, subsample_freq=0)>\n        X_train = memmap([[0., 0., 1., ..., 0., 0., 0.],\n        [... 0., 1.],\n        [0., 0., 1., ..., 0., 0., 0.]])\n        y_train = array([1, 1, 1, ..., 4, 4, 4])\n        fit_params = {'early_stopping_rounds': 100, 'eval_set': [(memmap([[0., 0., 1., ..., 0., 0., 0.],\n        [... 0., 0.],\n        [0., 0., 1., ..., 0., 0., 0.]]), array([1, 3, 2, 2, 1, 3, 3, 2, 3, 2, 3, 1, 3, 1,...3, 1, 3, 3, 2, 2, 3, 0, 3, 3, 3, 3], dtype=int64))], 'verbose': False}\n    459 \n    460     except Exception as e:\n    461         # Note fit time as time until error\n    462         fit_time = time.time() - start_time\n\n...........................................................................\nc:\\users\\zrankin\\appdata\\local\\continuum\\miniconda3\\envs\\kaggle\\lib\\site-packages\\lightgbm\\sklearn.py in fit(self=LGBMClassifier(boosting_type='dart', class_weigh...       subsample_for_bin=40000, subsample_freq=0), X=memmap([[0., 0., 1., ..., 0., 0., 0.],\n        [... 0., 1.],\n        [0., 0., 1., ..., 0., 0., 0.]]), y=array([1, 1, 1, ..., 4, 4, 4]), sample_weight=None, init_score=None, eval_set=[(memmap([[0., 0., 1., ..., 0., 0., 0.],\n        [... 0., 0.],\n        [0., 0., 1., ..., 0., 0., 0.]]), array([1, 3, 2, 2, 1, 3, 3, 2, 3, 2, 3, 1, 3, 1,...3, 1, 3, 3, 2, 2, 3, 0, 3, 3, 3, 3], dtype=int64))], eval_names=None, eval_sample_weight=None, eval_class_weight=None, eval_init_score=None, eval_metric='multi_logloss', early_stopping_rounds=100, verbose=False, feature_name='auto', categorical_feature='auto', callbacks=None)\n    678                 eval_set = [eval_set]\n    679             for i, (valid_x, valid_y) in enumerate(eval_set):\n    680                 if valid_x is X and valid_y is y:\n    681                     eval_set[i] = (valid_x, _y)\n    682                 else:\n--> 683                     eval_set[i] = (valid_x, self._le.transform(valid_y))\n        eval_set = [(memmap([[0., 0., 1., ..., 0., 0., 0.],\n        [... 0., 0.],\n        [0., 0., 1., ..., 0., 0., 0.]]), array([1, 3, 2, 2, 1, 3, 3, 2, 3, 2, 3, 1, 3, 1,...3, 1, 3, 3, 2, 2, 3, 0, 3, 3, 3, 3], dtype=int64))]\n        i = 0\n        valid_x = memmap([[0., 0., 1., ..., 0., 0., 0.],\n        [... 0., 0.],\n        [0., 0., 1., ..., 0., 0., 0.]])\n        self._le.transform = <bound method LabelEncoder.transform of LabelEncoder()>\n        valid_y = array([1, 3, 2, 2, 1, 3, 3, 2, 3, 2, 3, 1, 3, 1,...3, 1, 3, 3, 2, 2, 3, 0, 3, 3, 3, 3], dtype=int64)\n    684 \n    685         super(LGBMClassifier, self).fit(X, _y, sample_weight=sample_weight,\n    686                                         init_score=init_score, eval_set=eval_set,\n    687                                         eval_names=eval_names,\n\n...........................................................................\nc:\\users\\zrankin\\appdata\\local\\continuum\\miniconda3\\envs\\kaggle\\lib\\site-packages\\sklearn\\preprocessing\\label.py in transform(self=LabelEncoder(), y=array([1, 3, 2, 2, 1, 3, 3, 2, 3, 2, 3, 1, 3, 1,...3, 1, 3, 3, 2, 2, 3, 0, 3, 3, 3, 3], dtype=int64))\n    128         y = column_or_1d(y, warn=True)\n    129 \n    130         classes = np.unique(y)\n    131         if len(np.intersect1d(classes, self.classes_)) < len(classes):\n    132             diff = np.setdiff1d(classes, self.classes_)\n--> 133             raise ValueError(\"y contains new labels: %s\" % str(diff))\n        diff = array([0], dtype=int64)\n    134         return np.searchsorted(self.classes_, y)\n    135 \n    136     def inverse_transform(self, y):\n    137         \"\"\"Transform labels back to original encoding.\n\nValueError: y contains new labels: [0]\n___________________________________________________________________________"
     ]
    }
   ],
   "source": [
    "%%time\n",
    "param_grid = dict(num_leaves=[32,36,40])\n",
    "params = {'boosting_type': 'dart', \n",
    "                  'colsample_bytree': 0.88, \n",
    "                  'learning_rate': 0.028, \n",
    "                   'min_child_samples': 10, \n",
    "                   'num_leaves': 36, \n",
    "                   'reg_alpha': 0.76, \n",
    "                   'reg_lambda': 0.43, \n",
    "                   'subsample_for_bin': 40000, \n",
    "                   'subsample': 0.54, \n",
    "                   'class_weight': 'balanced'}\n",
    "\n",
    "\n",
    "grid = GridSearchCV(model, param_grid=param_grid, fit_params=fit_params, cv=kfold, scoring=f1_scorer, n_jobs=-1)\n",
    "grid.fit(train_X, train_y)\n"
   ]
  },
  {
   "cell_type": "code",
   "execution_count": null,
   "metadata": {},
   "outputs": [],
   "source": [
    "grid.best_score_"
   ]
  },
  {
   "cell_type": "code",
   "execution_count": 115,
   "metadata": {},
   "outputs": [
    {
     "data": {
      "text/plain": [
       "LGBMClassifier(boosting_type='dart', class_weight='balanced',\n",
       "        colsample_bytree=0.88, learning_rate=0.028, max_depth=20,\n",
       "        min_child_samples=10, min_child_weight=0.001, min_split_gain=0.0,\n",
       "        n_estimators=10000, n_jobs=-1, num_leaves=31,\n",
       "        objective='multiclass', random_state=10, reg_alpha=0.76,\n",
       "        reg_lambda=0.43, silent=True, subsample=0.54,\n",
       "        subsample_for_bin=40000, subsample_freq=0)"
      ]
     },
     "execution_count": 115,
     "metadata": {},
     "output_type": "execute_result"
    }
   ],
   "source": [
    "grid.best_estimator_"
   ]
  },
  {
   "cell_type": "code",
   "execution_count": null,
   "metadata": {},
   "outputs": [],
   "source": []
  },
  {
   "cell_type": "code",
   "execution_count": null,
   "metadata": {},
   "outputs": [],
   "source": []
  },
  {
   "cell_type": "code",
   "execution_count": 95,
   "metadata": {},
   "outputs": [
    {
     "name": "stdout",
     "output_type": "stream",
     "text": [
      "WARN: OMP_NUM_THREADS=None =>\n",
      "... If you are using openblas if you are using openblas set OMP_NUM_THREADS=1 or risk subprocess calls hanging indefinitely\n"
     ]
    }
   ],
   "source": [
    "from hpsklearn import HyperoptEstimator, any_classifier"
   ]
  },
  {
   "cell_type": "code",
   "execution_count": 97,
   "metadata": {},
   "outputs": [],
   "source": [
    "any_classifier?"
   ]
  },
  {
   "cell_type": "code",
   "execution_count": null,
   "metadata": {},
   "outputs": [],
   "source": [
    "estim = svm.SVC()\n",
    "\n",
    "estim.fit(X_train, y_train)\n",
    "\n",
    "print(estim.score(X_test, y_test))"
   ]
  },
  {
   "cell_type": "code",
   "execution_count": 101,
   "metadata": {},
   "outputs": [],
   "source": [
    "global ITERATION"
   ]
  },
  {
   "cell_type": "code",
   "execution_count": 102,
   "metadata": {},
   "outputs": [
    {
     "ename": "NameError",
     "evalue": "name 'ITERATION' is not defined",
     "output_type": "error",
     "traceback": [
      "\u001b[1;31m---------------------------------------------------------------------------\u001b[0m",
      "\u001b[1;31mNameError\u001b[0m                                 Traceback (most recent call last)",
      "\u001b[1;32m<ipython-input-102-ae1c8d3c1349>\u001b[0m in \u001b[0;36m<module>\u001b[1;34m()\u001b[0m\n\u001b[1;32m----> 1\u001b[1;33m \u001b[0mITERATION\u001b[0m \u001b[1;33m+=\u001b[0m \u001b[1;36m1\u001b[0m\u001b[1;33m\u001b[0m\u001b[0m\n\u001b[0m",
      "\u001b[1;31mNameError\u001b[0m: name 'ITERATION' is not defined"
     ]
    }
   ],
   "source": [
    "ITERATION += 1"
   ]
  },
  {
   "cell_type": "code",
   "execution_count": null,
   "metadata": {},
   "outputs": [],
   "source": []
  },
  {
   "cell_type": "code",
   "execution_count": 132,
   "metadata": {},
   "outputs": [
    {
     "data": {
      "text/plain": [
       "Index(['paredblolad', 'pisomoscer', 'cielorazo', 'lugar1', 'v2a1',\n",
       "       'dependency', 'edjefe', 'edjefa', 'meaneduc', 'overcrowding', 'rooms',\n",
       "       'r4h2', 'r4h3', 'r4m2', 'r4m3', 'r4t1', 'hogar_nin', 'bedrooms',\n",
       "       'qmobilephone', 'walls', 'roof', 'floor', 'walls+roof+floor', 'warning',\n",
       "       'bonus', 'phones-per-capita', 'rooms-per-capita', 'rent-per-capita',\n",
       "       'dis-sum', 'female-std', 'estadocivil7-sum', 'estadocivil7-std',\n",
       "       'parentesco2-std', 'parentesco3-sum', 'instlevel1-sum',\n",
       "       'instlevel2-sum', 'instlevel2-std', 'instlevel3-sum', 'instlevel3-std',\n",
       "       'instlevel4-std', 'instlevel8-sum', 'escolari-min', 'escolari-max',\n",
       "       'escolari-sum', 'escolari-std', 'escolari-range_', 'age-min', 'age-max',\n",
       "       'age-sum', 'age-std', 'age-range_', 'inst-max', 'inst-std',\n",
       "       'inst-range_', 'escolari/age-min', 'escolari/age-max',\n",
       "       'escolari/age-sum', 'escolari/age-std', 'escolari/age-range_',\n",
       "       'inst/age-max', 'inst/age-std', 'inst/age-range_', 'tech-sum'],\n",
       "      dtype='object')"
      ]
     },
     "execution_count": 132,
     "metadata": {},
     "output_type": "execute_result"
    }
   ],
   "source": [
    "selected_features"
   ]
  },
  {
   "cell_type": "code",
   "execution_count": null,
   "metadata": {},
   "outputs": [],
   "source": []
  },
  {
   "cell_type": "code",
   "execution_count": null,
   "metadata": {},
   "outputs": [],
   "source": []
  }
 ],
 "metadata": {
  "kernelspec": {
   "display_name": "Python 3",
   "language": "python",
   "name": "python3"
  },
  "language_info": {
   "codemirror_mode": {
    "name": "ipython",
    "version": 3
   },
   "file_extension": ".py",
   "mimetype": "text/x-python",
   "name": "python",
   "nbconvert_exporter": "python",
   "pygments_lexer": "ipython3",
   "version": "3.6.6"
  }
 },
 "nbformat": 4,
 "nbformat_minor": 2
}
