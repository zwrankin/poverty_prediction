{
 "cells": [
  {
   "cell_type": "markdown",
   "metadata": {},
   "source": [
    "# Quick walkthrough of model development from Random Forest to poorly performing XGBoost"
   ]
  },
  {
   "cell_type": "code",
   "execution_count": 1,
   "metadata": {},
   "outputs": [],
   "source": [
    "import os\n",
    "import sys\n",
    "import numpy as np\n",
    "import pandas as pd\n",
    "import matplotlib.pyplot as plt\n",
    "import seaborn as sns\n",
    "\n",
    "%matplotlib inline"
   ]
  },
  {
   "cell_type": "code",
   "execution_count": 2,
   "metadata": {},
   "outputs": [
    {
     "name": "stderr",
     "output_type": "stream",
     "text": [
      "c:\\users\\zrankin\\appdata\\local\\continuum\\miniconda3\\envs\\kaggle\\lib\\site-packages\\sklearn\\ensemble\\weight_boosting.py:29: DeprecationWarning: numpy.core.umath_tests is an internal NumPy module and should not be imported. It will be removed in a future NumPy release.\n",
      "  from numpy.core.umath_tests import inner1d\n"
     ]
    }
   ],
   "source": [
    "from sklearn.preprocessing import Imputer, StandardScaler\n",
    "from sklearn.pipeline import Pipeline\n",
    "from sklearn.ensemble import RandomForestClassifier\n",
    "from sklearn.model_selection import GridSearchCV\n",
    "from sklearn.feature_selection import SelectFromModel, RFECV\n",
    "\n",
    "from xgboost import XGBClassifier"
   ]
  },
  {
   "cell_type": "code",
   "execution_count": 3,
   "metadata": {},
   "outputs": [],
   "source": [
    "# Tools for developing code\n",
    "%load_ext autoreload \n",
    "%autoreload 2\n",
    "\n",
    "# Add library to path \n",
    "module_path = os.path.abspath(os.path.join('..'))\n",
    "if module_path not in sys.path:\n",
    "    sys.path.append(module_path)\n",
    "    \n",
    "from lib.model import kfold, f1_scorer, load_and_process_training_data\n",
    "from lib.preprocessing import preprocess, run_feature_engineering\n",
    "from lib.visualization import report_cv_scores\n",
    "from lib.visualization import plot_learning_curve\n"
   ]
  },
  {
   "cell_type": "code",
   "execution_count": 4,
   "metadata": {},
   "outputs": [],
   "source": [
    "X_data, y_data = load_and_process_training_data()\n",
    "hh_idx = X_data.parentesco1 == 1"
   ]
  },
  {
   "cell_type": "code",
   "execution_count": 5,
   "metadata": {},
   "outputs": [
    {
     "name": "stdout",
     "output_type": "stream",
     "text": [
      "(2973, 120) (2973,)\n"
     ]
    }
   ],
   "source": [
    "X_train = run_feature_engineering(X_data, level='medium').loc[hh_idx]\n",
    "y_train = y_data.loc[hh_idx]\n",
    "print(X_train.shape, y_train.shape)"
   ]
  },
  {
   "cell_type": "code",
   "execution_count": 27,
   "metadata": {
    "scrolled": true
   },
   "outputs": [
    {
     "data": {
      "text/html": [
       "<div>\n",
       "<style scoped>\n",
       "    .dataframe tbody tr th:only-of-type {\n",
       "        vertical-align: middle;\n",
       "    }\n",
       "\n",
       "    .dataframe tbody tr th {\n",
       "        vertical-align: top;\n",
       "    }\n",
       "\n",
       "    .dataframe thead th {\n",
       "        text-align: right;\n",
       "    }\n",
       "</style>\n",
       "<table border=\"1\" class=\"dataframe\">\n",
       "  <thead>\n",
       "    <tr style=\"text-align: right;\">\n",
       "      <th></th>\n",
       "      <th>v2a1</th>\n",
       "      <th>tipovivi_rank</th>\n",
       "      <th>rent_by_dep</th>\n",
       "      <th>tipovivi4</th>\n",
       "      <th>tipovivi2</th>\n",
       "      <th>rent_by_people</th>\n",
       "      <th>rent_by_rooms</th>\n",
       "      <th>tipovivi5</th>\n",
       "      <th>tipovivi1</th>\n",
       "      <th>tipovivi3</th>\n",
       "      <th>...</th>\n",
       "      <th>phone_per_person_household</th>\n",
       "      <th>v14a</th>\n",
       "      <th>refrig</th>\n",
       "      <th>sanitario1</th>\n",
       "      <th>computer</th>\n",
       "      <th>television</th>\n",
       "      <th>tablet_per_person_household</th>\n",
       "      <th>v18q1</th>\n",
       "      <th>mobilephone</th>\n",
       "      <th>qmobilephone</th>\n",
       "    </tr>\n",
       "  </thead>\n",
       "  <tbody>\n",
       "    <tr>\n",
       "      <th>0</th>\n",
       "      <td>190000.0</td>\n",
       "      <td>3</td>\n",
       "      <td>1000000.0</td>\n",
       "      <td>0</td>\n",
       "      <td>0</td>\n",
       "      <td>190000.0</td>\n",
       "      <td>63333.333333</td>\n",
       "      <td>0</td>\n",
       "      <td>0</td>\n",
       "      <td>1</td>\n",
       "      <td>...</td>\n",
       "      <td>1.00</td>\n",
       "      <td>1</td>\n",
       "      <td>1</td>\n",
       "      <td>0</td>\n",
       "      <td>0</td>\n",
       "      <td>0</td>\n",
       "      <td>0.00</td>\n",
       "      <td>0.0</td>\n",
       "      <td>1</td>\n",
       "      <td>1</td>\n",
       "    </tr>\n",
       "    <tr>\n",
       "      <th>1</th>\n",
       "      <td>135000.0</td>\n",
       "      <td>3</td>\n",
       "      <td>135000.0</td>\n",
       "      <td>0</td>\n",
       "      <td>0</td>\n",
       "      <td>135000.0</td>\n",
       "      <td>33750.000000</td>\n",
       "      <td>0</td>\n",
       "      <td>0</td>\n",
       "      <td>1</td>\n",
       "      <td>...</td>\n",
       "      <td>1.00</td>\n",
       "      <td>1</td>\n",
       "      <td>1</td>\n",
       "      <td>0</td>\n",
       "      <td>0</td>\n",
       "      <td>0</td>\n",
       "      <td>1.00</td>\n",
       "      <td>1.0</td>\n",
       "      <td>1</td>\n",
       "      <td>1</td>\n",
       "    </tr>\n",
       "    <tr>\n",
       "      <th>2</th>\n",
       "      <td>0.0</td>\n",
       "      <td>2</td>\n",
       "      <td>0.0</td>\n",
       "      <td>0</td>\n",
       "      <td>0</td>\n",
       "      <td>0.0</td>\n",
       "      <td>0.000000</td>\n",
       "      <td>0</td>\n",
       "      <td>1</td>\n",
       "      <td>0</td>\n",
       "      <td>...</td>\n",
       "      <td>0.00</td>\n",
       "      <td>1</td>\n",
       "      <td>1</td>\n",
       "      <td>0</td>\n",
       "      <td>0</td>\n",
       "      <td>0</td>\n",
       "      <td>0.00</td>\n",
       "      <td>0.0</td>\n",
       "      <td>0</td>\n",
       "      <td>0</td>\n",
       "    </tr>\n",
       "    <tr>\n",
       "      <th>5</th>\n",
       "      <td>180000.0</td>\n",
       "      <td>3</td>\n",
       "      <td>180000.0</td>\n",
       "      <td>0</td>\n",
       "      <td>0</td>\n",
       "      <td>45000.0</td>\n",
       "      <td>36000.000000</td>\n",
       "      <td>0</td>\n",
       "      <td>0</td>\n",
       "      <td>1</td>\n",
       "      <td>...</td>\n",
       "      <td>0.75</td>\n",
       "      <td>1</td>\n",
       "      <td>1</td>\n",
       "      <td>0</td>\n",
       "      <td>0</td>\n",
       "      <td>0</td>\n",
       "      <td>0.25</td>\n",
       "      <td>1.0</td>\n",
       "      <td>1</td>\n",
       "      <td>3</td>\n",
       "    </tr>\n",
       "    <tr>\n",
       "      <th>8</th>\n",
       "      <td>130000.0</td>\n",
       "      <td>3</td>\n",
       "      <td>130000.0</td>\n",
       "      <td>0</td>\n",
       "      <td>0</td>\n",
       "      <td>32500.0</td>\n",
       "      <td>65000.000000</td>\n",
       "      <td>0</td>\n",
       "      <td>0</td>\n",
       "      <td>1</td>\n",
       "      <td>...</td>\n",
       "      <td>0.25</td>\n",
       "      <td>1</td>\n",
       "      <td>1</td>\n",
       "      <td>0</td>\n",
       "      <td>0</td>\n",
       "      <td>0</td>\n",
       "      <td>0.00</td>\n",
       "      <td>0.0</td>\n",
       "      <td>1</td>\n",
       "      <td>1</td>\n",
       "    </tr>\n",
       "  </tbody>\n",
       "</table>\n",
       "<p>5 rows × 120 columns</p>\n",
       "</div>"
      ],
      "text/plain": [
       "       v2a1  tipovivi_rank  rent_by_dep  tipovivi4  tipovivi2  rent_by_people  \\\n",
       "0  190000.0              3    1000000.0          0          0        190000.0   \n",
       "1  135000.0              3     135000.0          0          0        135000.0   \n",
       "2       0.0              2          0.0          0          0             0.0   \n",
       "5  180000.0              3     180000.0          0          0         45000.0   \n",
       "8  130000.0              3     130000.0          0          0         32500.0   \n",
       "\n",
       "   rent_by_rooms  tipovivi5  tipovivi1  tipovivi3      ...       \\\n",
       "0   63333.333333          0          0          1      ...        \n",
       "1   33750.000000          0          0          1      ...        \n",
       "2       0.000000          0          1          0      ...        \n",
       "5   36000.000000          0          0          1      ...        \n",
       "8   65000.000000          0          0          1      ...        \n",
       "\n",
       "   phone_per_person_household  v14a  refrig  sanitario1  computer  television  \\\n",
       "0                        1.00     1       1           0         0           0   \n",
       "1                        1.00     1       1           0         0           0   \n",
       "2                        0.00     1       1           0         0           0   \n",
       "5                        0.75     1       1           0         0           0   \n",
       "8                        0.25     1       1           0         0           0   \n",
       "\n",
       "   tablet_per_person_household  v18q1  mobilephone  qmobilephone  \n",
       "0                         0.00    0.0            1             1  \n",
       "1                         1.00    1.0            1             1  \n",
       "2                         0.00    0.0            0             0  \n",
       "5                         0.25    1.0            1             3  \n",
       "8                         0.00    0.0            1             1  \n",
       "\n",
       "[5 rows x 120 columns]"
      ]
     },
     "execution_count": 27,
     "metadata": {},
     "output_type": "execute_result"
    }
   ],
   "source": [
    "X_train.head()"
   ]
  },
  {
   "cell_type": "code",
   "execution_count": null,
   "metadata": {},
   "outputs": [],
   "source": []
  },
  {
   "cell_type": "code",
   "execution_count": 6,
   "metadata": {},
   "outputs": [],
   "source": [
    "transformer_pipeline = Pipeline(steps=[\n",
    "                        ('imputer', Imputer(strategy='mean')),\n",
    "                        ('feature_scaler', StandardScaler()),\n",
    "                        ])\n",
    "\n",
    "pipeline = Pipeline(steps=[\n",
    "    ('imputer', Imputer(strategy='mean')),\n",
    "    ('feature_scaler', StandardScaler()),\n",
    "    ('random_forest', RandomForestClassifier(random_state=1))])\n",
    "\n",
    "DEPTHS = [5, 10, 15, 20, 25, 30, 35, 40]\n",
    "param_grid = dict(random_forest__max_depth=DEPTHS)"
   ]
  },
  {
   "cell_type": "code",
   "execution_count": 57,
   "metadata": {},
   "outputs": [
    {
     "name": "stdout",
     "output_type": "stream",
     "text": [
      "Model with rank: 1\n",
      "Mean validation score: 0.359 (std: 0.036)\n",
      "Parameters: {'random_forest__max_depth': 15}\n",
      "\n",
      "Model with rank: 2\n",
      "Mean validation score: 0.339 (std: 0.030)\n",
      "Parameters: {'random_forest__max_depth': 10}\n",
      "\n",
      "Model with rank: 3\n",
      "Mean validation score: 0.337 (std: 0.043)\n",
      "Parameters: {'random_forest__max_depth': 30}\n",
      "\n",
      "Model with rank: 3\n",
      "Mean validation score: 0.337 (std: 0.043)\n",
      "Parameters: {'random_forest__max_depth': 35}\n",
      "\n",
      "Model with rank: 3\n",
      "Mean validation score: 0.337 (std: 0.043)\n",
      "Parameters: {'random_forest__max_depth': 40}\n",
      "\n",
      "Wall time: 5.31 s\n"
     ]
    }
   ],
   "source": [
    "%%time\n",
    "grid = GridSearchCV(pipeline, param_grid=param_grid, cv=kfold, scoring=f1_scorer, n_jobs=-1)\n",
    "grid.fit(X_train, y_train)\n",
    "\n",
    "report_cv_scores(grid.cv_results_)"
   ]
  },
  {
   "cell_type": "code",
   "execution_count": 58,
   "metadata": {},
   "outputs": [
    {
     "data": {
      "text/plain": [
       "<module 'matplotlib.pyplot' from 'c:\\\\users\\\\zrankin\\\\appdata\\\\local\\\\continuum\\\\miniconda3\\\\envs\\\\kaggle\\\\lib\\\\site-packages\\\\matplotlib\\\\pyplot.py'>"
      ]
     },
     "execution_count": 58,
     "metadata": {},
     "output_type": "execute_result"
    },
    {
     "data": {
      "image/png": "[encoded data removed]",
      "text/plain": [
       "<Figure size 432x288 with 1 Axes>"
      ]
     },
     "metadata": {
      "needs_background": "light"
     },
     "output_type": "display_data"
    }
   ],
   "source": [
    "model = grid.best_estimator_\n",
    "model.fit(X_train, y_train)\n",
    "plot_learning_curve(model, 'Learning Curves', X_train, y_train, cv=kfold, scoring=f1_scorer)"
   ]
  },
  {
   "cell_type": "code",
   "execution_count": 59,
   "metadata": {},
   "outputs": [
    {
     "data": {
      "text/html": [
       "<div>\n",
       "<style scoped>\n",
       "    .dataframe tbody tr th:only-of-type {\n",
       "        vertical-align: middle;\n",
       "    }\n",
       "\n",
       "    .dataframe tbody tr th {\n",
       "        vertical-align: top;\n",
       "    }\n",
       "\n",
       "    .dataframe thead th {\n",
       "        text-align: right;\n",
       "    }\n",
       "</style>\n",
       "<table border=\"1\" class=\"dataframe\">\n",
       "  <thead>\n",
       "    <tr style=\"text-align: right;\">\n",
       "      <th></th>\n",
       "      <th>feature</th>\n",
       "      <th>importance</th>\n",
       "    </tr>\n",
       "  </thead>\n",
       "  <tbody>\n",
       "    <tr>\n",
       "      <th>10</th>\n",
       "      <td>meaneduc</td>\n",
       "      <td>0.051422</td>\n",
       "    </tr>\n",
       "    <tr>\n",
       "      <th>22</th>\n",
       "      <td>meaneduc_mean</td>\n",
       "      <td>0.046026</td>\n",
       "    </tr>\n",
       "    <tr>\n",
       "      <th>110</th>\n",
       "      <td>phone_per_person_household</td>\n",
       "      <td>0.034173</td>\n",
       "    </tr>\n",
       "    <tr>\n",
       "      <th>39</th>\n",
       "      <td>age</td>\n",
       "      <td>0.030343</td>\n",
       "    </tr>\n",
       "    <tr>\n",
       "      <th>12</th>\n",
       "      <td>educ_rank</td>\n",
       "      <td>0.024441</td>\n",
       "    </tr>\n",
       "    <tr>\n",
       "      <th>105</th>\n",
       "      <td>female_per_room</td>\n",
       "      <td>0.022261</td>\n",
       "    </tr>\n",
       "    <tr>\n",
       "      <th>11</th>\n",
       "      <td>escolari</td>\n",
       "      <td>0.020897</td>\n",
       "    </tr>\n",
       "    <tr>\n",
       "      <th>68</th>\n",
       "      <td>utility_rank_sum</td>\n",
       "      <td>0.020299</td>\n",
       "    </tr>\n",
       "    <tr>\n",
       "      <th>109</th>\n",
       "      <td>house_utility_vulnerability</td>\n",
       "      <td>0.019657</td>\n",
       "    </tr>\n",
       "    <tr>\n",
       "      <th>104</th>\n",
       "      <td>male_per_room</td>\n",
       "      <td>0.019608</td>\n",
       "    </tr>\n",
       "    <tr>\n",
       "      <th>102</th>\n",
       "      <td>rooms_pc</td>\n",
       "      <td>0.019399</td>\n",
       "    </tr>\n",
       "    <tr>\n",
       "      <th>94</th>\n",
       "      <td>female_per_bedroom</td>\n",
       "      <td>0.018860</td>\n",
       "    </tr>\n",
       "    <tr>\n",
       "      <th>92</th>\n",
       "      <td>calc_dependency</td>\n",
       "      <td>0.018213</td>\n",
       "    </tr>\n",
       "    <tr>\n",
       "      <th>93</th>\n",
       "      <td>child_per_bedroom</td>\n",
       "      <td>0.017377</td>\n",
       "    </tr>\n",
       "    <tr>\n",
       "      <th>29</th>\n",
       "      <td>child_percent</td>\n",
       "      <td>0.017115</td>\n",
       "    </tr>\n",
       "    <tr>\n",
       "      <th>95</th>\n",
       "      <td>male_per_bedroom</td>\n",
       "      <td>0.016941</td>\n",
       "    </tr>\n",
       "    <tr>\n",
       "      <th>119</th>\n",
       "      <td>qmobilephone</td>\n",
       "      <td>0.016648</td>\n",
       "    </tr>\n",
       "    <tr>\n",
       "      <th>103</th>\n",
       "      <td>child_per_room</td>\n",
       "      <td>0.016302</td>\n",
       "    </tr>\n",
       "    <tr>\n",
       "      <th>98</th>\n",
       "      <td>bedrooms_per_person_household</td>\n",
       "      <td>0.016016</td>\n",
       "    </tr>\n",
       "    <tr>\n",
       "      <th>5</th>\n",
       "      <td>rent_by_people</td>\n",
       "      <td>0.015836</td>\n",
       "    </tr>\n",
       "  </tbody>\n",
       "</table>\n",
       "</div>"
      ],
      "text/plain": [
       "                           feature  importance\n",
       "10                        meaneduc    0.051422\n",
       "22                   meaneduc_mean    0.046026\n",
       "110     phone_per_person_household    0.034173\n",
       "39                             age    0.030343\n",
       "12                       educ_rank    0.024441\n",
       "105                female_per_room    0.022261\n",
       "11                        escolari    0.020897\n",
       "68                utility_rank_sum    0.020299\n",
       "109    house_utility_vulnerability    0.019657\n",
       "104                  male_per_room    0.019608\n",
       "102                       rooms_pc    0.019399\n",
       "94              female_per_bedroom    0.018860\n",
       "92                 calc_dependency    0.018213\n",
       "93               child_per_bedroom    0.017377\n",
       "29                   child_percent    0.017115\n",
       "95                male_per_bedroom    0.016941\n",
       "119                   qmobilephone    0.016648\n",
       "103                 child_per_room    0.016302\n",
       "98   bedrooms_per_person_household    0.016016\n",
       "5                   rent_by_people    0.015836"
      ]
     },
     "execution_count": 59,
     "metadata": {},
     "output_type": "execute_result"
    }
   ],
   "source": [
    "estimator = model.steps[-1][1]\n",
    "\n",
    "# WARNING - need to fix for automated feature selection, as column names/orders are not preserved\n",
    "feature_importances = pd.DataFrame({'feature': X_train.columns, 'importance': estimator.feature_importances_})\n",
    "feature_importances = feature_importances.sort_values('importance', ascending=False)\n",
    "feature_importances[:20]"
   ]
  },
  {
   "cell_type": "code",
   "execution_count": 60,
   "metadata": {},
   "outputs": [],
   "source": [
    "X_transformed = transformer_pipeline.fit_transform(X_train)\n",
    "rf = RandomForestClassifier(random_state=1, max_depth=30)\n",
    "feature_selector = RFECV(rf, step = 0.02, cv = kfold, scoring=f1_scorer, n_jobs = -1)\n",
    "\n",
    "feature_selector.fit(X_transformed, y_train)\n",
    "n_features = feature_selector.n_features_"
   ]
  },
  {
   "cell_type": "code",
   "execution_count": 61,
   "metadata": {},
   "outputs": [
    {
     "data": {
      "image/png": "[encoded data removed]",
      "text/plain": [
       "<Figure size 432x288 with 1 Axes>"
      ]
     },
     "metadata": {
      "needs_background": "light"
     },
     "output_type": "display_data"
    }
   ],
   "source": [
    "# Plot number of features VS. cross-validation scores\n",
    "plt.figure()\n",
    "plt.title(f'best number of features: {n_features}')\n",
    "plt.xlabel(\"Number of features selected\")\n",
    "plt.ylabel(\"Cross validation score (nb of correct classifications)\")\n",
    "plt.plot(range(1, len(feature_selector.grid_scores_) + 1), feature_selector.grid_scores_)\n",
    "plt.show()"
   ]
  },
  {
   "cell_type": "code",
   "execution_count": 62,
   "metadata": {},
   "outputs": [
    {
     "data": {
      "text/plain": [
       "10                          meaneduc\n",
       "22                     meaneduc_mean\n",
       "110       phone_per_person_household\n",
       "39                               age\n",
       "12                         educ_rank\n",
       "105                  female_per_room\n",
       "11                          escolari\n",
       "68                  utility_rank_sum\n",
       "109      house_utility_vulnerability\n",
       "104                    male_per_room\n",
       "102                         rooms_pc\n",
       "94                female_per_bedroom\n",
       "92                   calc_dependency\n",
       "93                 child_per_bedroom\n",
       "29                     child_percent\n",
       "95                  male_per_bedroom\n",
       "119                     qmobilephone\n",
       "103                   child_per_room\n",
       "98     bedrooms_per_person_household\n",
       "5                     rent_by_people\n",
       "67                 material_rank_sum\n",
       "28                     adult_percent\n",
       "91                  dependency_count\n",
       "30             r4t1_percent_in_total\n",
       "66               house_material_good\n",
       "2                        rent_by_dep\n",
       "55                         wall_rank\n",
       "45                     adult_percent\n",
       "97                             rooms\n",
       "64                     floor_quality\n",
       "Name: feature, dtype: object"
      ]
     },
     "execution_count": 62,
     "metadata": {},
     "output_type": "execute_result"
    }
   ],
   "source": [
    "# best_features = feature_importances.feature[:n_features]\n",
    "best_features = feature_importances.feature[:30]\n",
    "best_features"
   ]
  },
  {
   "cell_type": "code",
   "execution_count": 63,
   "metadata": {},
   "outputs": [
    {
     "name": "stdout",
     "output_type": "stream",
     "text": [
      "Model with rank: 1\n",
      "Mean validation score: 0.366 (std: 0.018)\n",
      "Parameters: {'random_forest__max_depth': 25}\n",
      "\n",
      "Model with rank: 2\n",
      "Mean validation score: 0.366 (std: 0.019)\n",
      "Parameters: {'random_forest__max_depth': 35}\n",
      "\n",
      "Model with rank: 2\n",
      "Mean validation score: 0.366 (std: 0.019)\n",
      "Parameters: {'random_forest__max_depth': 40}\n",
      "\n",
      "Wall time: 4.57 s\n"
     ]
    }
   ],
   "source": [
    "%%time\n",
    "grid = GridSearchCV(pipeline, param_grid=param_grid, cv=kfold, scoring=f1_scorer, n_jobs=-1)\n",
    "grid.fit(X_train[best_features], y_train)\n",
    "\n",
    "report_cv_scores(grid.cv_results_)"
   ]
  },
  {
   "cell_type": "code",
   "execution_count": 64,
   "metadata": {},
   "outputs": [
    {
     "data": {
      "text/plain": [
       "<module 'matplotlib.pyplot' from 'c:\\\\users\\\\zrankin\\\\appdata\\\\local\\\\continuum\\\\miniconda3\\\\envs\\\\kaggle\\\\lib\\\\site-packages\\\\matplotlib\\\\pyplot.py'>"
      ]
     },
     "execution_count": 64,
     "metadata": {},
     "output_type": "execute_result"
    },
    {
     "data": {
      "image/png": "[encoded data removed]",
      "text/plain": [
       "<Figure size 432x288 with 1 Axes>"
      ]
     },
     "metadata": {
      "needs_background": "light"
     },
     "output_type": "display_data"
    }
   ],
   "source": [
    "model = grid.best_estimator_\n",
    "model.fit(X_train[best_features], y_train)\n",
    "plot_learning_curve(model, 'Learning Curves', X_train[best_features], y_train, cv=kfold, scoring=f1_scorer)"
   ]
  },
  {
   "cell_type": "code",
   "execution_count": null,
   "metadata": {},
   "outputs": [],
   "source": []
  },
  {
   "cell_type": "markdown",
   "metadata": {},
   "source": [
    "## XGBoost with all features"
   ]
  },
  {
   "cell_type": "code",
   "execution_count": 66,
   "metadata": {},
   "outputs": [],
   "source": [
    "pipeline = Pipeline(steps=[\n",
    "    ('imputer', Imputer(strategy='mean')),\n",
    "    ('feature_scaler', StandardScaler()),\n",
    "    ('xgb', XGBClassifier(random_state=1))])\n",
    "\n",
    "param_grid = dict(xgb__max_depth=[30],\n",
    "                  xgb__n_estimators=[100,300,500,1000,2000],\n",
    "                  xgb__learning_rate=[0.01, 0.05, 0.10])"
   ]
  },
  {
   "cell_type": "code",
   "execution_count": 67,
   "metadata": {},
   "outputs": [
    {
     "ename": "NameError",
     "evalue": "name 'report' is not defined",
     "output_type": "error",
     "traceback": [
      "\u001b[1;31m---------------------------------------------------------------------------\u001b[0m",
      "\u001b[1;31mNameError\u001b[0m                                 Traceback (most recent call last)",
      "\u001b[1;32m<timed exec>\u001b[0m in \u001b[0;36m<module>\u001b[1;34m()\u001b[0m\n",
      "\u001b[1;31mNameError\u001b[0m: name 'report' is not defined"
     ]
    }
   ],
   "source": [
    "%%time\n",
    "grid = GridSearchCV(pipeline, param_grid=param_grid, cv=kfold, scoring=f1_scorer, n_jobs=-1)\n",
    "grid.fit(X_train, y_train)\n",
    "\n",
    "report_cv_scores(grid.cv_results_)"
   ]
  },
  {
   "cell_type": "code",
   "execution_count": 68,
   "metadata": {},
   "outputs": [
    {
     "name": "stdout",
     "output_type": "stream",
     "text": [
      "Model with rank: 1\n",
      "Mean validation score: 0.321 (std: 0.081)\n",
      "Parameters: {'xgb__learning_rate': 0.01, 'xgb__max_depth': 30, 'xgb__n_estimators': 100}\n",
      "\n",
      "Model with rank: 2\n",
      "Mean validation score: 0.310 (std: 0.069)\n",
      "Parameters: {'xgb__learning_rate': 0.1, 'xgb__max_depth': 30, 'xgb__n_estimators': 2000}\n",
      "\n",
      "Model with rank: 3\n",
      "Mean validation score: 0.309 (std: 0.073)\n",
      "Parameters: {'xgb__learning_rate': 0.1, 'xgb__max_depth': 30, 'xgb__n_estimators': 1000}\n",
      "\n"
     ]
    }
   ],
   "source": [
    "report_cv_scores(grid.cv_results_)"
   ]
  },
  {
   "cell_type": "code",
   "execution_count": 69,
   "metadata": {},
   "outputs": [
    {
     "data": {
      "text/plain": [
       "<matplotlib.axes._subplots.AxesSubplot at 0x1b84f3cada0>"
      ]
     },
     "execution_count": 69,
     "metadata": {},
     "output_type": "execute_result"
    },
    {
     "data": {
      "image/png": "[encoded data removed]",
      "text/plain": [
       "<Figure size 432x288 with 1 Axes>"
      ]
     },
     "metadata": {
      "needs_background": "light"
     },
     "output_type": "display_data"
    }
   ],
   "source": [
    "results = pd.DataFrame({'n_estimators':grid.cv_results_['param_xgb__n_estimators'].tolist(),\n",
    "                        'learning_rate':grid.cv_results_['param_xgb__learning_rate'].tolist(), \n",
    "                        'mean_test_score':grid.cv_results_['mean_test_score']}) \n",
    "\n",
    "sns.lineplot(x='n_estimators', y='mean_test_score', hue='learning_rate', data=results)"
   ]
  },
  {
   "cell_type": "markdown",
   "metadata": {},
   "source": [
    "## WARNING - this take a long time to run"
   ]
  },
  {
   "cell_type": "code",
   "execution_count": 70,
   "metadata": {},
   "outputs": [],
   "source": [
    "%%time\n",
    "\n",
    "X_transformed = transformer_pipeline.fit_transform(X_train)\n",
    "xgb = XGBClassifier(random_state=1, max_depth=30,n_estimators=1000, learning_rate=0.10)\n",
    "feature_selector = RFECV(xgb, step = 0.02, cv = kfold, scoring=f1_scorer, n_jobs = -1)\n",
    "\n",
    "feature_selector.fit(X_transformed, y_train)\n",
    "n_features = feature_selector.n_features_"
   ]
  },
  {
   "cell_type": "code",
   "execution_count": 71,
   "metadata": {},
   "outputs": [
    {
     "data": {
      "image/png": "[encoded data removed]",
      "text/plain": [
       "<Figure size 432x288 with 1 Axes>"
      ]
     },
     "metadata": {
      "needs_background": "light"
     },
     "output_type": "display_data"
    }
   ],
   "source": [
    "# Plot number of features VS. cross-validation scores\n",
    "plt.figure()\n",
    "plt.title(f'best number of features: {n_features}')\n",
    "plt.xlabel(\"Number of features selected\")\n",
    "plt.ylabel(\"Cross validation score (nb of correct classifications)\")\n",
    "plt.plot(range(1, len(feature_selector.grid_scores_) + 1), feature_selector.grid_scores_)\n",
    "plt.show()"
   ]
  },
  {
   "cell_type": "code",
   "execution_count": 72,
   "metadata": {},
   "outputs": [
    {
     "data": {
      "text/plain": [
       "32"
      ]
     },
     "execution_count": 72,
     "metadata": {},
     "output_type": "execute_result"
    }
   ],
   "source": [
    "feature_selector.n_features_"
   ]
  },
  {
   "attachments": {
    "image.png": {
     "image/png": "[encoded data removed]"
    }
   },
   "cell_type": "markdown",
   "metadata": {},
   "source": [
    "![image.png](attachment:image.png)"
   ]
  },
  {
   "cell_type": "code",
   "execution_count": null,
   "metadata": {},
   "outputs": [],
   "source": []
  },
  {
   "cell_type": "code",
   "execution_count": null,
   "metadata": {},
   "outputs": [],
   "source": []
  },
  {
   "cell_type": "code",
   "execution_count": null,
   "metadata": {},
   "outputs": [],
   "source": []
  },
  {
   "cell_type": "code",
   "execution_count": null,
   "metadata": {},
   "outputs": [],
   "source": []
  },
  {
   "cell_type": "code",
   "execution_count": 16,
   "metadata": {},
   "outputs": [],
   "source": [
    "# TRY LGB\n",
    "import lightgbm as lgb\n",
    "from sklearn.model_selection import cross_val_score"
   ]
  },
  {
   "cell_type": "code",
   "execution_count": 17,
   "metadata": {},
   "outputs": [],
   "source": [
    "X_transformed = transformer_pipeline.fit_transform(X_train)"
   ]
  },
  {
   "cell_type": "code",
   "execution_count": 18,
   "metadata": {},
   "outputs": [],
   "source": [
    "from sklearn.model_selection import train_test_split\n",
    "train_X, test_X, train_y, test_y = train_test_split(X_transformed, y_train, test_size=0.25)"
   ]
  },
  {
   "cell_type": "code",
   "execution_count": 19,
   "metadata": {},
   "outputs": [
    {
     "name": "stdout",
     "output_type": "stream",
     "text": [
      "Cross Validation F1 Score = 0.4064 with std = 0.0162\n",
      "Wall time: 2min 16s\n"
     ]
    }
   ],
   "source": [
    "%%time\n",
    "\n",
    "params = {'boosting_type': 'dart', \n",
    "                  'colsample_bytree': 0.88, \n",
    "                  'learning_rate': 0.028, \n",
    "                   'min_child_samples': 10, \n",
    "                   'num_leaves': 36, 'reg_alpha': 0.76, \n",
    "                   'reg_lambda': 0.43, \n",
    "                   'subsample_for_bin': 40000, \n",
    "                   'subsample': 0.54, \n",
    "                   'class_weight': 'balanced'}\n",
    "\n",
    "model = lgb.LGBMClassifier(**params, objective = 'multiclass', \n",
    "                               n_jobs = -1, n_estimators = 10000,\n",
    "                               random_state = 10)\n",
    "\n",
    "fit_params = {\"eval_set\": [(test_X, test_y)], \n",
    "              \"early_stopping_rounds\": 100, \n",
    "              \"verbose\": False} \n",
    "cv_score = cross_val_score(model, train_X, train_y, cv=kfold, scoring=f1_scorer, n_jobs=-1, fit_params=fit_params)\n",
    "print(f'Cross Validation F1 Score = {round(cv_score.mean(), 4)} with std = {round(cv_score.std(), 4)}')"
   ]
  },
  {
   "cell_type": "code",
   "execution_count": null,
   "metadata": {},
   "outputs": [],
   "source": []
  },
  {
   "cell_type": "code",
   "execution_count": null,
   "metadata": {},
   "outputs": [],
   "source": []
  }
 ],
 "metadata": {
  "kernelspec": {
   "display_name": "Python 3",
   "language": "python",
   "name": "python3"
  },
  "language_info": {
   "codemirror_mode": {
    "name": "ipython",
    "version": 3
   },
   "file_extension": ".py",
   "mimetype": "text/x-python",
   "name": "python",
   "nbconvert_exporter": "python",
   "pygments_lexer": "ipython3",
   "version": "3.6.6"
  }
 },
 "nbformat": 4,
 "nbformat_minor": 2
}
