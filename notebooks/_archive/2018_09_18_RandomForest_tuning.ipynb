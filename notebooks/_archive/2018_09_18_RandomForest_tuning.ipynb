{
 "cells": [
  {
   "cell_type": "markdown",
   "metadata": {},
   "source": [
    "## Tune some hyperparameters for the RandomForest model, specifically with regard to feature engineering (as it will be much quicker to do so here than for the final boosted model)"
   ]
  },
  {
   "cell_type": "code",
   "execution_count": 1,
   "metadata": {},
   "outputs": [],
   "source": [
    "%load_ext autoreload \n",
    "%autoreload 2"
   ]
  },
  {
   "cell_type": "code",
   "execution_count": 2,
   "metadata": {},
   "outputs": [],
   "source": [
    "import os\n",
    "import sys\n",
    "import numpy as np\n",
    "import pandas as pd\n",
    "import matplotlib.pyplot as plt\n",
    "import seaborn as sns\n",
    "\n",
    "pd.options.mode.chained_assignment = None\n",
    "%matplotlib inline"
   ]
  },
  {
   "cell_type": "code",
   "execution_count": 3,
   "metadata": {},
   "outputs": [],
   "source": [
    "from sklearn.model_selection import GridSearchCV\n",
    "from sklearn.model_selection import cross_val_score"
   ]
  },
  {
   "cell_type": "code",
   "execution_count": 4,
   "metadata": {},
   "outputs": [
    {
     "name": "stderr",
     "output_type": "stream",
     "text": [
      "c:\\users\\zrankin\\appdata\\local\\continuum\\miniconda3\\envs\\kaggle\\lib\\site-packages\\sklearn\\ensemble\\weight_boosting.py:29: DeprecationWarning: numpy.core.umath_tests is an internal NumPy module and should not be imported. It will be removed in a future NumPy release.\n",
      "  from numpy.core.umath_tests import inner1d\n"
     ]
    }
   ],
   "source": [
    "# Add library to path \n",
    "module_path = os.path.abspath(os.path.join('..'))\n",
    "if module_path not in sys.path:\n",
    "    sys.path.append(module_path)\n",
    "\n",
    "from lib.model import load_and_process_training_data, full_pipeline\n",
    "from lib.model import param_grid, f1_scorer, kfold\n",
    "\n",
    "\n",
    "# from lib.pipeline import kfold, f1_scorer, FeatureExtractor, FeatureEngineer, LazyProcessing\n",
    "# from lib.visualization import plot_confusion_matrix, plot_learning_curve\n",
    "# from lib.preprocessing import preprocess\n",
    "# import lib.preprocessing as prep"
   ]
  },
  {
   "cell_type": "code",
   "execution_count": null,
   "metadata": {},
   "outputs": [],
   "source": []
  },
  {
   "cell_type": "code",
   "execution_count": 5,
   "metadata": {},
   "outputs": [],
   "source": [
    "X_train, y_train = load_and_process_training_data()"
   ]
  },
  {
   "cell_type": "code",
   "execution_count": 6,
   "metadata": {},
   "outputs": [],
   "source": [
    "# Utility function to report best scores\n",
    "def report(results, n_top=3):\n",
    "    for i in range(1, n_top + 1):\n",
    "        candidates = np.flatnonzero(results['rank_test_score'] == i)\n",
    "        for candidate in candidates:\n",
    "            print(\"Model with rank: {0}\".format(i))\n",
    "            print(\"Mean validation score: {0:.3f} (std: {1:.3f})\".format(\n",
    "                  results['mean_test_score'][candidate],\n",
    "                  results['std_test_score'][candidate]))\n",
    "            print(\"Parameters: {0}\".format(results['params'][candidate]))\n",
    "            print(\"\")"
   ]
  },
  {
   "cell_type": "code",
   "execution_count": 7,
   "metadata": {},
   "outputs": [
    {
     "name": "stdout",
     "output_type": "stream",
     "text": [
      "[0.34982927 0.35392604 0.35392604 0.35162108 0.35666924 0.35666924\n",
      " 0.34470144 0.34103834 0.34103834 0.34270281 0.34961361 0.34952352\n",
      " 0.34508444 0.34306911 0.34413822 0.37075685 0.36802685 0.36802685\n",
      " 0.340078   0.34909245 0.34909245 0.34026924 0.34911804 0.34911804\n",
      " 0.34565687 0.33450553 0.33450553 0.34507026 0.35541103 0.35541103\n",
      " 0.36073066 0.36319663 0.36319663 0.35620335 0.36663517 0.36663517\n",
      " 0.34666913 0.34950306 0.3493883  0.35192484 0.35467037 0.35467037\n",
      " 0.34514176 0.33877141 0.33877141 0.35561408 0.33979591 0.33979591\n",
      " 0.34015361 0.33901633 0.33901633 0.34228058 0.33883845 0.33883845\n",
      " 0.34572546 0.33652091 0.33631689 0.35793608 0.34997573 0.34997573\n",
      " 0.33546571 0.3332384  0.3332384  0.35091121 0.34202103 0.34202103\n",
      " 0.33225529 0.33612811 0.33612811 0.3253158  0.32924226 0.32924226\n",
      " 0.33968871 0.3422702  0.3422702  0.34573665 0.3462956  0.3462956\n",
      " 0.34273681 0.32889554 0.32889554 0.32212361 0.33050225 0.33050225\n",
      " 0.35141542 0.34804358 0.34804358 0.33818641 0.34837039 0.34837039\n",
      " 0.33857743 0.35279047 0.35279047 0.35282538 0.32717582 0.32717582\n",
      " 0.34948135 0.36326598 0.36326598 0.35056433 0.3628879  0.3628879\n",
      " 0.35949977 0.36451448 0.36451448 0.36686324 0.35736897 0.3574958\n",
      " 0.35959641 0.36534101 0.36534101 0.34996741 0.35402    0.352752\n",
      " 0.35978635 0.33939577 0.33939577 0.35175555 0.36056921 0.36056921\n",
      " 0.35803929 0.34409308 0.34409308 0.34150653 0.3413984  0.3413984\n",
      " 0.35837136 0.34856282 0.34856282 0.34795137 0.35203832 0.35203832\n",
      " 0.35300762 0.35991957 0.35991957 0.35705615 0.35989579 0.35989579\n",
      " 0.36533221 0.35609502 0.35609502 0.35013756 0.35617266 0.35617266\n",
      " 0.3397461  0.33218771 0.33536098 0.33210346 0.33642784 0.33642784\n",
      " 0.33038432 0.33121208 0.33121208 0.34397162 0.34243124 0.34041858\n",
      " 0.33799313 0.32978707 0.32978707 0.34046712 0.3472692  0.3472692\n",
      " 0.32630803 0.32634408 0.32634408 0.33270667 0.33697079 0.33697079\n",
      " 0.33190215 0.33744739 0.33744739 0.33833316 0.32491638 0.32466832\n",
      " 0.33738254 0.3544768  0.3544768  0.35736318 0.34511823 0.34511823\n",
      " 0.3329003  0.33980759 0.33980759 0.35529864 0.36178676 0.36178676\n",
      " 0.35167541 0.34229062 0.34229062 0.3441078  0.34842186 0.34842186]\n",
      "{'features__extract_assets__level': 'low', 'features__extract_demog__level': 'low', 'features__extract_educ__level': 'low', 'features__extract_housec__level': 'medium', 'features__extract_houseq__level': 'low', 'features__extract_rent__level': 'medium', 'random_forest__max_depth': 20}\n",
      "Wall time: 37min 30s\n"
     ]
    }
   ],
   "source": [
    "%%time\n",
    "\n",
    "grid = GridSearchCV(full_pipeline, param_grid=param_grid, cv=kfold, scoring=f1_scorer, n_jobs=1)\n",
    "grid.fit(X_train, y_train)\n",
    "\n",
    "print(grid.cv_results_['mean_test_score'])\n",
    "print(grid.best_params_)"
   ]
  },
  {
   "cell_type": "code",
   "execution_count": 8,
   "metadata": {},
   "outputs": [
    {
     "name": "stdout",
     "output_type": "stream",
     "text": [
      "Model with rank: 1\n",
      "Mean validation score: 0.371 (std: 0.022)\n",
      "Parameters: {'features__extract_assets__level': 'low', 'features__extract_demog__level': 'low', 'features__extract_educ__level': 'low', 'features__extract_housec__level': 'medium', 'features__extract_houseq__level': 'low', 'features__extract_rent__level': 'medium', 'random_forest__max_depth': 20}\n",
      "\n",
      "Model with rank: 2\n",
      "Mean validation score: 0.368 (std: 0.016)\n",
      "Parameters: {'features__extract_assets__level': 'low', 'features__extract_demog__level': 'low', 'features__extract_educ__level': 'low', 'features__extract_housec__level': 'medium', 'features__extract_houseq__level': 'low', 'features__extract_rent__level': 'medium', 'random_forest__max_depth': 30}\n",
      "\n",
      "Model with rank: 2\n",
      "Mean validation score: 0.368 (std: 0.016)\n",
      "Parameters: {'features__extract_assets__level': 'low', 'features__extract_demog__level': 'low', 'features__extract_educ__level': 'low', 'features__extract_housec__level': 'medium', 'features__extract_houseq__level': 'low', 'features__extract_rent__level': 'medium', 'random_forest__max_depth': 40}\n",
      "\n"
     ]
    }
   ],
   "source": [
    "report(grid.cv_results_)"
   ]
  },
  {
   "cell_type": "code",
   "execution_count": 9,
   "metadata": {},
   "outputs": [
    {
     "data": {
      "text/plain": [
       "Pipeline(memory=None,\n",
       "     steps=[('features', FeatureUnion(n_jobs=1,\n",
       "       transformer_list=[('extract_rent', FeatureEngineer(func=<function feature_engineer_rent at 0x00000211BE97C840>,\n",
       "        level='medium')), ('extract_educ', FeatureEngineer(func=<function feature_engineer_education at 0x00000211BE97C8C8>,\n",
       "        level...estimators=10, n_jobs=1,\n",
       "            oob_score=False, random_state=1, verbose=0, warm_start=False))])"
      ]
     },
     "execution_count": 9,
     "metadata": {},
     "output_type": "execute_result"
    }
   ],
   "source": [
    "model = grid.best_estimator_\n",
    "model.fit(X_train, y_train)"
   ]
  },
  {
   "cell_type": "code",
   "execution_count": 12,
   "metadata": {},
   "outputs": [
    {
     "name": "stdout",
     "output_type": "stream",
     "text": [
      "Wall time: 1min 22s\n"
     ]
    },
    {
     "data": {
      "image/png": "[encoded data removed]",
      "text/plain": [
       "<Figure size 432x288 with 1 Axes>"
      ]
     },
     "metadata": {
      "needs_background": "light"
     },
     "output_type": "display_data"
    }
   ],
   "source": [
    "%%time\n",
    "from lib.visualization import plot_learning_curve\n",
    "plot_learning_curve(model, 'Learning Curves', X_train, y_train, cv=kfold, scoring=f1_scorer)"
   ]
  },
  {
   "cell_type": "code",
   "execution_count": 10,
   "metadata": {},
   "outputs": [
    {
     "ename": "NameError",
     "evalue": "name 'BREAK' is not defined",
     "output_type": "error",
     "traceback": [
      "\u001b[1;31m---------------------------------------------------------------------------\u001b[0m",
      "\u001b[1;31mNameError\u001b[0m                                 Traceback (most recent call last)",
      "\u001b[1;32m<ipython-input-10-66db536c6cae>\u001b[0m in \u001b[0;36m<module>\u001b[1;34m()\u001b[0m\n\u001b[1;32m----> 1\u001b[1;33m \u001b[0mBREAK\u001b[0m\u001b[1;33m\u001b[0m\u001b[0m\n\u001b[0m",
      "\u001b[1;31mNameError\u001b[0m: name 'BREAK' is not defined"
     ]
    }
   ],
   "source": [
    "BREAK"
   ]
  },
  {
   "cell_type": "markdown",
   "metadata": {},
   "source": [
    "# Why can't I seem to get the right dimensions for feature engineering? "
   ]
  },
  {
   "cell_type": "code",
   "execution_count": null,
   "metadata": {},
   "outputs": [],
   "source": [
    "from lib.preprocessing import run_feature_engineering\n",
    "df = run_feature_engineering(X_train)\n",
    "df.head()"
   ]
  },
  {
   "cell_type": "code",
   "execution_count": null,
   "metadata": {},
   "outputs": [],
   "source": [
    "df.columns.shape"
   ]
  },
  {
   "cell_type": "code",
   "execution_count": null,
   "metadata": {},
   "outputs": [],
   "source": [
    "df.columns.unique().shape"
   ]
  },
  {
   "cell_type": "code",
   "execution_count": null,
   "metadata": {},
   "outputs": [],
   "source": [
    "estimator.feature_importances_.shape"
   ]
  },
  {
   "cell_type": "code",
   "execution_count": null,
   "metadata": {},
   "outputs": [],
   "source": [
    "estimator = model.steps[-1][1]\n",
    "\n",
    "# WARNING - need to fix for automated feature selection, as column names/orders are not preserved\n",
    "feature_importances = pd.DataFrame({'feature': X_train.columns, 'importance': estimator.feature_importances_})\n",
    "feature_importances.sort_values('importance', ascending=False)\n",
    "\n",
    "# estimator.feature_importances_"
   ]
  },
  {
   "cell_type": "code",
   "execution_count": null,
   "metadata": {},
   "outputs": [],
   "source": []
  },
  {
   "cell_type": "code",
   "execution_count": null,
   "metadata": {},
   "outputs": [],
   "source": []
  }
 ],
 "metadata": {
  "kernelspec": {
   "display_name": "Python 3",
   "language": "python",
   "name": "python3"
  },
  "language_info": {
   "codemirror_mode": {
    "name": "ipython",
    "version": 3
   },
   "file_extension": ".py",
   "mimetype": "text/x-python",
   "name": "python",
   "nbconvert_exporter": "python",
   "pygments_lexer": "ipython3",
   "version": "3.6.6"
  }
 },
 "nbformat": 4,
 "nbformat_minor": 2
}
